{
 "cells": [
  {
   "cell_type": "markdown",
   "id": "4e0ef60c",
   "metadata": {},
   "source": [
    "# Predicting heart disease using machine learning\n"
   ]
  },
  {
   "cell_type": "markdown",
   "id": "f6df8ebf",
   "metadata": {},
   "source": [
    "This notebook looks into using various Python-based machine learning and data science libraries in an attempt to build a machine learning model capable of predicting whether or not someone has heart disease based on their medical attributes.\n",
    "\n",
    "We're going to take the following approach:\n",
    "\n",
    "1. Problem definition\n",
    "2. Data\n",
    "3. Evaluation\n",
    "4. Features\n",
    "5. Modelling\n",
    "6. Experimentation"
   ]
  },
  {
   "cell_type": "markdown",
   "id": "8cba8b77",
   "metadata": {},
   "source": [
    "## 1. Problem Definition\n",
    "In a statement,\n",
    "\n",
    "Given clinical parameters about a patient, can we predict whether or not they have heart disease?"
   ]
  },
  {
   "cell_type": "markdown",
   "id": "990e6f28",
   "metadata": {},
   "source": [
    "## 2. Data\n",
    "\n",
    "The original data came from the Cleavland data from the UCI Machine Learning Repository. https://archive.ics.uci.edu/ml/datasets/heart+Disease\n",
    "\n",
    "There is also a version of it available on Kaggle. https://www.kaggle.com/datasets/sumaiyatasmeem/heart-disease-classification-dataset"
   ]
  },
  {
   "cell_type": "markdown",
   "id": "b9892d07",
   "metadata": {},
   "source": [
    "## 3. Evaluation\n",
    "\n",
    "If we can reach 95% accuracy at predicting whether or not a patient has heart disease during the proof of concept, we'll pursue the project."
   ]
  },
  {
   "cell_type": "markdown",
   "id": "390b57f6",
   "metadata": {},
   "source": [
    "## 4. Features\n",
    "\n",
    "This is where you'll get different information about each of the features in your data. You can do this via doing your own research (such as looking at the links above) or by talking to a subject matter expert (someone who knows about the dataset)."
   ]
  },
  {
   "cell_type": "markdown",
   "id": "232c3873",
   "metadata": {},
   "source": [
    "1. age: Displays the age of the individual.\n",
    "\n",
    "2. sex: Displays the gender of the individual using the following format : 1 = male 0 = female\n",
    "\n",
    "3. cp- Chest-pain type: displays the type of chest-pain experienced by the individual using the following format : 0 = typical angina 1 = atypical angina 2 = non — anginal pain 3 = asymptotic\n",
    "\n",
    "4. trestbps- Resting Blood Pressure: displays the resting blood pressure value of an individual in mmHg (unit). anything above 130-140 is typically cause for concern.\n",
    "\n",
    "5. chol- Serum Cholestrol: displays the serum cholesterol in mg/dl (unit)\n",
    "\n",
    "6. fbs- Fasting Blood Sugar: compares the fasting blood sugar value of an individual with 120mg/dl. If fasting blood sugar > 120mg/dl then : 1 (true) else : 0 (false) '>126' mg/dL signals diabetes\n",
    "\n",
    "7. restecg- Resting ECG : displays resting electrocardiographic results 0 = normal 1 = having ST-T wave abnormality 2 = left ventricular hyperthrophy\n",
    "\n",
    "8. thalach- Max heart rate achieved : displays the max heart rate achieved by an individual.\n",
    "\n",
    "9. exang- Exercise induced angina : 1 = yes 0 = no\n",
    "\n",
    "10. oldpeak- ST depression induced by exercise relative to rest: displays the value which is an integer or float.\n",
    "\n",
    "11. slope- Slope of the peak exercise ST segment : 0 = upsloping: better heart rate with excercise (uncommon) 1 = flat: minimal change (typical healthy heart) 2 = downsloping: signs of unhealthy heart\n",
    "\n",
    "12. ca- Number of major vessels (0–3) colored by flourosopy : displays the value as integer or float.\n",
    "\n",
    "13. thal : Displays the thalassemia : 1,3 = normal 6 = fixed defect 7 = reversible defect: no proper blood movement when excercising\n",
    "\n",
    "14. target : Displays whether the individual is suffering from heart disease or not : 1 = yes 0 = no"
   ]
  },
  {
   "cell_type": "markdown",
   "id": "60960150",
   "metadata": {},
   "source": [
    "## Preparing tools"
   ]
  },
  {
   "cell_type": "code",
   "execution_count": 1,
   "id": "260ff5ba",
   "metadata": {},
   "outputs": [
    {
     "name": "stderr",
     "output_type": "stream",
     "text": [
      "C:\\ProgramData\\Anaconda3\\lib\\site-packages\\scipy\\__init__.py:146: UserWarning: A NumPy version >=1.16.5 and <1.23.0 is required for this version of SciPy (detected version 1.26.0\n",
      "  warnings.warn(f\"A NumPy version >={np_minversion} and <{np_maxversion}\"\n"
     ]
    }
   ],
   "source": [
    "import pandas as pd \n",
    "import numpy as np \n",
    "import matplotlib.pyplot as plt\n",
    "import seaborn as sns\n",
    "\n",
    "%matplotlib inline\n",
    "\n",
    "from sklearn.linear_model import LogisticRegression\n",
    "from sklearn.neighbors import KNeighborsClassifier\n",
    "from sklearn.ensemble import RandomForestClassifier\n",
    "\n",
    "from sklearn.model_selection import train_test_split,cross_val_score\n",
    "from sklearn.model_selection import GridSearchCV,RandomizedSearchCV\n",
    "from sklearn.metrics import accuracy_score,precision_score,f1_score,recall_score, classification_report, plot_roc_curve"
   ]
  },
  {
   "cell_type": "markdown",
   "id": "b77c4119",
   "metadata": {},
   "source": [
    "## Load data"
   ]
  },
  {
   "cell_type": "code",
   "execution_count": 2,
   "id": "f6540499",
   "metadata": {
    "scrolled": true
   },
   "outputs": [
    {
     "data": {
      "text/html": [
       "<div>\n",
       "<style scoped>\n",
       "    .dataframe tbody tr th:only-of-type {\n",
       "        vertical-align: middle;\n",
       "    }\n",
       "\n",
       "    .dataframe tbody tr th {\n",
       "        vertical-align: top;\n",
       "    }\n",
       "\n",
       "    .dataframe thead th {\n",
       "        text-align: right;\n",
       "    }\n",
       "</style>\n",
       "<table border=\"1\" class=\"dataframe\">\n",
       "  <thead>\n",
       "    <tr style=\"text-align: right;\">\n",
       "      <th></th>\n",
       "      <th>age</th>\n",
       "      <th>sex</th>\n",
       "      <th>cp</th>\n",
       "      <th>trestbps</th>\n",
       "      <th>chol</th>\n",
       "      <th>fbs</th>\n",
       "      <th>restecg</th>\n",
       "      <th>thalach</th>\n",
       "      <th>exang</th>\n",
       "      <th>oldpeak</th>\n",
       "      <th>slope</th>\n",
       "      <th>ca</th>\n",
       "      <th>thal</th>\n",
       "      <th>target</th>\n",
       "    </tr>\n",
       "  </thead>\n",
       "  <tbody>\n",
       "    <tr>\n",
       "      <th>0</th>\n",
       "      <td>63</td>\n",
       "      <td>1</td>\n",
       "      <td>3</td>\n",
       "      <td>145</td>\n",
       "      <td>233</td>\n",
       "      <td>1</td>\n",
       "      <td>0</td>\n",
       "      <td>150</td>\n",
       "      <td>0</td>\n",
       "      <td>2.3</td>\n",
       "      <td>0</td>\n",
       "      <td>0</td>\n",
       "      <td>1</td>\n",
       "      <td>1</td>\n",
       "    </tr>\n",
       "    <tr>\n",
       "      <th>1</th>\n",
       "      <td>37</td>\n",
       "      <td>1</td>\n",
       "      <td>2</td>\n",
       "      <td>130</td>\n",
       "      <td>250</td>\n",
       "      <td>0</td>\n",
       "      <td>1</td>\n",
       "      <td>187</td>\n",
       "      <td>0</td>\n",
       "      <td>3.5</td>\n",
       "      <td>0</td>\n",
       "      <td>0</td>\n",
       "      <td>2</td>\n",
       "      <td>1</td>\n",
       "    </tr>\n",
       "    <tr>\n",
       "      <th>2</th>\n",
       "      <td>41</td>\n",
       "      <td>0</td>\n",
       "      <td>1</td>\n",
       "      <td>130</td>\n",
       "      <td>204</td>\n",
       "      <td>0</td>\n",
       "      <td>0</td>\n",
       "      <td>172</td>\n",
       "      <td>0</td>\n",
       "      <td>1.4</td>\n",
       "      <td>2</td>\n",
       "      <td>0</td>\n",
       "      <td>2</td>\n",
       "      <td>1</td>\n",
       "    </tr>\n",
       "    <tr>\n",
       "      <th>3</th>\n",
       "      <td>56</td>\n",
       "      <td>1</td>\n",
       "      <td>1</td>\n",
       "      <td>120</td>\n",
       "      <td>236</td>\n",
       "      <td>0</td>\n",
       "      <td>1</td>\n",
       "      <td>178</td>\n",
       "      <td>0</td>\n",
       "      <td>0.8</td>\n",
       "      <td>2</td>\n",
       "      <td>0</td>\n",
       "      <td>2</td>\n",
       "      <td>1</td>\n",
       "    </tr>\n",
       "    <tr>\n",
       "      <th>4</th>\n",
       "      <td>57</td>\n",
       "      <td>0</td>\n",
       "      <td>0</td>\n",
       "      <td>120</td>\n",
       "      <td>354</td>\n",
       "      <td>0</td>\n",
       "      <td>1</td>\n",
       "      <td>163</td>\n",
       "      <td>1</td>\n",
       "      <td>0.6</td>\n",
       "      <td>2</td>\n",
       "      <td>0</td>\n",
       "      <td>2</td>\n",
       "      <td>1</td>\n",
       "    </tr>\n",
       "    <tr>\n",
       "      <th>...</th>\n",
       "      <td>...</td>\n",
       "      <td>...</td>\n",
       "      <td>...</td>\n",
       "      <td>...</td>\n",
       "      <td>...</td>\n",
       "      <td>...</td>\n",
       "      <td>...</td>\n",
       "      <td>...</td>\n",
       "      <td>...</td>\n",
       "      <td>...</td>\n",
       "      <td>...</td>\n",
       "      <td>...</td>\n",
       "      <td>...</td>\n",
       "      <td>...</td>\n",
       "    </tr>\n",
       "    <tr>\n",
       "      <th>298</th>\n",
       "      <td>57</td>\n",
       "      <td>0</td>\n",
       "      <td>0</td>\n",
       "      <td>140</td>\n",
       "      <td>241</td>\n",
       "      <td>0</td>\n",
       "      <td>1</td>\n",
       "      <td>123</td>\n",
       "      <td>1</td>\n",
       "      <td>0.2</td>\n",
       "      <td>1</td>\n",
       "      <td>0</td>\n",
       "      <td>3</td>\n",
       "      <td>0</td>\n",
       "    </tr>\n",
       "    <tr>\n",
       "      <th>299</th>\n",
       "      <td>45</td>\n",
       "      <td>1</td>\n",
       "      <td>3</td>\n",
       "      <td>110</td>\n",
       "      <td>264</td>\n",
       "      <td>0</td>\n",
       "      <td>1</td>\n",
       "      <td>132</td>\n",
       "      <td>0</td>\n",
       "      <td>1.2</td>\n",
       "      <td>1</td>\n",
       "      <td>0</td>\n",
       "      <td>3</td>\n",
       "      <td>0</td>\n",
       "    </tr>\n",
       "    <tr>\n",
       "      <th>300</th>\n",
       "      <td>68</td>\n",
       "      <td>1</td>\n",
       "      <td>0</td>\n",
       "      <td>144</td>\n",
       "      <td>193</td>\n",
       "      <td>1</td>\n",
       "      <td>1</td>\n",
       "      <td>141</td>\n",
       "      <td>0</td>\n",
       "      <td>3.4</td>\n",
       "      <td>1</td>\n",
       "      <td>2</td>\n",
       "      <td>3</td>\n",
       "      <td>0</td>\n",
       "    </tr>\n",
       "    <tr>\n",
       "      <th>301</th>\n",
       "      <td>57</td>\n",
       "      <td>1</td>\n",
       "      <td>0</td>\n",
       "      <td>130</td>\n",
       "      <td>131</td>\n",
       "      <td>0</td>\n",
       "      <td>1</td>\n",
       "      <td>115</td>\n",
       "      <td>1</td>\n",
       "      <td>1.2</td>\n",
       "      <td>1</td>\n",
       "      <td>1</td>\n",
       "      <td>3</td>\n",
       "      <td>0</td>\n",
       "    </tr>\n",
       "    <tr>\n",
       "      <th>302</th>\n",
       "      <td>57</td>\n",
       "      <td>0</td>\n",
       "      <td>1</td>\n",
       "      <td>130</td>\n",
       "      <td>236</td>\n",
       "      <td>0</td>\n",
       "      <td>0</td>\n",
       "      <td>174</td>\n",
       "      <td>0</td>\n",
       "      <td>0.0</td>\n",
       "      <td>1</td>\n",
       "      <td>1</td>\n",
       "      <td>2</td>\n",
       "      <td>0</td>\n",
       "    </tr>\n",
       "  </tbody>\n",
       "</table>\n",
       "<p>303 rows × 14 columns</p>\n",
       "</div>"
      ],
      "text/plain": [
       "     age  sex  cp  trestbps  chol  fbs  restecg  thalach  exang  oldpeak  \\\n",
       "0     63    1   3       145   233    1        0      150      0      2.3   \n",
       "1     37    1   2       130   250    0        1      187      0      3.5   \n",
       "2     41    0   1       130   204    0        0      172      0      1.4   \n",
       "3     56    1   1       120   236    0        1      178      0      0.8   \n",
       "4     57    0   0       120   354    0        1      163      1      0.6   \n",
       "..   ...  ...  ..       ...   ...  ...      ...      ...    ...      ...   \n",
       "298   57    0   0       140   241    0        1      123      1      0.2   \n",
       "299   45    1   3       110   264    0        1      132      0      1.2   \n",
       "300   68    1   0       144   193    1        1      141      0      3.4   \n",
       "301   57    1   0       130   131    0        1      115      1      1.2   \n",
       "302   57    0   1       130   236    0        0      174      0      0.0   \n",
       "\n",
       "     slope  ca  thal  target  \n",
       "0        0   0     1       1  \n",
       "1        0   0     2       1  \n",
       "2        2   0     2       1  \n",
       "3        2   0     2       1  \n",
       "4        2   0     2       1  \n",
       "..     ...  ..   ...     ...  \n",
       "298      1   0     3       0  \n",
       "299      1   0     3       0  \n",
       "300      1   2     3       0  \n",
       "301      1   1     3       0  \n",
       "302      1   1     2       0  \n",
       "\n",
       "[303 rows x 14 columns]"
      ]
     },
     "execution_count": 2,
     "metadata": {},
     "output_type": "execute_result"
    }
   ],
   "source": [
    "df = pd.read_csv('heart-disease.csv')\n",
    "df"
   ]
  },
  {
   "cell_type": "markdown",
   "id": "c848bb57",
   "metadata": {},
   "source": [
    "## Exploratory data analysis (EDA)"
   ]
  },
  {
   "cell_type": "code",
   "execution_count": 3,
   "id": "e6dc28df",
   "metadata": {},
   "outputs": [
    {
     "data": {
      "text/plain": [
       "(303, 14)"
      ]
     },
     "execution_count": 3,
     "metadata": {},
     "output_type": "execute_result"
    }
   ],
   "source": [
    "df.shape"
   ]
  },
  {
   "cell_type": "code",
   "execution_count": 4,
   "id": "eec6369e",
   "metadata": {},
   "outputs": [
    {
     "data": {
      "text/plain": [
       "4242"
      ]
     },
     "execution_count": 4,
     "metadata": {},
     "output_type": "execute_result"
    }
   ],
   "source": [
    "df.size"
   ]
  },
  {
   "cell_type": "code",
   "execution_count": 5,
   "id": "bfe43e81",
   "metadata": {},
   "outputs": [
    {
     "data": {
      "text/plain": [
       "age         0\n",
       "sex         0\n",
       "cp          0\n",
       "trestbps    0\n",
       "chol        0\n",
       "fbs         0\n",
       "restecg     0\n",
       "thalach     0\n",
       "exang       0\n",
       "oldpeak     0\n",
       "slope       0\n",
       "ca          0\n",
       "thal        0\n",
       "target      0\n",
       "dtype: int64"
      ]
     },
     "execution_count": 5,
     "metadata": {},
     "output_type": "execute_result"
    }
   ],
   "source": [
    "df.isna().sum()"
   ]
  },
  {
   "cell_type": "code",
   "execution_count": 6,
   "id": "b1d5196e",
   "metadata": {},
   "outputs": [
    {
     "name": "stdout",
     "output_type": "stream",
     "text": [
      "<class 'pandas.core.frame.DataFrame'>\n",
      "RangeIndex: 303 entries, 0 to 302\n",
      "Data columns (total 14 columns):\n",
      " #   Column    Non-Null Count  Dtype  \n",
      "---  ------    --------------  -----  \n",
      " 0   age       303 non-null    int64  \n",
      " 1   sex       303 non-null    int64  \n",
      " 2   cp        303 non-null    int64  \n",
      " 3   trestbps  303 non-null    int64  \n",
      " 4   chol      303 non-null    int64  \n",
      " 5   fbs       303 non-null    int64  \n",
      " 6   restecg   303 non-null    int64  \n",
      " 7   thalach   303 non-null    int64  \n",
      " 8   exang     303 non-null    int64  \n",
      " 9   oldpeak   303 non-null    float64\n",
      " 10  slope     303 non-null    int64  \n",
      " 11  ca        303 non-null    int64  \n",
      " 12  thal      303 non-null    int64  \n",
      " 13  target    303 non-null    int64  \n",
      "dtypes: float64(1), int64(13)\n",
      "memory usage: 33.3 KB\n"
     ]
    }
   ],
   "source": [
    "df.info()"
   ]
  },
  {
   "cell_type": "code",
   "execution_count": 7,
   "id": "0b46833b",
   "metadata": {},
   "outputs": [
    {
     "data": {
      "text/plain": [
       "age           int64\n",
       "sex           int64\n",
       "cp            int64\n",
       "trestbps      int64\n",
       "chol          int64\n",
       "fbs           int64\n",
       "restecg       int64\n",
       "thalach       int64\n",
       "exang         int64\n",
       "oldpeak     float64\n",
       "slope         int64\n",
       "ca            int64\n",
       "thal          int64\n",
       "target        int64\n",
       "dtype: object"
      ]
     },
     "execution_count": 7,
     "metadata": {},
     "output_type": "execute_result"
    }
   ],
   "source": [
    "df.dtypes"
   ]
  },
  {
   "cell_type": "code",
   "execution_count": 8,
   "id": "6e1fac7b",
   "metadata": {},
   "outputs": [
    {
     "data": {
      "text/html": [
       "<div>\n",
       "<style scoped>\n",
       "    .dataframe tbody tr th:only-of-type {\n",
       "        vertical-align: middle;\n",
       "    }\n",
       "\n",
       "    .dataframe tbody tr th {\n",
       "        vertical-align: top;\n",
       "    }\n",
       "\n",
       "    .dataframe thead th {\n",
       "        text-align: right;\n",
       "    }\n",
       "</style>\n",
       "<table border=\"1\" class=\"dataframe\">\n",
       "  <thead>\n",
       "    <tr style=\"text-align: right;\">\n",
       "      <th></th>\n",
       "      <th>age</th>\n",
       "      <th>sex</th>\n",
       "      <th>cp</th>\n",
       "      <th>trestbps</th>\n",
       "      <th>chol</th>\n",
       "      <th>fbs</th>\n",
       "      <th>restecg</th>\n",
       "      <th>thalach</th>\n",
       "      <th>exang</th>\n",
       "      <th>oldpeak</th>\n",
       "      <th>slope</th>\n",
       "      <th>ca</th>\n",
       "      <th>thal</th>\n",
       "      <th>target</th>\n",
       "    </tr>\n",
       "  </thead>\n",
       "  <tbody>\n",
       "    <tr>\n",
       "      <th>0</th>\n",
       "      <td>63</td>\n",
       "      <td>1</td>\n",
       "      <td>3</td>\n",
       "      <td>145</td>\n",
       "      <td>233</td>\n",
       "      <td>1</td>\n",
       "      <td>0</td>\n",
       "      <td>150</td>\n",
       "      <td>0</td>\n",
       "      <td>2.3</td>\n",
       "      <td>0</td>\n",
       "      <td>0</td>\n",
       "      <td>1</td>\n",
       "      <td>1</td>\n",
       "    </tr>\n",
       "    <tr>\n",
       "      <th>1</th>\n",
       "      <td>37</td>\n",
       "      <td>1</td>\n",
       "      <td>2</td>\n",
       "      <td>130</td>\n",
       "      <td>250</td>\n",
       "      <td>0</td>\n",
       "      <td>1</td>\n",
       "      <td>187</td>\n",
       "      <td>0</td>\n",
       "      <td>3.5</td>\n",
       "      <td>0</td>\n",
       "      <td>0</td>\n",
       "      <td>2</td>\n",
       "      <td>1</td>\n",
       "    </tr>\n",
       "    <tr>\n",
       "      <th>2</th>\n",
       "      <td>41</td>\n",
       "      <td>0</td>\n",
       "      <td>1</td>\n",
       "      <td>130</td>\n",
       "      <td>204</td>\n",
       "      <td>0</td>\n",
       "      <td>0</td>\n",
       "      <td>172</td>\n",
       "      <td>0</td>\n",
       "      <td>1.4</td>\n",
       "      <td>2</td>\n",
       "      <td>0</td>\n",
       "      <td>2</td>\n",
       "      <td>1</td>\n",
       "    </tr>\n",
       "    <tr>\n",
       "      <th>3</th>\n",
       "      <td>56</td>\n",
       "      <td>1</td>\n",
       "      <td>1</td>\n",
       "      <td>120</td>\n",
       "      <td>236</td>\n",
       "      <td>0</td>\n",
       "      <td>1</td>\n",
       "      <td>178</td>\n",
       "      <td>0</td>\n",
       "      <td>0.8</td>\n",
       "      <td>2</td>\n",
       "      <td>0</td>\n",
       "      <td>2</td>\n",
       "      <td>1</td>\n",
       "    </tr>\n",
       "    <tr>\n",
       "      <th>4</th>\n",
       "      <td>57</td>\n",
       "      <td>0</td>\n",
       "      <td>0</td>\n",
       "      <td>120</td>\n",
       "      <td>354</td>\n",
       "      <td>0</td>\n",
       "      <td>1</td>\n",
       "      <td>163</td>\n",
       "      <td>1</td>\n",
       "      <td>0.6</td>\n",
       "      <td>2</td>\n",
       "      <td>0</td>\n",
       "      <td>2</td>\n",
       "      <td>1</td>\n",
       "    </tr>\n",
       "  </tbody>\n",
       "</table>\n",
       "</div>"
      ],
      "text/plain": [
       "   age  sex  cp  trestbps  chol  fbs  restecg  thalach  exang  oldpeak  slope  \\\n",
       "0   63    1   3       145   233    1        0      150      0      2.3      0   \n",
       "1   37    1   2       130   250    0        1      187      0      3.5      0   \n",
       "2   41    0   1       130   204    0        0      172      0      1.4      2   \n",
       "3   56    1   1       120   236    0        1      178      0      0.8      2   \n",
       "4   57    0   0       120   354    0        1      163      1      0.6      2   \n",
       "\n",
       "   ca  thal  target  \n",
       "0   0     1       1  \n",
       "1   0     2       1  \n",
       "2   0     2       1  \n",
       "3   0     2       1  \n",
       "4   0     2       1  "
      ]
     },
     "execution_count": 8,
     "metadata": {},
     "output_type": "execute_result"
    }
   ],
   "source": [
    "df.head()"
   ]
  },
  {
   "cell_type": "code",
   "execution_count": 9,
   "id": "032ff851",
   "metadata": {},
   "outputs": [
    {
     "data": {
      "text/html": [
       "<div>\n",
       "<style scoped>\n",
       "    .dataframe tbody tr th:only-of-type {\n",
       "        vertical-align: middle;\n",
       "    }\n",
       "\n",
       "    .dataframe tbody tr th {\n",
       "        vertical-align: top;\n",
       "    }\n",
       "\n",
       "    .dataframe thead th {\n",
       "        text-align: right;\n",
       "    }\n",
       "</style>\n",
       "<table border=\"1\" class=\"dataframe\">\n",
       "  <thead>\n",
       "    <tr style=\"text-align: right;\">\n",
       "      <th></th>\n",
       "      <th>age</th>\n",
       "      <th>sex</th>\n",
       "      <th>cp</th>\n",
       "      <th>trestbps</th>\n",
       "      <th>chol</th>\n",
       "      <th>fbs</th>\n",
       "      <th>restecg</th>\n",
       "      <th>thalach</th>\n",
       "      <th>exang</th>\n",
       "      <th>oldpeak</th>\n",
       "      <th>slope</th>\n",
       "      <th>ca</th>\n",
       "      <th>thal</th>\n",
       "      <th>target</th>\n",
       "    </tr>\n",
       "  </thead>\n",
       "  <tbody>\n",
       "    <tr>\n",
       "      <th>298</th>\n",
       "      <td>57</td>\n",
       "      <td>0</td>\n",
       "      <td>0</td>\n",
       "      <td>140</td>\n",
       "      <td>241</td>\n",
       "      <td>0</td>\n",
       "      <td>1</td>\n",
       "      <td>123</td>\n",
       "      <td>1</td>\n",
       "      <td>0.2</td>\n",
       "      <td>1</td>\n",
       "      <td>0</td>\n",
       "      <td>3</td>\n",
       "      <td>0</td>\n",
       "    </tr>\n",
       "    <tr>\n",
       "      <th>299</th>\n",
       "      <td>45</td>\n",
       "      <td>1</td>\n",
       "      <td>3</td>\n",
       "      <td>110</td>\n",
       "      <td>264</td>\n",
       "      <td>0</td>\n",
       "      <td>1</td>\n",
       "      <td>132</td>\n",
       "      <td>0</td>\n",
       "      <td>1.2</td>\n",
       "      <td>1</td>\n",
       "      <td>0</td>\n",
       "      <td>3</td>\n",
       "      <td>0</td>\n",
       "    </tr>\n",
       "    <tr>\n",
       "      <th>300</th>\n",
       "      <td>68</td>\n",
       "      <td>1</td>\n",
       "      <td>0</td>\n",
       "      <td>144</td>\n",
       "      <td>193</td>\n",
       "      <td>1</td>\n",
       "      <td>1</td>\n",
       "      <td>141</td>\n",
       "      <td>0</td>\n",
       "      <td>3.4</td>\n",
       "      <td>1</td>\n",
       "      <td>2</td>\n",
       "      <td>3</td>\n",
       "      <td>0</td>\n",
       "    </tr>\n",
       "    <tr>\n",
       "      <th>301</th>\n",
       "      <td>57</td>\n",
       "      <td>1</td>\n",
       "      <td>0</td>\n",
       "      <td>130</td>\n",
       "      <td>131</td>\n",
       "      <td>0</td>\n",
       "      <td>1</td>\n",
       "      <td>115</td>\n",
       "      <td>1</td>\n",
       "      <td>1.2</td>\n",
       "      <td>1</td>\n",
       "      <td>1</td>\n",
       "      <td>3</td>\n",
       "      <td>0</td>\n",
       "    </tr>\n",
       "    <tr>\n",
       "      <th>302</th>\n",
       "      <td>57</td>\n",
       "      <td>0</td>\n",
       "      <td>1</td>\n",
       "      <td>130</td>\n",
       "      <td>236</td>\n",
       "      <td>0</td>\n",
       "      <td>0</td>\n",
       "      <td>174</td>\n",
       "      <td>0</td>\n",
       "      <td>0.0</td>\n",
       "      <td>1</td>\n",
       "      <td>1</td>\n",
       "      <td>2</td>\n",
       "      <td>0</td>\n",
       "    </tr>\n",
       "  </tbody>\n",
       "</table>\n",
       "</div>"
      ],
      "text/plain": [
       "     age  sex  cp  trestbps  chol  fbs  restecg  thalach  exang  oldpeak  \\\n",
       "298   57    0   0       140   241    0        1      123      1      0.2   \n",
       "299   45    1   3       110   264    0        1      132      0      1.2   \n",
       "300   68    1   0       144   193    1        1      141      0      3.4   \n",
       "301   57    1   0       130   131    0        1      115      1      1.2   \n",
       "302   57    0   1       130   236    0        0      174      0      0.0   \n",
       "\n",
       "     slope  ca  thal  target  \n",
       "298      1   0     3       0  \n",
       "299      1   0     3       0  \n",
       "300      1   2     3       0  \n",
       "301      1   1     3       0  \n",
       "302      1   1     2       0  "
      ]
     },
     "execution_count": 9,
     "metadata": {},
     "output_type": "execute_result"
    }
   ],
   "source": [
    "df.tail()"
   ]
  },
  {
   "cell_type": "code",
   "execution_count": 10,
   "id": "88d4d562",
   "metadata": {
    "scrolled": true
   },
   "outputs": [
    {
     "data": {
      "text/plain": [
       "1    165\n",
       "0    138\n",
       "Name: target, dtype: int64"
      ]
     },
     "execution_count": 10,
     "metadata": {},
     "output_type": "execute_result"
    }
   ],
   "source": [
    "df['target'].value_counts()"
   ]
  },
  {
   "cell_type": "code",
   "execution_count": 11,
   "id": "0e28bc4c",
   "metadata": {},
   "outputs": [
    {
     "data": {
      "text/plain": [
       "<AxesSubplot:ylabel='target'>"
      ]
     },
     "execution_count": 11,
     "metadata": {},
     "output_type": "execute_result"
    },
    {
     "data": {
      "image/png": "[encoded data removed]",
      "text/plain": [
       "<Figure size 432x288 with 1 Axes>"
      ]
     },
     "metadata": {},
     "output_type": "display_data"
    }
   ],
   "source": [
    "df['target'].value_counts().plot(kind='pie',autopct='%1.1f%%')"
   ]
  },
  {
   "cell_type": "markdown",
   "id": "27b45d85",
   "metadata": {},
   "source": [
    "In this dataset, there is 165 people that have heart disease while there is 138 people that does not have heart disease"
   ]
  },
  {
   "cell_type": "markdown",
   "id": "dddbf993",
   "metadata": {},
   "source": [
    "### Heart Disease Vs Gender"
   ]
  },
  {
   "cell_type": "code",
   "execution_count": 12,
   "id": "1c8dfc79",
   "metadata": {
    "scrolled": true
   },
   "outputs": [
    {
     "data": {
      "image/png": "[encoded data removed]",
      "text/plain": [
       "<Figure size 720x432 with 1 Axes>"
      ]
     },
     "metadata": {
      "needs_background": "light"
     },
     "output_type": "display_data"
    }
   ],
   "source": [
    "pd.crosstab(df['sex'],df['target']).plot(kind='bar', figsize=(10,6))\n",
    "\n",
    "plt.title('Heart Disease Frequency according to Sex')\n",
    "plt.xlabel('0 = No heart disease, 1 = Have heart disease')\n",
    "plt.ylabel('Frequency')\n",
    "plt.legend(['Female', 'Male']);"
   ]
  },
  {
   "cell_type": "markdown",
   "id": "bfbd92e1",
   "metadata": {},
   "source": [
    "### Age vs Max Heart Rate for Heart Disease"
   ]
  },
  {
   "cell_type": "code",
   "execution_count": 13,
   "id": "26039c35",
   "metadata": {},
   "outputs": [
    {
     "data": {
      "text/plain": [
       "<matplotlib.legend.Legend at 0x132cf5bdd90>"
      ]
     },
     "execution_count": 13,
     "metadata": {},
     "output_type": "execute_result"
    },
    {
     "data": {
      "image/png": "[encoded data removed]",
      "text/plain": [
       "<Figure size 720x432 with 1 Axes>"
      ]
     },
     "metadata": {
      "needs_background": "light"
     },
     "output_type": "display_data"
    }
   ],
   "source": [
    "plt.figure(figsize=(10,6))\n",
    "\n",
    "plt.scatter(df.age[df.target==1],\n",
    "            df.thalach[df.target==1],\n",
    "            c='red')\n",
    "\n",
    "plt.scatter(df.age[df.target==0],\n",
    "            df.thalach[df.target==0],\n",
    "            c='blue')\n",
    "\n",
    "plt.title('Heart Disease in function of Age and Max Hear Data')\n",
    "plt.xlabel('Age')\n",
    "plt.ylabel('Max Heart Rate')\n",
    "plt.legend(['Have heart disease','No heart disease'])"
   ]
  },
  {
   "cell_type": "code",
   "execution_count": 14,
   "id": "470288c8",
   "metadata": {},
   "outputs": [
    {
     "data": {
      "image/png": "[encoded data removed]",
      "text/plain": [
       "<Figure size 432x288 with 1 Axes>"
      ]
     },
     "metadata": {
      "needs_background": "light"
     },
     "output_type": "display_data"
    }
   ],
   "source": [
    "#Check Age distribution\n",
    "df['age'].plot(kind='hist');"
   ]
  },
  {
   "cell_type": "code",
   "execution_count": 15,
   "id": "ba1f2215",
   "metadata": {},
   "outputs": [
    {
     "data": {
      "image/png": "[encoded data removed]",
      "text/plain": [
       "<Figure size 432x288 with 1 Axes>"
      ]
     },
     "metadata": {
      "needs_background": "light"
     },
     "output_type": "display_data"
    }
   ],
   "source": [
    "# Age distribution that have heart disease \n",
    "df.age[df.target==1].plot.hist();"
   ]
  },
  {
   "cell_type": "markdown",
   "id": "2630d230",
   "metadata": {},
   "source": [
    "### Heart Disease Frequency per Chest pain type\n",
    "\n",
    "* 0 = typical angina \n",
    "* 1 = atypical angina \n",
    "* 2 = non — anginal pain \n",
    "* 3 = asymptotic\n"
   ]
  },
  {
   "cell_type": "code",
   "execution_count": 16,
   "id": "0cec1954",
   "metadata": {},
   "outputs": [
    {
     "data": {
      "text/html": [
       "<div>\n",
       "<style scoped>\n",
       "    .dataframe tbody tr th:only-of-type {\n",
       "        vertical-align: middle;\n",
       "    }\n",
       "\n",
       "    .dataframe tbody tr th {\n",
       "        vertical-align: top;\n",
       "    }\n",
       "\n",
       "    .dataframe thead th {\n",
       "        text-align: right;\n",
       "    }\n",
       "</style>\n",
       "<table border=\"1\" class=\"dataframe\">\n",
       "  <thead>\n",
       "    <tr style=\"text-align: right;\">\n",
       "      <th>target</th>\n",
       "      <th>0</th>\n",
       "      <th>1</th>\n",
       "    </tr>\n",
       "    <tr>\n",
       "      <th>cp</th>\n",
       "      <th></th>\n",
       "      <th></th>\n",
       "    </tr>\n",
       "  </thead>\n",
       "  <tbody>\n",
       "    <tr>\n",
       "      <th>0</th>\n",
       "      <td>104</td>\n",
       "      <td>39</td>\n",
       "    </tr>\n",
       "    <tr>\n",
       "      <th>1</th>\n",
       "      <td>9</td>\n",
       "      <td>41</td>\n",
       "    </tr>\n",
       "    <tr>\n",
       "      <th>2</th>\n",
       "      <td>18</td>\n",
       "      <td>69</td>\n",
       "    </tr>\n",
       "    <tr>\n",
       "      <th>3</th>\n",
       "      <td>7</td>\n",
       "      <td>16</td>\n",
       "    </tr>\n",
       "  </tbody>\n",
       "</table>\n",
       "</div>"
      ],
      "text/plain": [
       "target    0   1\n",
       "cp             \n",
       "0       104  39\n",
       "1         9  41\n",
       "2        18  69\n",
       "3         7  16"
      ]
     },
     "execution_count": 16,
     "metadata": {},
     "output_type": "execute_result"
    }
   ],
   "source": [
    "pd.crosstab(df['cp'],df['target'])\n"
   ]
  },
  {
   "cell_type": "code",
   "execution_count": 17,
   "id": "580e7391",
   "metadata": {},
   "outputs": [
    {
     "data": {
      "image/png": "[encoded data removed]",
      "text/plain": [
       "<Figure size 432x288 with 1 Axes>"
      ]
     },
     "metadata": {
      "needs_background": "light"
     },
     "output_type": "display_data"
    }
   ],
   "source": [
    "pd.crosstab(df['cp'],df['target']).plot(kind='bar')\n",
    "\n",
    "plt.title('Heart Disease Frequency Per Chest Pain Type')\n",
    "plt.xlabel('Chest Pain Type')\n",
    "plt.ylabel('Amount')\n",
    "plt.legend(['No Disease','Disease'])\n",
    "plt.xticks(rotation=0);"
   ]
  },
  {
   "cell_type": "markdown",
   "id": "ee865d33",
   "metadata": {},
   "source": [
    "### Correlation Analysis"
   ]
  },
  {
   "cell_type": "code",
   "execution_count": 18,
   "id": "a9ff6ea7",
   "metadata": {},
   "outputs": [
    {
     "data": {
      "text/html": [
       "<div>\n",
       "<style scoped>\n",
       "    .dataframe tbody tr th:only-of-type {\n",
       "        vertical-align: middle;\n",
       "    }\n",
       "\n",
       "    .dataframe tbody tr th {\n",
       "        vertical-align: top;\n",
       "    }\n",
       "\n",
       "    .dataframe thead th {\n",
       "        text-align: right;\n",
       "    }\n",
       "</style>\n",
       "<table border=\"1\" class=\"dataframe\">\n",
       "  <thead>\n",
       "    <tr style=\"text-align: right;\">\n",
       "      <th></th>\n",
       "      <th>age</th>\n",
       "      <th>sex</th>\n",
       "      <th>cp</th>\n",
       "      <th>trestbps</th>\n",
       "      <th>chol</th>\n",
       "      <th>fbs</th>\n",
       "      <th>restecg</th>\n",
       "      <th>thalach</th>\n",
       "      <th>exang</th>\n",
       "      <th>oldpeak</th>\n",
       "      <th>slope</th>\n",
       "      <th>ca</th>\n",
       "      <th>thal</th>\n",
       "      <th>target</th>\n",
       "    </tr>\n",
       "  </thead>\n",
       "  <tbody>\n",
       "    <tr>\n",
       "      <th>age</th>\n",
       "      <td>1.00</td>\n",
       "      <td>-0.10</td>\n",
       "      <td>-0.07</td>\n",
       "      <td>0.28</td>\n",
       "      <td>0.21</td>\n",
       "      <td>0.12</td>\n",
       "      <td>-0.12</td>\n",
       "      <td>-0.40</td>\n",
       "      <td>0.10</td>\n",
       "      <td>0.21</td>\n",
       "      <td>-0.17</td>\n",
       "      <td>0.28</td>\n",
       "      <td>0.07</td>\n",
       "      <td>-0.23</td>\n",
       "    </tr>\n",
       "    <tr>\n",
       "      <th>sex</th>\n",
       "      <td>-0.10</td>\n",
       "      <td>1.00</td>\n",
       "      <td>-0.05</td>\n",
       "      <td>-0.06</td>\n",
       "      <td>-0.20</td>\n",
       "      <td>0.05</td>\n",
       "      <td>-0.06</td>\n",
       "      <td>-0.04</td>\n",
       "      <td>0.14</td>\n",
       "      <td>0.10</td>\n",
       "      <td>-0.03</td>\n",
       "      <td>0.12</td>\n",
       "      <td>0.21</td>\n",
       "      <td>-0.28</td>\n",
       "    </tr>\n",
       "    <tr>\n",
       "      <th>cp</th>\n",
       "      <td>-0.07</td>\n",
       "      <td>-0.05</td>\n",
       "      <td>1.00</td>\n",
       "      <td>0.05</td>\n",
       "      <td>-0.08</td>\n",
       "      <td>0.09</td>\n",
       "      <td>0.04</td>\n",
       "      <td>0.30</td>\n",
       "      <td>-0.39</td>\n",
       "      <td>-0.15</td>\n",
       "      <td>0.12</td>\n",
       "      <td>-0.18</td>\n",
       "      <td>-0.16</td>\n",
       "      <td>0.43</td>\n",
       "    </tr>\n",
       "    <tr>\n",
       "      <th>trestbps</th>\n",
       "      <td>0.28</td>\n",
       "      <td>-0.06</td>\n",
       "      <td>0.05</td>\n",
       "      <td>1.00</td>\n",
       "      <td>0.12</td>\n",
       "      <td>0.18</td>\n",
       "      <td>-0.11</td>\n",
       "      <td>-0.05</td>\n",
       "      <td>0.07</td>\n",
       "      <td>0.19</td>\n",
       "      <td>-0.12</td>\n",
       "      <td>0.10</td>\n",
       "      <td>0.06</td>\n",
       "      <td>-0.14</td>\n",
       "    </tr>\n",
       "    <tr>\n",
       "      <th>chol</th>\n",
       "      <td>0.21</td>\n",
       "      <td>-0.20</td>\n",
       "      <td>-0.08</td>\n",
       "      <td>0.12</td>\n",
       "      <td>1.00</td>\n",
       "      <td>0.01</td>\n",
       "      <td>-0.15</td>\n",
       "      <td>-0.01</td>\n",
       "      <td>0.07</td>\n",
       "      <td>0.05</td>\n",
       "      <td>-0.00</td>\n",
       "      <td>0.07</td>\n",
       "      <td>0.10</td>\n",
       "      <td>-0.09</td>\n",
       "    </tr>\n",
       "    <tr>\n",
       "      <th>fbs</th>\n",
       "      <td>0.12</td>\n",
       "      <td>0.05</td>\n",
       "      <td>0.09</td>\n",
       "      <td>0.18</td>\n",
       "      <td>0.01</td>\n",
       "      <td>1.00</td>\n",
       "      <td>-0.08</td>\n",
       "      <td>-0.01</td>\n",
       "      <td>0.03</td>\n",
       "      <td>0.01</td>\n",
       "      <td>-0.06</td>\n",
       "      <td>0.14</td>\n",
       "      <td>-0.03</td>\n",
       "      <td>-0.03</td>\n",
       "    </tr>\n",
       "    <tr>\n",
       "      <th>restecg</th>\n",
       "      <td>-0.12</td>\n",
       "      <td>-0.06</td>\n",
       "      <td>0.04</td>\n",
       "      <td>-0.11</td>\n",
       "      <td>-0.15</td>\n",
       "      <td>-0.08</td>\n",
       "      <td>1.00</td>\n",
       "      <td>0.04</td>\n",
       "      <td>-0.07</td>\n",
       "      <td>-0.06</td>\n",
       "      <td>0.09</td>\n",
       "      <td>-0.07</td>\n",
       "      <td>-0.01</td>\n",
       "      <td>0.14</td>\n",
       "    </tr>\n",
       "    <tr>\n",
       "      <th>thalach</th>\n",
       "      <td>-0.40</td>\n",
       "      <td>-0.04</td>\n",
       "      <td>0.30</td>\n",
       "      <td>-0.05</td>\n",
       "      <td>-0.01</td>\n",
       "      <td>-0.01</td>\n",
       "      <td>0.04</td>\n",
       "      <td>1.00</td>\n",
       "      <td>-0.38</td>\n",
       "      <td>-0.34</td>\n",
       "      <td>0.39</td>\n",
       "      <td>-0.21</td>\n",
       "      <td>-0.10</td>\n",
       "      <td>0.42</td>\n",
       "    </tr>\n",
       "    <tr>\n",
       "      <th>exang</th>\n",
       "      <td>0.10</td>\n",
       "      <td>0.14</td>\n",
       "      <td>-0.39</td>\n",
       "      <td>0.07</td>\n",
       "      <td>0.07</td>\n",
       "      <td>0.03</td>\n",
       "      <td>-0.07</td>\n",
       "      <td>-0.38</td>\n",
       "      <td>1.00</td>\n",
       "      <td>0.29</td>\n",
       "      <td>-0.26</td>\n",
       "      <td>0.12</td>\n",
       "      <td>0.21</td>\n",
       "      <td>-0.44</td>\n",
       "    </tr>\n",
       "    <tr>\n",
       "      <th>oldpeak</th>\n",
       "      <td>0.21</td>\n",
       "      <td>0.10</td>\n",
       "      <td>-0.15</td>\n",
       "      <td>0.19</td>\n",
       "      <td>0.05</td>\n",
       "      <td>0.01</td>\n",
       "      <td>-0.06</td>\n",
       "      <td>-0.34</td>\n",
       "      <td>0.29</td>\n",
       "      <td>1.00</td>\n",
       "      <td>-0.58</td>\n",
       "      <td>0.22</td>\n",
       "      <td>0.21</td>\n",
       "      <td>-0.43</td>\n",
       "    </tr>\n",
       "    <tr>\n",
       "      <th>slope</th>\n",
       "      <td>-0.17</td>\n",
       "      <td>-0.03</td>\n",
       "      <td>0.12</td>\n",
       "      <td>-0.12</td>\n",
       "      <td>-0.00</td>\n",
       "      <td>-0.06</td>\n",
       "      <td>0.09</td>\n",
       "      <td>0.39</td>\n",
       "      <td>-0.26</td>\n",
       "      <td>-0.58</td>\n",
       "      <td>1.00</td>\n",
       "      <td>-0.08</td>\n",
       "      <td>-0.10</td>\n",
       "      <td>0.35</td>\n",
       "    </tr>\n",
       "    <tr>\n",
       "      <th>ca</th>\n",
       "      <td>0.28</td>\n",
       "      <td>0.12</td>\n",
       "      <td>-0.18</td>\n",
       "      <td>0.10</td>\n",
       "      <td>0.07</td>\n",
       "      <td>0.14</td>\n",
       "      <td>-0.07</td>\n",
       "      <td>-0.21</td>\n",
       "      <td>0.12</td>\n",
       "      <td>0.22</td>\n",
       "      <td>-0.08</td>\n",
       "      <td>1.00</td>\n",
       "      <td>0.15</td>\n",
       "      <td>-0.39</td>\n",
       "    </tr>\n",
       "    <tr>\n",
       "      <th>thal</th>\n",
       "      <td>0.07</td>\n",
       "      <td>0.21</td>\n",
       "      <td>-0.16</td>\n",
       "      <td>0.06</td>\n",
       "      <td>0.10</td>\n",
       "      <td>-0.03</td>\n",
       "      <td>-0.01</td>\n",
       "      <td>-0.10</td>\n",
       "      <td>0.21</td>\n",
       "      <td>0.21</td>\n",
       "      <td>-0.10</td>\n",
       "      <td>0.15</td>\n",
       "      <td>1.00</td>\n",
       "      <td>-0.34</td>\n",
       "    </tr>\n",
       "    <tr>\n",
       "      <th>target</th>\n",
       "      <td>-0.23</td>\n",
       "      <td>-0.28</td>\n",
       "      <td>0.43</td>\n",
       "      <td>-0.14</td>\n",
       "      <td>-0.09</td>\n",
       "      <td>-0.03</td>\n",
       "      <td>0.14</td>\n",
       "      <td>0.42</td>\n",
       "      <td>-0.44</td>\n",
       "      <td>-0.43</td>\n",
       "      <td>0.35</td>\n",
       "      <td>-0.39</td>\n",
       "      <td>-0.34</td>\n",
       "      <td>1.00</td>\n",
       "    </tr>\n",
       "  </tbody>\n",
       "</table>\n",
       "</div>"
      ],
      "text/plain": [
       "           age   sex    cp  trestbps  chol   fbs  restecg  thalach  exang  \\\n",
       "age       1.00 -0.10 -0.07      0.28  0.21  0.12    -0.12    -0.40   0.10   \n",
       "sex      -0.10  1.00 -0.05     -0.06 -0.20  0.05    -0.06    -0.04   0.14   \n",
       "cp       -0.07 -0.05  1.00      0.05 -0.08  0.09     0.04     0.30  -0.39   \n",
       "trestbps  0.28 -0.06  0.05      1.00  0.12  0.18    -0.11    -0.05   0.07   \n",
       "chol      0.21 -0.20 -0.08      0.12  1.00  0.01    -0.15    -0.01   0.07   \n",
       "fbs       0.12  0.05  0.09      0.18  0.01  1.00    -0.08    -0.01   0.03   \n",
       "restecg  -0.12 -0.06  0.04     -0.11 -0.15 -0.08     1.00     0.04  -0.07   \n",
       "thalach  -0.40 -0.04  0.30     -0.05 -0.01 -0.01     0.04     1.00  -0.38   \n",
       "exang     0.10  0.14 -0.39      0.07  0.07  0.03    -0.07    -0.38   1.00   \n",
       "oldpeak   0.21  0.10 -0.15      0.19  0.05  0.01    -0.06    -0.34   0.29   \n",
       "slope    -0.17 -0.03  0.12     -0.12 -0.00 -0.06     0.09     0.39  -0.26   \n",
       "ca        0.28  0.12 -0.18      0.10  0.07  0.14    -0.07    -0.21   0.12   \n",
       "thal      0.07  0.21 -0.16      0.06  0.10 -0.03    -0.01    -0.10   0.21   \n",
       "target   -0.23 -0.28  0.43     -0.14 -0.09 -0.03     0.14     0.42  -0.44   \n",
       "\n",
       "          oldpeak  slope    ca  thal  target  \n",
       "age          0.21  -0.17  0.28  0.07   -0.23  \n",
       "sex          0.10  -0.03  0.12  0.21   -0.28  \n",
       "cp          -0.15   0.12 -0.18 -0.16    0.43  \n",
       "trestbps     0.19  -0.12  0.10  0.06   -0.14  \n",
       "chol         0.05  -0.00  0.07  0.10   -0.09  \n",
       "fbs          0.01  -0.06  0.14 -0.03   -0.03  \n",
       "restecg     -0.06   0.09 -0.07 -0.01    0.14  \n",
       "thalach     -0.34   0.39 -0.21 -0.10    0.42  \n",
       "exang        0.29  -0.26  0.12  0.21   -0.44  \n",
       "oldpeak      1.00  -0.58  0.22  0.21   -0.43  \n",
       "slope       -0.58   1.00 -0.08 -0.10    0.35  \n",
       "ca           0.22  -0.08  1.00  0.15   -0.39  \n",
       "thal         0.21  -0.10  0.15  1.00   -0.34  \n",
       "target      -0.43   0.35 -0.39 -0.34    1.00  "
      ]
     },
     "execution_count": 18,
     "metadata": {},
     "output_type": "execute_result"
    }
   ],
   "source": [
    "corr_matrix = df.corr().round(2)\n",
    "corr_matrix"
   ]
  },
  {
   "cell_type": "code",
   "execution_count": 19,
   "id": "c26d2f56",
   "metadata": {},
   "outputs": [
    {
     "data": {
      "image/png": "[encoded data removed]",
      "text/plain": [
       "<Figure size 1080x720 with 2 Axes>"
      ]
     },
     "metadata": {
      "needs_background": "light"
     },
     "output_type": "display_data"
    }
   ],
   "source": [
    "plt.figure(figsize=(15,10))\n",
    "sns.heatmap(corr_matrix,\n",
    "            annot=True)\n",
    "\n",
    "plt.title('Correlation Matrix');"
   ]
  },
  {
   "cell_type": "markdown",
   "id": "f46805f1",
   "metadata": {},
   "source": [
    "## 5. Modelling"
   ]
  },
  {
   "cell_type": "code",
   "execution_count": 20,
   "id": "a9620ec1",
   "metadata": {},
   "outputs": [
    {
     "data": {
      "text/html": [
       "<div>\n",
       "<style scoped>\n",
       "    .dataframe tbody tr th:only-of-type {\n",
       "        vertical-align: middle;\n",
       "    }\n",
       "\n",
       "    .dataframe tbody tr th {\n",
       "        vertical-align: top;\n",
       "    }\n",
       "\n",
       "    .dataframe thead th {\n",
       "        text-align: right;\n",
       "    }\n",
       "</style>\n",
       "<table border=\"1\" class=\"dataframe\">\n",
       "  <thead>\n",
       "    <tr style=\"text-align: right;\">\n",
       "      <th></th>\n",
       "      <th>age</th>\n",
       "      <th>sex</th>\n",
       "      <th>cp</th>\n",
       "      <th>trestbps</th>\n",
       "      <th>chol</th>\n",
       "      <th>fbs</th>\n",
       "      <th>restecg</th>\n",
       "      <th>thalach</th>\n",
       "      <th>exang</th>\n",
       "      <th>oldpeak</th>\n",
       "      <th>slope</th>\n",
       "      <th>ca</th>\n",
       "      <th>thal</th>\n",
       "      <th>target</th>\n",
       "    </tr>\n",
       "  </thead>\n",
       "  <tbody>\n",
       "    <tr>\n",
       "      <th>0</th>\n",
       "      <td>63</td>\n",
       "      <td>1</td>\n",
       "      <td>3</td>\n",
       "      <td>145</td>\n",
       "      <td>233</td>\n",
       "      <td>1</td>\n",
       "      <td>0</td>\n",
       "      <td>150</td>\n",
       "      <td>0</td>\n",
       "      <td>2.3</td>\n",
       "      <td>0</td>\n",
       "      <td>0</td>\n",
       "      <td>1</td>\n",
       "      <td>1</td>\n",
       "    </tr>\n",
       "    <tr>\n",
       "      <th>1</th>\n",
       "      <td>37</td>\n",
       "      <td>1</td>\n",
       "      <td>2</td>\n",
       "      <td>130</td>\n",
       "      <td>250</td>\n",
       "      <td>0</td>\n",
       "      <td>1</td>\n",
       "      <td>187</td>\n",
       "      <td>0</td>\n",
       "      <td>3.5</td>\n",
       "      <td>0</td>\n",
       "      <td>0</td>\n",
       "      <td>2</td>\n",
       "      <td>1</td>\n",
       "    </tr>\n",
       "    <tr>\n",
       "      <th>2</th>\n",
       "      <td>41</td>\n",
       "      <td>0</td>\n",
       "      <td>1</td>\n",
       "      <td>130</td>\n",
       "      <td>204</td>\n",
       "      <td>0</td>\n",
       "      <td>0</td>\n",
       "      <td>172</td>\n",
       "      <td>0</td>\n",
       "      <td>1.4</td>\n",
       "      <td>2</td>\n",
       "      <td>0</td>\n",
       "      <td>2</td>\n",
       "      <td>1</td>\n",
       "    </tr>\n",
       "    <tr>\n",
       "      <th>3</th>\n",
       "      <td>56</td>\n",
       "      <td>1</td>\n",
       "      <td>1</td>\n",
       "      <td>120</td>\n",
       "      <td>236</td>\n",
       "      <td>0</td>\n",
       "      <td>1</td>\n",
       "      <td>178</td>\n",
       "      <td>0</td>\n",
       "      <td>0.8</td>\n",
       "      <td>2</td>\n",
       "      <td>0</td>\n",
       "      <td>2</td>\n",
       "      <td>1</td>\n",
       "    </tr>\n",
       "    <tr>\n",
       "      <th>4</th>\n",
       "      <td>57</td>\n",
       "      <td>0</td>\n",
       "      <td>0</td>\n",
       "      <td>120</td>\n",
       "      <td>354</td>\n",
       "      <td>0</td>\n",
       "      <td>1</td>\n",
       "      <td>163</td>\n",
       "      <td>1</td>\n",
       "      <td>0.6</td>\n",
       "      <td>2</td>\n",
       "      <td>0</td>\n",
       "      <td>2</td>\n",
       "      <td>1</td>\n",
       "    </tr>\n",
       "  </tbody>\n",
       "</table>\n",
       "</div>"
      ],
      "text/plain": [
       "   age  sex  cp  trestbps  chol  fbs  restecg  thalach  exang  oldpeak  slope  \\\n",
       "0   63    1   3       145   233    1        0      150      0      2.3      0   \n",
       "1   37    1   2       130   250    0        1      187      0      3.5      0   \n",
       "2   41    0   1       130   204    0        0      172      0      1.4      2   \n",
       "3   56    1   1       120   236    0        1      178      0      0.8      2   \n",
       "4   57    0   0       120   354    0        1      163      1      0.6      2   \n",
       "\n",
       "   ca  thal  target  \n",
       "0   0     1       1  \n",
       "1   0     2       1  \n",
       "2   0     2       1  \n",
       "3   0     2       1  \n",
       "4   0     2       1  "
      ]
     },
     "execution_count": 20,
     "metadata": {},
     "output_type": "execute_result"
    }
   ],
   "source": [
    "df.head()"
   ]
  },
  {
   "cell_type": "code",
   "execution_count": 21,
   "id": "58764034",
   "metadata": {},
   "outputs": [],
   "source": [
    "# Split X and y\n",
    "X = df.drop('target',axis=1)\n",
    "y = df['target']\n",
    "\n",
    "#split training and testing data\n",
    "X_train,X_test,y_train,y_test = train_test_split(X,y,test_size=0.2)"
   ]
  },
  {
   "cell_type": "code",
   "execution_count": 22,
   "id": "3ef7ac39",
   "metadata": {},
   "outputs": [],
   "source": [
    "models = {\n",
    "    'Logistic Regression':LogisticRegression(),\n",
    "     'KNN':KNeighborsClassifier(),\n",
    "     'Random Forest':RandomForestClassifier() \n",
    "         }\n",
    "\n",
    "def fit_and_score(models,X_train,X_test,y_train,y_test):\n",
    "    #set random seed\n",
    "    np.random.seed(42)\n",
    "    \n",
    "\n",
    "    #make a dictionary to keep model scores\n",
    "    model_scores={}\n",
    "    \n",
    "    #loop through models\n",
    "    for name,model in models.items():\n",
    "        #fit the model\n",
    "        model.fit(X_train,y_train)\n",
    "        #evaluate\n",
    "        model_scores[name] = model.score(X_test,y_test)\n",
    "    return model_scores"
   ]
  },
  {
   "cell_type": "code",
   "execution_count": 23,
   "id": "f5ccfbfa",
   "metadata": {},
   "outputs": [
    {
     "name": "stderr",
     "output_type": "stream",
     "text": [
      "C:\\ProgramData\\Anaconda3\\lib\\site-packages\\sklearn\\linear_model\\_logistic.py:814: ConvergenceWarning: lbfgs failed to converge (status=1):\n",
      "STOP: TOTAL NO. of ITERATIONS REACHED LIMIT.\n",
      "\n",
      "Increase the number of iterations (max_iter) or scale the data as shown in:\n",
      "    https://scikit-learn.org/stable/modules/preprocessing.html\n",
      "Please also refer to the documentation for alternative solver options:\n",
      "    https://scikit-learn.org/stable/modules/linear_model.html#logistic-regression\n",
      "  n_iter_i = _check_optimize_result(\n"
     ]
    },
    {
     "data": {
      "text/plain": [
       "{'Logistic Regression': 0.8688524590163934,\n",
       " 'KNN': 0.6721311475409836,\n",
       " 'Random Forest': 0.8524590163934426}"
      ]
     },
     "execution_count": 23,
     "metadata": {},
     "output_type": "execute_result"
    }
   ],
   "source": [
    "model_scores = fit_and_score(models = models,\n",
    "                            X_train = X_train,\n",
    "                            X_test = X_test,\n",
    "                            y_train = y_train,\n",
    "                            y_test = y_test)\n",
    "\n",
    "model_scores"
   ]
  },
  {
   "cell_type": "code",
   "execution_count": 24,
   "id": "8445960e",
   "metadata": {},
   "outputs": [
    {
     "data": {
      "image/png": "[encoded data removed]",
      "text/plain": [
       "<Figure size 432x288 with 1 Axes>"
      ]
     },
     "metadata": {
      "needs_background": "light"
     },
     "output_type": "display_data"
    }
   ],
   "source": [
    "#model comparison\n",
    "\n",
    "model_compare = pd.DataFrame(model_scores,index=['accuracy'])\n",
    "model_compare.T.plot(kind='bar',grid=True);"
   ]
  },
  {
   "cell_type": "markdown",
   "id": "85b0c806",
   "metadata": {},
   "source": [
    "Let's look at the followingL\n",
    "* Hyperparameeter tuning\n",
    "* Feature importance\n",
    "* Confusion Matrix\n",
    "* Cross-validation\n",
    "* Precision\n",
    "* Recall\n",
    "* F1 score\n",
    "* Classification report\n",
    "* ROC curve\n",
    "* Area under the curve (AUC)\n",
    "\n",
    "### Hyperparameter  tuning by hand"
   ]
  },
  {
   "cell_type": "code",
   "execution_count": 25,
   "id": "38a46691",
   "metadata": {},
   "outputs": [],
   "source": [
    "# Let's tune KNN\n",
    "\n",
    "train_scores = []\n",
    "test_scores = []\n",
    "\n",
    "# Create a list of different values for n_neighbors\n",
    "\n",
    "neighbors = range(1,21)\n",
    "\n",
    "# setup KNN instance\n",
    "knn = KNeighborsClassifier()\n",
    "\n",
    "#loop through different n_neighbors\n",
    "for i in neighbors:\n",
    "    knn.set_params(n_neighbors=i)\n",
    "    \n",
    "    #fit the model\n",
    "    knn.fit(X_train,y_train)\n",
    "    \n",
    "    #Updata the training scores list\n",
    "    train_scores.append(knn.score(X_train,y_train))\n",
    "    \n",
    "    #Update the testing scores list\n",
    "    test_scores.append(knn.score(X_test,y_test))"
   ]
  },
  {
   "cell_type": "code",
   "execution_count": 26,
   "id": "cc4cb0eb",
   "metadata": {},
   "outputs": [
    {
     "data": {
      "text/plain": [
       "[1.0,\n",
       " 0.7892561983471075,\n",
       " 0.743801652892562,\n",
       " 0.78099173553719,\n",
       " 0.7644628099173554,\n",
       " 0.7603305785123967,\n",
       " 0.7479338842975206,\n",
       " 0.743801652892562,\n",
       " 0.7520661157024794,\n",
       " 0.7148760330578512,\n",
       " 0.7107438016528925,\n",
       " 0.7024793388429752,\n",
       " 0.7107438016528925,\n",
       " 0.6900826446280992,\n",
       " 0.6859504132231405,\n",
       " 0.6818181818181818,\n",
       " 0.7024793388429752,\n",
       " 0.6942148760330579,\n",
       " 0.6859504132231405,\n",
       " 0.6818181818181818]"
      ]
     },
     "execution_count": 26,
     "metadata": {},
     "output_type": "execute_result"
    }
   ],
   "source": [
    "train_scores"
   ]
  },
  {
   "cell_type": "code",
   "execution_count": 27,
   "id": "1560f8b2",
   "metadata": {},
   "outputs": [
    {
     "data": {
      "text/plain": [
       "[0.7213114754098361,\n",
       " 0.6229508196721312,\n",
       " 0.7049180327868853,\n",
       " 0.6557377049180327,\n",
       " 0.6721311475409836,\n",
       " 0.639344262295082,\n",
       " 0.6885245901639344,\n",
       " 0.6721311475409836,\n",
       " 0.7213114754098361,\n",
       " 0.6557377049180327,\n",
       " 0.6721311475409836,\n",
       " 0.6229508196721312,\n",
       " 0.6885245901639344,\n",
       " 0.639344262295082,\n",
       " 0.6721311475409836,\n",
       " 0.7049180327868853,\n",
       " 0.7049180327868853,\n",
       " 0.7213114754098361,\n",
       " 0.7377049180327869,\n",
       " 0.7377049180327869]"
      ]
     },
     "execution_count": 27,
     "metadata": {},
     "output_type": "execute_result"
    }
   ],
   "source": [
    "test_scores"
   ]
  },
  {
   "cell_type": "code",
   "execution_count": 28,
   "id": "9f1ddfc6",
   "metadata": {},
   "outputs": [
    {
     "name": "stdout",
     "output_type": "stream",
     "text": [
      "0.7377049180327869\n"
     ]
    },
    {
     "data": {
      "image/png": "[encoded data removed]",
      "text/plain": [
       "<Figure size 432x288 with 1 Axes>"
      ]
     },
     "metadata": {
      "needs_background": "light"
     },
     "output_type": "display_data"
    }
   ],
   "source": [
    "plt.plot(neighbors,train_scores,label='Train Score')\n",
    "plt.plot(neighbors,test_scores,label='Test Score')\n",
    "plt.xlabel('Number of neighbors')\n",
    "plt.ylabel('Model Score')\n",
    "plt.legend()\n",
    "plt.xticks(np.arange(1,21,1))\n",
    "print(max(test_scores))"
   ]
  },
  {
   "cell_type": "markdown",
   "id": "14c59557",
   "metadata": {},
   "source": [
    "### Hyperparameter tuning with RandomizedSearchCV\n",
    "\n",
    "We re going to tune:\n",
    "* LogisticRegression()\n",
    "* RandomForestClassification()"
   ]
  },
  {
   "cell_type": "code",
   "execution_count": 29,
   "id": "d2d66534",
   "metadata": {
    "scrolled": true
   },
   "outputs": [],
   "source": [
    "# Create hyperparameter grid for LogisticRegression\n",
    "log_reg_grid = {'C': np.logspace(-4,4,20),\n",
    "                'solver':['liblinear']}\n",
    "\n",
    "# Create a hyperparameter grid for RandomForestClassifier\n",
    "rf_grid = {\n",
    "    'n_estimators':np.arange(10,1000,50),\n",
    "    'max_depth':[None,3,5,10],\n",
    "    'min_samples_split':np.arange(2,20,2),\n",
    "    'min_samples_leaf':np.arange(1,20,2)\n",
    "}"
   ]
  },
  {
   "cell_type": "code",
   "execution_count": 30,
   "id": "0c8849d1",
   "metadata": {},
   "outputs": [
    {
     "name": "stdout",
     "output_type": "stream",
     "text": [
      "Fitting 5 folds for each of 20 candidates, totalling 100 fits\n",
      "[CV 1/5] END ........C=0.0001, solver=liblinear;, score=0.653 total time=   0.0s\n",
      "[CV 2/5] END ........C=0.0001, solver=liblinear;, score=0.612 total time=   0.0s\n",
      "[CV 3/5] END ........C=0.0001, solver=liblinear;, score=0.583 total time=   0.0s\n",
      "[CV 4/5] END ........C=0.0001, solver=liblinear;, score=0.792 total time=   0.0s\n",
      "[CV 5/5] END ........C=0.0001, solver=liblinear;, score=0.583 total time=   0.0s\n",
      "[CV 1/5] END C=0.00026366508987303583, solver=liblinear;, score=0.653 total time=   0.0s\n",
      "[CV 2/5] END C=0.00026366508987303583, solver=liblinear;, score=0.612 total time=   0.0s\n",
      "[CV 3/5] END C=0.00026366508987303583, solver=liblinear;, score=0.604 total time=   0.0s\n",
      "[CV 4/5] END C=0.00026366508987303583, solver=liblinear;, score=0.812 total time=   0.0s\n",
      "[CV 5/5] END C=0.00026366508987303583, solver=liblinear;, score=0.625 total time=   0.0s\n",
      "[CV 1/5] END C=0.0006951927961775605, solver=liblinear;, score=0.673 total time=   0.0s\n",
      "[CV 2/5] END C=0.0006951927961775605, solver=liblinear;, score=0.612 total time=   0.0s\n",
      "[CV 3/5] END C=0.0006951927961775605, solver=liblinear;, score=0.583 total time=   0.0s\n",
      "[CV 4/5] END C=0.0006951927961775605, solver=liblinear;, score=0.792 total time=   0.0s\n",
      "[CV 5/5] END C=0.0006951927961775605, solver=liblinear;, score=0.667 total time=   0.0s\n",
      "[CV 1/5] END C=0.0018329807108324356, solver=liblinear;, score=0.694 total time=   0.0s\n",
      "[CV 2/5] END C=0.0018329807108324356, solver=liblinear;, score=0.571 total time=   0.0s\n",
      "[CV 3/5] END C=0.0018329807108324356, solver=liblinear;, score=0.625 total time=   0.0s\n",
      "[CV 4/5] END C=0.0018329807108324356, solver=liblinear;, score=0.812 total time=   0.0s\n",
      "[CV 5/5] END C=0.0018329807108324356, solver=liblinear;, score=0.708 total time=   0.0s\n",
      "[CV 1/5] END C=0.004832930238571752, solver=liblinear;, score=0.735 total time=   0.0s\n",
      "[CV 2/5] END C=0.004832930238571752, solver=liblinear;, score=0.612 total time=   0.0s\n",
      "[CV 3/5] END C=0.004832930238571752, solver=liblinear;, score=0.625 total time=   0.0s\n",
      "[CV 4/5] END C=0.004832930238571752, solver=liblinear;, score=0.812 total time=   0.0s\n",
      "[CV 5/5] END C=0.004832930238571752, solver=liblinear;, score=0.708 total time=   0.0s\n",
      "[CV 1/5] END C=0.012742749857031334, solver=liblinear;, score=0.755 total time=   0.0s\n",
      "[CV 2/5] END C=0.012742749857031334, solver=liblinear;, score=0.653 total time=   0.0s\n",
      "[CV 3/5] END C=0.012742749857031334, solver=liblinear;, score=0.708 total time=   0.0s\n",
      "[CV 4/5] END C=0.012742749857031334, solver=liblinear;, score=0.833 total time=   0.0s\n",
      "[CV 5/5] END C=0.012742749857031334, solver=liblinear;, score=0.771 total time=   0.0s\n",
      "[CV 1/5] END C=0.03359818286283781, solver=liblinear;, score=0.796 total time=   0.0s\n",
      "[CV 2/5] END C=0.03359818286283781, solver=liblinear;, score=0.673 total time=   0.0s\n",
      "[CV 3/5] END C=0.03359818286283781, solver=liblinear;, score=0.729 total time=   0.0s\n",
      "[CV 4/5] END C=0.03359818286283781, solver=liblinear;, score=0.854 total time=   0.0s\n",
      "[CV 5/5] END C=0.03359818286283781, solver=liblinear;, score=0.854 total time=   0.0s\n",
      "[CV 1/5] END C=0.08858667904100823, solver=liblinear;, score=0.816 total time=   0.0s\n",
      "[CV 2/5] END C=0.08858667904100823, solver=liblinear;, score=0.735 total time=   0.0s\n",
      "[CV 3/5] END C=0.08858667904100823, solver=liblinear;, score=0.771 total time=   0.0s\n",
      "[CV 4/5] END C=0.08858667904100823, solver=liblinear;, score=0.833 total time=   0.0s\n",
      "[CV 5/5] END C=0.08858667904100823, solver=liblinear;, score=0.854 total time=   0.0s\n",
      "[CV 1/5] END C=0.23357214690901212, solver=liblinear;, score=0.857 total time=   0.0s\n",
      "[CV 2/5] END C=0.23357214690901212, solver=liblinear;, score=0.816 total time=   0.0s\n",
      "[CV 3/5] END C=0.23357214690901212, solver=liblinear;, score=0.771 total time=   0.0s\n",
      "[CV 4/5] END C=0.23357214690901212, solver=liblinear;, score=0.812 total time=   0.0s\n",
      "[CV 5/5] END C=0.23357214690901212, solver=liblinear;, score=0.875 total time=   0.0s\n",
      "[CV 1/5] END C=0.615848211066026, solver=liblinear;, score=0.837 total time=   0.0s\n",
      "[CV 2/5] END C=0.615848211066026, solver=liblinear;, score=0.816 total time=   0.0s\n",
      "[CV 3/5] END C=0.615848211066026, solver=liblinear;, score=0.792 total time=   0.0s\n",
      "[CV 4/5] END C=0.615848211066026, solver=liblinear;, score=0.812 total time=   0.0s\n",
      "[CV 5/5] END C=0.615848211066026, solver=liblinear;, score=0.854 total time=   0.0s\n",
      "[CV 1/5] END C=1.623776739188721, solver=liblinear;, score=0.857 total time=   0.0s\n",
      "[CV 2/5] END C=1.623776739188721, solver=liblinear;, score=0.816 total time=   0.0s\n",
      "[CV 3/5] END C=1.623776739188721, solver=liblinear;, score=0.771 total time=   0.0s\n",
      "[CV 4/5] END C=1.623776739188721, solver=liblinear;, score=0.812 total time=   0.0s\n",
      "[CV 5/5] END C=1.623776739188721, solver=liblinear;, score=0.854 total time=   0.0s\n",
      "[CV 1/5] END C=4.281332398719396, solver=liblinear;, score=0.857 total time=   0.0s\n",
      "[CV 2/5] END C=4.281332398719396, solver=liblinear;, score=0.816 total time=   0.0s\n",
      "[CV 3/5] END C=4.281332398719396, solver=liblinear;, score=0.750 total time=   0.0s\n",
      "[CV 4/5] END C=4.281332398719396, solver=liblinear;, score=0.812 total time=   0.0s\n",
      "[CV 5/5] END C=4.281332398719396, solver=liblinear;, score=0.833 total time=   0.0s\n",
      "[CV 1/5] END C=11.288378916846883, solver=liblinear;, score=0.857 total time=   0.0s\n",
      "[CV 2/5] END C=11.288378916846883, solver=liblinear;, score=0.816 total time=   0.0s\n",
      "[CV 3/5] END C=11.288378916846883, solver=liblinear;, score=0.750 total time=   0.0s\n",
      "[CV 4/5] END C=11.288378916846883, solver=liblinear;, score=0.812 total time=   0.0s\n",
      "[CV 5/5] END C=11.288378916846883, solver=liblinear;, score=0.833 total time=   0.0s\n",
      "[CV 1/5] END C=29.763514416313132, solver=liblinear;, score=0.857 total time=   0.0s\n",
      "[CV 2/5] END C=29.763514416313132, solver=liblinear;, score=0.816 total time=   0.0s\n",
      "[CV 3/5] END C=29.763514416313132, solver=liblinear;, score=0.771 total time=   0.0s\n",
      "[CV 4/5] END C=29.763514416313132, solver=liblinear;, score=0.812 total time=   0.0s\n",
      "[CV 5/5] END C=29.763514416313132, solver=liblinear;, score=0.833 total time=   0.0s\n",
      "[CV 1/5] END C=78.47599703514607, solver=liblinear;, score=0.857 total time=   0.0s\n",
      "[CV 2/5] END C=78.47599703514607, solver=liblinear;, score=0.816 total time=   0.0s\n",
      "[CV 3/5] END C=78.47599703514607, solver=liblinear;, score=0.771 total time=   0.0s\n",
      "[CV 4/5] END C=78.47599703514607, solver=liblinear;, score=0.812 total time=   0.0s\n",
      "[CV 5/5] END C=78.47599703514607, solver=liblinear;, score=0.833 total time=   0.0s\n",
      "[CV 1/5] END C=206.913808111479, solver=liblinear;, score=0.857 total time=   0.0s\n",
      "[CV 2/5] END C=206.913808111479, solver=liblinear;, score=0.816 total time=   0.0s\n",
      "[CV 3/5] END C=206.913808111479, solver=liblinear;, score=0.771 total time=   0.0s\n",
      "[CV 4/5] END C=206.913808111479, solver=liblinear;, score=0.812 total time=   0.0s\n",
      "[CV 5/5] END C=206.913808111479, solver=liblinear;, score=0.833 total time=   0.0s\n",
      "[CV 1/5] END C=545.5594781168514, solver=liblinear;, score=0.857 total time=   0.0s\n",
      "[CV 2/5] END C=545.5594781168514, solver=liblinear;, score=0.816 total time=   0.0s\n",
      "[CV 3/5] END C=545.5594781168514, solver=liblinear;, score=0.771 total time=   0.0s\n",
      "[CV 4/5] END C=545.5594781168514, solver=liblinear;, score=0.812 total time=   0.0s\n",
      "[CV 5/5] END C=545.5594781168514, solver=liblinear;, score=0.833 total time=   0.0s\n",
      "[CV 1/5] END C=1438.44988828766, solver=liblinear;, score=0.857 total time=   0.0s\n",
      "[CV 2/5] END C=1438.44988828766, solver=liblinear;, score=0.816 total time=   0.0s\n",
      "[CV 3/5] END C=1438.44988828766, solver=liblinear;, score=0.771 total time=   0.0s\n",
      "[CV 4/5] END C=1438.44988828766, solver=liblinear;, score=0.812 total time=   0.0s\n",
      "[CV 5/5] END C=1438.44988828766, solver=liblinear;, score=0.833 total time=   0.0s\n",
      "[CV 1/5] END C=3792.690190732246, solver=liblinear;, score=0.857 total time=   0.0s\n",
      "[CV 2/5] END C=3792.690190732246, solver=liblinear;, score=0.816 total time=   0.0s\n",
      "[CV 3/5] END C=3792.690190732246, solver=liblinear;, score=0.771 total time=   0.0s\n",
      "[CV 4/5] END C=3792.690190732246, solver=liblinear;, score=0.812 total time=   0.0s\n",
      "[CV 5/5] END C=3792.690190732246, solver=liblinear;, score=0.833 total time=   0.0s\n",
      "[CV 1/5] END .......C=10000.0, solver=liblinear;, score=0.857 total time=   0.0s\n",
      "[CV 2/5] END .......C=10000.0, solver=liblinear;, score=0.816 total time=   0.0s\n",
      "[CV 3/5] END .......C=10000.0, solver=liblinear;, score=0.771 total time=   0.0s\n",
      "[CV 4/5] END .......C=10000.0, solver=liblinear;, score=0.812 total time=   0.0s\n",
      "[CV 5/5] END .......C=10000.0, solver=liblinear;, score=0.833 total time=   0.0s\n"
     ]
    },
    {
     "data": {
      "text/plain": [
       "RandomizedSearchCV(cv=5, estimator=LogisticRegression(), n_iter=20,\n",
       "                   param_distributions={'C': array([1.00000000e-04, 2.63665090e-04, 6.95192796e-04, 1.83298071e-03,\n",
       "       4.83293024e-03, 1.27427499e-02, 3.35981829e-02, 8.85866790e-02,\n",
       "       2.33572147e-01, 6.15848211e-01, 1.62377674e+00, 4.28133240e+00,\n",
       "       1.12883789e+01, 2.97635144e+01, 7.84759970e+01, 2.06913808e+02,\n",
       "       5.45559478e+02, 1.43844989e+03, 3.79269019e+03, 1.00000000e+04]),\n",
       "                                        'solver': ['liblinear']},\n",
       "                   verbose=3)"
      ]
     },
     "execution_count": 30,
     "metadata": {},
     "output_type": "execute_result"
    }
   ],
   "source": [
    "# Tune the logistic regression\n",
    "\n",
    "np.random.seed(42)\n",
    "\n",
    "#setup random hyperparameter search Log Reg\n",
    "rs_log_reg = RandomizedSearchCV(estimator = LogisticRegression(),\n",
    "                                param_distributions=log_reg_grid,\n",
    "                                cv=5,\n",
    "                                n_iter=20,\n",
    "                                verbose=3)\n",
    "\n",
    "rs_log_reg.fit(X_train,y_train)"
   ]
  },
  {
   "cell_type": "code",
   "execution_count": 31,
   "id": "f2358443",
   "metadata": {},
   "outputs": [
    {
     "data": {
      "text/plain": [
       "{'solver': 'liblinear', 'C': 0.23357214690901212}"
      ]
     },
     "execution_count": 31,
     "metadata": {},
     "output_type": "execute_result"
    }
   ],
   "source": [
    "rs_log_reg.best_params_"
   ]
  },
  {
   "cell_type": "code",
   "execution_count": 32,
   "id": "afb4aedf",
   "metadata": {},
   "outputs": [
    {
     "data": {
      "text/plain": [
       "0.8688524590163934"
      ]
     },
     "execution_count": 32,
     "metadata": {},
     "output_type": "execute_result"
    }
   ],
   "source": [
    "rs_log_reg.score(X_test,y_test)"
   ]
  },
  {
   "cell_type": "markdown",
   "id": "d00cf941",
   "metadata": {},
   "source": [
    "Now, let's tune for RandomForestClassifier"
   ]
  },
  {
   "cell_type": "code",
   "execution_count": 33,
   "id": "daf0280a",
   "metadata": {},
   "outputs": [
    {
     "name": "stdout",
     "output_type": "stream",
     "text": [
      "Fitting 5 folds for each of 20 candidates, totalling 100 fits\n",
      "[CV 1/5] END max_depth=None, min_samples_leaf=9, min_samples_split=16, n_estimators=10;, score=0.898 total time=   0.0s\n",
      "[CV 2/5] END max_depth=None, min_samples_leaf=9, min_samples_split=16, n_estimators=10;, score=0.714 total time=   0.0s\n",
      "[CV 3/5] END max_depth=None, min_samples_leaf=9, min_samples_split=16, n_estimators=10;, score=0.771 total time=   0.0s\n",
      "[CV 4/5] END max_depth=None, min_samples_leaf=9, min_samples_split=16, n_estimators=10;, score=0.812 total time=   0.0s\n",
      "[CV 5/5] END max_depth=None, min_samples_leaf=9, min_samples_split=16, n_estimators=10;, score=0.875 total time=   0.0s\n",
      "[CV 1/5] END max_depth=5, min_samples_leaf=19, min_samples_split=18, n_estimators=510;, score=0.857 total time=   0.3s\n",
      "[CV 2/5] END max_depth=5, min_samples_leaf=19, min_samples_split=18, n_estimators=510;, score=0.776 total time=   0.4s\n",
      "[CV 3/5] END max_depth=5, min_samples_leaf=19, min_samples_split=18, n_estimators=510;, score=0.833 total time=   0.4s\n",
      "[CV 4/5] END max_depth=5, min_samples_leaf=19, min_samples_split=18, n_estimators=510;, score=0.812 total time=   0.4s\n",
      "[CV 5/5] END max_depth=5, min_samples_leaf=19, min_samples_split=18, n_estimators=510;, score=0.896 total time=   0.4s\n",
      "[CV 1/5] END max_depth=5, min_samples_leaf=19, min_samples_split=2, n_estimators=310;, score=0.878 total time=   0.2s\n",
      "[CV 2/5] END max_depth=5, min_samples_leaf=19, min_samples_split=2, n_estimators=310;, score=0.776 total time=   0.2s\n",
      "[CV 3/5] END max_depth=5, min_samples_leaf=19, min_samples_split=2, n_estimators=310;, score=0.854 total time=   0.2s\n",
      "[CV 4/5] END max_depth=5, min_samples_leaf=19, min_samples_split=2, n_estimators=310;, score=0.812 total time=   0.2s\n",
      "[CV 5/5] END max_depth=5, min_samples_leaf=19, min_samples_split=2, n_estimators=310;, score=0.875 total time=   0.2s\n",
      "[CV 1/5] END max_depth=5, min_samples_leaf=17, min_samples_split=16, n_estimators=560;, score=0.878 total time=   0.4s\n",
      "[CV 2/5] END max_depth=5, min_samples_leaf=17, min_samples_split=16, n_estimators=560;, score=0.796 total time=   0.4s\n",
      "[CV 3/5] END max_depth=5, min_samples_leaf=17, min_samples_split=16, n_estimators=560;, score=0.833 total time=   0.4s\n",
      "[CV 4/5] END max_depth=5, min_samples_leaf=17, min_samples_split=16, n_estimators=560;, score=0.792 total time=   0.4s\n",
      "[CV 5/5] END max_depth=5, min_samples_leaf=17, min_samples_split=16, n_estimators=560;, score=0.875 total time=   0.4s\n",
      "[CV 1/5] END max_depth=5, min_samples_leaf=1, min_samples_split=18, n_estimators=610;, score=0.837 total time=   0.4s\n",
      "[CV 2/5] END max_depth=5, min_samples_leaf=1, min_samples_split=18, n_estimators=610;, score=0.816 total time=   0.4s\n",
      "[CV 3/5] END max_depth=5, min_samples_leaf=1, min_samples_split=18, n_estimators=610;, score=0.812 total time=   0.4s\n",
      "[CV 4/5] END max_depth=5, min_samples_leaf=1, min_samples_split=18, n_estimators=610;, score=0.792 total time=   0.4s\n",
      "[CV 5/5] END max_depth=5, min_samples_leaf=1, min_samples_split=18, n_estimators=610;, score=0.896 total time=   0.4s\n",
      "[CV 1/5] END max_depth=3, min_samples_leaf=15, min_samples_split=4, n_estimators=610;, score=0.878 total time=   0.5s\n",
      "[CV 2/5] END max_depth=3, min_samples_leaf=15, min_samples_split=4, n_estimators=610;, score=0.796 total time=   0.4s\n",
      "[CV 3/5] END max_depth=3, min_samples_leaf=15, min_samples_split=4, n_estimators=610;, score=0.833 total time=   0.4s\n",
      "[CV 4/5] END max_depth=3, min_samples_leaf=15, min_samples_split=4, n_estimators=610;, score=0.812 total time=   0.4s\n",
      "[CV 5/5] END max_depth=3, min_samples_leaf=15, min_samples_split=4, n_estimators=610;, score=0.875 total time=   0.4s\n",
      "[CV 1/5] END max_depth=10, min_samples_leaf=3, min_samples_split=16, n_estimators=710;, score=0.878 total time=   0.5s\n",
      "[CV 2/5] END max_depth=10, min_samples_leaf=3, min_samples_split=16, n_estimators=710;, score=0.816 total time=   0.5s\n",
      "[CV 3/5] END max_depth=10, min_samples_leaf=3, min_samples_split=16, n_estimators=710;, score=0.812 total time=   0.5s\n",
      "[CV 4/5] END max_depth=10, min_samples_leaf=3, min_samples_split=16, n_estimators=710;, score=0.812 total time=   0.5s\n",
      "[CV 5/5] END max_depth=10, min_samples_leaf=3, min_samples_split=16, n_estimators=710;, score=0.875 total time=   0.5s\n",
      "[CV 1/5] END max_depth=10, min_samples_leaf=9, min_samples_split=16, n_estimators=260;, score=0.878 total time=   0.1s\n",
      "[CV 2/5] END max_depth=10, min_samples_leaf=9, min_samples_split=16, n_estimators=260;, score=0.776 total time=   0.1s\n",
      "[CV 3/5] END max_depth=10, min_samples_leaf=9, min_samples_split=16, n_estimators=260;, score=0.812 total time=   0.1s\n",
      "[CV 4/5] END max_depth=10, min_samples_leaf=9, min_samples_split=16, n_estimators=260;, score=0.792 total time=   0.1s\n",
      "[CV 5/5] END max_depth=10, min_samples_leaf=9, min_samples_split=16, n_estimators=260;, score=0.875 total time=   0.1s\n",
      "[CV 1/5] END max_depth=None, min_samples_leaf=5, min_samples_split=12, n_estimators=310;, score=0.857 total time=   0.2s\n",
      "[CV 2/5] END max_depth=None, min_samples_leaf=5, min_samples_split=12, n_estimators=310;, score=0.816 total time=   0.2s\n",
      "[CV 3/5] END max_depth=None, min_samples_leaf=5, min_samples_split=12, n_estimators=310;, score=0.833 total time=   0.2s\n",
      "[CV 4/5] END max_depth=None, min_samples_leaf=5, min_samples_split=12, n_estimators=310;, score=0.812 total time=   0.2s\n",
      "[CV 5/5] END max_depth=None, min_samples_leaf=5, min_samples_split=12, n_estimators=310;, score=0.875 total time=   0.2s\n",
      "[CV 1/5] END max_depth=5, min_samples_leaf=19, min_samples_split=12, n_estimators=710;, score=0.878 total time=   0.5s\n",
      "[CV 2/5] END max_depth=5, min_samples_leaf=19, min_samples_split=12, n_estimators=710;, score=0.796 total time=   0.5s\n",
      "[CV 3/5] END max_depth=5, min_samples_leaf=19, min_samples_split=12, n_estimators=710;, score=0.833 total time=   0.5s\n",
      "[CV 4/5] END max_depth=5, min_samples_leaf=19, min_samples_split=12, n_estimators=710;, score=0.812 total time=   0.5s\n",
      "[CV 5/5] END max_depth=5, min_samples_leaf=19, min_samples_split=12, n_estimators=710;, score=0.875 total time=   0.5s\n",
      "[CV 1/5] END max_depth=5, min_samples_leaf=9, min_samples_split=12, n_estimators=310;, score=0.837 total time=   0.2s\n",
      "[CV 2/5] END max_depth=5, min_samples_leaf=9, min_samples_split=12, n_estimators=310;, score=0.755 total time=   0.2s\n",
      "[CV 3/5] END max_depth=5, min_samples_leaf=9, min_samples_split=12, n_estimators=310;, score=0.812 total time=   0.2s\n",
      "[CV 4/5] END max_depth=5, min_samples_leaf=9, min_samples_split=12, n_estimators=310;, score=0.792 total time=   0.2s\n",
      "[CV 5/5] END max_depth=5, min_samples_leaf=9, min_samples_split=12, n_estimators=310;, score=0.875 total time=   0.2s\n",
      "[CV 1/5] END max_depth=10, min_samples_leaf=1, min_samples_split=18, n_estimators=910;, score=0.857 total time=   0.7s\n",
      "[CV 2/5] END max_depth=10, min_samples_leaf=1, min_samples_split=18, n_estimators=910;, score=0.816 total time=   0.7s\n",
      "[CV 3/5] END max_depth=10, min_samples_leaf=1, min_samples_split=18, n_estimators=910;, score=0.812 total time=   0.7s\n",
      "[CV 4/5] END max_depth=10, min_samples_leaf=1, min_samples_split=18, n_estimators=910;, score=0.792 total time=   0.7s\n",
      "[CV 5/5] END max_depth=10, min_samples_leaf=1, min_samples_split=18, n_estimators=910;, score=0.896 total time=   0.7s\n",
      "[CV 1/5] END max_depth=10, min_samples_leaf=9, min_samples_split=12, n_estimators=560;, score=0.857 total time=   0.4s\n",
      "[CV 2/5] END max_depth=10, min_samples_leaf=9, min_samples_split=12, n_estimators=560;, score=0.776 total time=   0.4s\n",
      "[CV 3/5] END max_depth=10, min_samples_leaf=9, min_samples_split=12, n_estimators=560;, score=0.812 total time=   0.4s\n",
      "[CV 4/5] END max_depth=10, min_samples_leaf=9, min_samples_split=12, n_estimators=560;, score=0.812 total time=   0.4s\n",
      "[CV 5/5] END max_depth=10, min_samples_leaf=9, min_samples_split=12, n_estimators=560;, score=0.854 total time=   0.4s\n",
      "[CV 1/5] END max_depth=3, min_samples_leaf=19, min_samples_split=4, n_estimators=210;, score=0.878 total time=   0.1s\n",
      "[CV 2/5] END max_depth=3, min_samples_leaf=19, min_samples_split=4, n_estimators=210;, score=0.796 total time=   0.1s\n",
      "[CV 3/5] END max_depth=3, min_samples_leaf=19, min_samples_split=4, n_estimators=210;, score=0.833 total time=   0.1s\n",
      "[CV 4/5] END max_depth=3, min_samples_leaf=19, min_samples_split=4, n_estimators=210;, score=0.812 total time=   0.1s\n",
      "[CV 5/5] END max_depth=3, min_samples_leaf=19, min_samples_split=4, n_estimators=210;, score=0.875 total time=   0.1s\n"
     ]
    },
    {
     "name": "stdout",
     "output_type": "stream",
     "text": [
      "[CV 1/5] END max_depth=3, min_samples_leaf=15, min_samples_split=12, n_estimators=560;, score=0.857 total time=   0.4s\n",
      "[CV 2/5] END max_depth=3, min_samples_leaf=15, min_samples_split=12, n_estimators=560;, score=0.776 total time=   0.4s\n",
      "[CV 3/5] END max_depth=3, min_samples_leaf=15, min_samples_split=12, n_estimators=560;, score=0.854 total time=   0.4s\n",
      "[CV 4/5] END max_depth=3, min_samples_leaf=15, min_samples_split=12, n_estimators=560;, score=0.812 total time=   0.4s\n",
      "[CV 5/5] END max_depth=3, min_samples_leaf=15, min_samples_split=12, n_estimators=560;, score=0.896 total time=   0.4s\n",
      "[CV 1/5] END max_depth=3, min_samples_leaf=13, min_samples_split=4, n_estimators=960;, score=0.857 total time=   0.7s\n",
      "[CV 2/5] END max_depth=3, min_samples_leaf=13, min_samples_split=4, n_estimators=960;, score=0.796 total time=   0.7s\n",
      "[CV 3/5] END max_depth=3, min_samples_leaf=13, min_samples_split=4, n_estimators=960;, score=0.833 total time=   0.8s\n",
      "[CV 4/5] END max_depth=3, min_samples_leaf=13, min_samples_split=4, n_estimators=960;, score=0.812 total time=   0.7s\n",
      "[CV 5/5] END max_depth=3, min_samples_leaf=13, min_samples_split=4, n_estimators=960;, score=0.875 total time=   0.8s\n",
      "[CV 1/5] END max_depth=None, min_samples_leaf=1, min_samples_split=14, n_estimators=510;, score=0.837 total time=   0.4s\n",
      "[CV 2/5] END max_depth=None, min_samples_leaf=1, min_samples_split=14, n_estimators=510;, score=0.796 total time=   0.4s\n",
      "[CV 3/5] END max_depth=None, min_samples_leaf=1, min_samples_split=14, n_estimators=510;, score=0.792 total time=   0.4s\n",
      "[CV 4/5] END max_depth=None, min_samples_leaf=1, min_samples_split=14, n_estimators=510;, score=0.812 total time=   0.4s\n",
      "[CV 5/5] END max_depth=None, min_samples_leaf=1, min_samples_split=14, n_estimators=510;, score=0.875 total time=   0.4s\n",
      "[CV 1/5] END max_depth=None, min_samples_leaf=19, min_samples_split=8, n_estimators=260;, score=0.857 total time=   0.1s\n",
      "[CV 2/5] END max_depth=None, min_samples_leaf=19, min_samples_split=8, n_estimators=260;, score=0.776 total time=   0.1s\n",
      "[CV 3/5] END max_depth=None, min_samples_leaf=19, min_samples_split=8, n_estimators=260;, score=0.812 total time=   0.1s\n",
      "[CV 4/5] END max_depth=None, min_samples_leaf=19, min_samples_split=8, n_estimators=260;, score=0.812 total time=   0.1s\n",
      "[CV 5/5] END max_depth=None, min_samples_leaf=19, min_samples_split=8, n_estimators=260;, score=0.854 total time=   0.1s\n",
      "[CV 1/5] END max_depth=None, min_samples_leaf=9, min_samples_split=6, n_estimators=460;, score=0.878 total time=   0.3s\n",
      "[CV 2/5] END max_depth=None, min_samples_leaf=9, min_samples_split=6, n_estimators=460;, score=0.796 total time=   0.3s\n",
      "[CV 3/5] END max_depth=None, min_samples_leaf=9, min_samples_split=6, n_estimators=460;, score=0.812 total time=   0.3s\n",
      "[CV 4/5] END max_depth=None, min_samples_leaf=9, min_samples_split=6, n_estimators=460;, score=0.792 total time=   0.3s\n",
      "[CV 5/5] END max_depth=None, min_samples_leaf=9, min_samples_split=6, n_estimators=460;, score=0.854 total time=   0.3s\n",
      "[CV 1/5] END max_depth=3, min_samples_leaf=7, min_samples_split=6, n_estimators=560;, score=0.878 total time=   0.4s\n",
      "[CV 2/5] END max_depth=3, min_samples_leaf=7, min_samples_split=6, n_estimators=560;, score=0.776 total time=   0.4s\n",
      "[CV 3/5] END max_depth=3, min_samples_leaf=7, min_samples_split=6, n_estimators=560;, score=0.812 total time=   0.4s\n",
      "[CV 4/5] END max_depth=3, min_samples_leaf=7, min_samples_split=6, n_estimators=560;, score=0.812 total time=   0.4s\n",
      "[CV 5/5] END max_depth=3, min_samples_leaf=7, min_samples_split=6, n_estimators=560;, score=0.875 total time=   0.4s\n"
     ]
    },
    {
     "data": {
      "text/plain": [
       "RandomizedSearchCV(cv=5, estimator=RandomForestClassifier(), n_iter=20,\n",
       "                   param_distributions={'max_depth': [None, 3, 5, 10],\n",
       "                                        'min_samples_leaf': array([ 1,  3,  5,  7,  9, 11, 13, 15, 17, 19]),\n",
       "                                        'min_samples_split': array([ 2,  4,  6,  8, 10, 12, 14, 16, 18]),\n",
       "                                        'n_estimators': array([ 10,  60, 110, 160, 210, 260, 310, 360, 410, 460, 510, 560, 610,\n",
       "       660, 710, 760, 810, 860, 910, 960])},\n",
       "                   verbose=3)"
      ]
     },
     "execution_count": 33,
     "metadata": {},
     "output_type": "execute_result"
    }
   ],
   "source": [
    "np.random.seed(42)\n",
    "\n",
    "rs_random_forest = RandomizedSearchCV(estimator=RandomForestClassifier(),\n",
    "                                      param_distributions=rf_grid,\n",
    "                                      cv=5,\n",
    "                                      verbose=3,\n",
    "                                      n_iter=20\n",
    "                                     )\n",
    "rs_random_forest.fit(X_train,y_train)"
   ]
  },
  {
   "cell_type": "code",
   "execution_count": 34,
   "id": "b4222811",
   "metadata": {},
   "outputs": [
    {
     "data": {
      "text/plain": [
       "{'n_estimators': 560,\n",
       " 'min_samples_split': 12,\n",
       " 'min_samples_leaf': 15,\n",
       " 'max_depth': 3}"
      ]
     },
     "execution_count": 34,
     "metadata": {},
     "output_type": "execute_result"
    }
   ],
   "source": [
    "rs_random_forest.best_params_"
   ]
  },
  {
   "cell_type": "code",
   "execution_count": 35,
   "id": "867c1adb",
   "metadata": {},
   "outputs": [
    {
     "data": {
      "text/plain": [
       "0.8688524590163934"
      ]
     },
     "execution_count": 35,
     "metadata": {},
     "output_type": "execute_result"
    }
   ],
   "source": [
    "rs_random_forest.score(X_test,y_test)"
   ]
  },
  {
   "cell_type": "markdown",
   "id": "5049c5eb",
   "metadata": {},
   "source": [
    "### Hyperparameter tuning with GridSearchCV"
   ]
  },
  {
   "cell_type": "code",
   "execution_count": 36,
   "id": "4af48721",
   "metadata": {},
   "outputs": [
    {
     "name": "stdout",
     "output_type": "stream",
     "text": [
      "Fitting 5 folds for each of 30 candidates, totalling 150 fits\n",
      "[CV 1/5] END ........C=0.0001, solver=liblinear;, score=0.653 total time=   0.0s\n",
      "[CV 2/5] END ........C=0.0001, solver=liblinear;, score=0.612 total time=   0.0s\n",
      "[CV 3/5] END ........C=0.0001, solver=liblinear;, score=0.583 total time=   0.0s\n",
      "[CV 4/5] END ........C=0.0001, solver=liblinear;, score=0.792 total time=   0.0s\n",
      "[CV 5/5] END ........C=0.0001, solver=liblinear;, score=0.583 total time=   0.0s\n",
      "[CV 1/5] END C=0.00018873918221350977, solver=liblinear;, score=0.653 total time=   0.0s\n",
      "[CV 2/5] END C=0.00018873918221350977, solver=liblinear;, score=0.633 total time=   0.0s\n",
      "[CV 3/5] END C=0.00018873918221350977, solver=liblinear;, score=0.604 total time=   0.0s\n",
      "[CV 4/5] END C=0.00018873918221350977, solver=liblinear;, score=0.812 total time=   0.0s\n",
      "[CV 5/5] END C=0.00018873918221350977, solver=liblinear;, score=0.604 total time=   0.0s\n",
      "[CV 1/5] END C=0.0003562247890262444, solver=liblinear;, score=0.653 total time=   0.0s\n",
      "[CV 2/5] END C=0.0003562247890262444, solver=liblinear;, score=0.592 total time=   0.0s\n",
      "[CV 3/5] END C=0.0003562247890262444, solver=liblinear;, score=0.583 total time=   0.0s\n",
      "[CV 4/5] END C=0.0003562247890262444, solver=liblinear;, score=0.792 total time=   0.0s\n",
      "[CV 5/5] END C=0.0003562247890262444, solver=liblinear;, score=0.667 total time=   0.0s\n",
      "[CV 1/5] END C=0.0006723357536499335, solver=liblinear;, score=0.673 total time=   0.0s\n",
      "[CV 2/5] END C=0.0006723357536499335, solver=liblinear;, score=0.612 total time=   0.0s\n",
      "[CV 3/5] END C=0.0006723357536499335, solver=liblinear;, score=0.583 total time=   0.0s\n",
      "[CV 4/5] END C=0.0006723357536499335, solver=liblinear;, score=0.792 total time=   0.0s\n",
      "[CV 5/5] END C=0.0006723357536499335, solver=liblinear;, score=0.667 total time=   0.0s\n",
      "[CV 1/5] END C=0.0012689610031679222, solver=liblinear;, score=0.673 total time=   0.0s\n",
      "[CV 2/5] END C=0.0012689610031679222, solver=liblinear;, score=0.571 total time=   0.0s\n",
      "[CV 3/5] END C=0.0012689610031679222, solver=liblinear;, score=0.604 total time=   0.0s\n",
      "[CV 4/5] END C=0.0012689610031679222, solver=liblinear;, score=0.812 total time=   0.0s\n",
      "[CV 5/5] END C=0.0012689610031679222, solver=liblinear;, score=0.688 total time=   0.0s\n",
      "[CV 1/5] END C=0.002395026619987486, solver=liblinear;, score=0.694 total time=   0.0s\n",
      "[CV 2/5] END C=0.002395026619987486, solver=liblinear;, score=0.571 total time=   0.0s\n",
      "[CV 3/5] END C=0.002395026619987486, solver=liblinear;, score=0.625 total time=   0.0s\n",
      "[CV 4/5] END C=0.002395026619987486, solver=liblinear;, score=0.812 total time=   0.0s\n",
      "[CV 5/5] END C=0.002395026619987486, solver=liblinear;, score=0.708 total time=   0.0s\n",
      "[CV 1/5] END C=0.004520353656360241, solver=liblinear;, score=0.735 total time=   0.0s\n",
      "[CV 2/5] END C=0.004520353656360241, solver=liblinear;, score=0.612 total time=   0.0s\n",
      "[CV 3/5] END C=0.004520353656360241, solver=liblinear;, score=0.625 total time=   0.0s\n",
      "[CV 4/5] END C=0.004520353656360241, solver=liblinear;, score=0.812 total time=   0.0s\n",
      "[CV 5/5] END C=0.004520353656360241, solver=liblinear;, score=0.708 total time=   0.0s\n",
      "[CV 1/5] END C=0.008531678524172805, solver=liblinear;, score=0.735 total time=   0.0s\n",
      "[CV 2/5] END C=0.008531678524172805, solver=liblinear;, score=0.653 total time=   0.0s\n",
      "[CV 3/5] END C=0.008531678524172805, solver=liblinear;, score=0.625 total time=   0.0s\n",
      "[CV 4/5] END C=0.008531678524172805, solver=liblinear;, score=0.812 total time=   0.0s\n",
      "[CV 5/5] END C=0.008531678524172805, solver=liblinear;, score=0.771 total time=   0.0s\n",
      "[CV 1/5] END C=0.01610262027560939, solver=liblinear;, score=0.776 total time=   0.0s\n",
      "[CV 2/5] END C=0.01610262027560939, solver=liblinear;, score=0.653 total time=   0.0s\n",
      "[CV 3/5] END C=0.01610262027560939, solver=liblinear;, score=0.708 total time=   0.0s\n",
      "[CV 4/5] END C=0.01610262027560939, solver=liblinear;, score=0.833 total time=   0.0s\n",
      "[CV 5/5] END C=0.01610262027560939, solver=liblinear;, score=0.771 total time=   0.0s\n",
      "[CV 1/5] END C=0.03039195382313198, solver=liblinear;, score=0.796 total time=   0.0s\n",
      "[CV 2/5] END C=0.03039195382313198, solver=liblinear;, score=0.673 total time=   0.0s\n",
      "[CV 3/5] END C=0.03039195382313198, solver=liblinear;, score=0.708 total time=   0.0s\n",
      "[CV 4/5] END C=0.03039195382313198, solver=liblinear;, score=0.854 total time=   0.0s\n",
      "[CV 5/5] END C=0.03039195382313198, solver=liblinear;, score=0.854 total time=   0.0s\n",
      "[CV 1/5] END C=0.05736152510448681, solver=liblinear;, score=0.796 total time=   0.0s\n",
      "[CV 2/5] END C=0.05736152510448681, solver=liblinear;, score=0.735 total time=   0.0s\n",
      "[CV 3/5] END C=0.05736152510448681, solver=liblinear;, score=0.750 total time=   0.0s\n",
      "[CV 4/5] END C=0.05736152510448681, solver=liblinear;, score=0.833 total time=   0.0s\n",
      "[CV 5/5] END C=0.05736152510448681, solver=liblinear;, score=0.833 total time=   0.0s\n",
      "[CV 1/5] END C=0.1082636733874054, solver=liblinear;, score=0.857 total time=   0.0s\n",
      "[CV 2/5] END C=0.1082636733874054, solver=liblinear;, score=0.755 total time=   0.0s\n",
      "[CV 3/5] END C=0.1082636733874054, solver=liblinear;, score=0.771 total time=   0.0s\n",
      "[CV 4/5] END C=0.1082636733874054, solver=liblinear;, score=0.833 total time=   0.0s\n",
      "[CV 5/5] END C=0.1082636733874054, solver=liblinear;, score=0.854 total time=   0.0s\n",
      "[CV 1/5] END C=0.20433597178569418, solver=liblinear;, score=0.857 total time=   0.0s\n",
      "[CV 2/5] END C=0.20433597178569418, solver=liblinear;, score=0.796 total time=   0.0s\n",
      "[CV 3/5] END C=0.20433597178569418, solver=liblinear;, score=0.771 total time=   0.0s\n",
      "[CV 4/5] END C=0.20433597178569418, solver=liblinear;, score=0.812 total time=   0.0s\n",
      "[CV 5/5] END C=0.20433597178569418, solver=liblinear;, score=0.875 total time=   0.0s\n",
      "[CV 1/5] END C=0.38566204211634725, solver=liblinear;, score=0.857 total time=   0.0s\n",
      "[CV 2/5] END C=0.38566204211634725, solver=liblinear;, score=0.816 total time=   0.0s\n",
      "[CV 3/5] END C=0.38566204211634725, solver=liblinear;, score=0.771 total time=   0.0s\n",
      "[CV 4/5] END C=0.38566204211634725, solver=liblinear;, score=0.812 total time=   0.0s\n",
      "[CV 5/5] END C=0.38566204211634725, solver=liblinear;, score=0.875 total time=   0.0s\n",
      "[CV 1/5] END C=0.7278953843983146, solver=liblinear;, score=0.857 total time=   0.0s\n",
      "[CV 2/5] END C=0.7278953843983146, solver=liblinear;, score=0.816 total time=   0.0s\n",
      "[CV 3/5] END C=0.7278953843983146, solver=liblinear;, score=0.792 total time=   0.0s\n",
      "[CV 4/5] END C=0.7278953843983146, solver=liblinear;, score=0.812 total time=   0.0s\n",
      "[CV 5/5] END C=0.7278953843983146, solver=liblinear;, score=0.854 total time=   0.0s\n",
      "[CV 1/5] END C=1.3738237958832638, solver=liblinear;, score=0.857 total time=   0.0s\n",
      "[CV 2/5] END C=1.3738237958832638, solver=liblinear;, score=0.816 total time=   0.0s\n",
      "[CV 3/5] END C=1.3738237958832638, solver=liblinear;, score=0.771 total time=   0.0s\n",
      "[CV 4/5] END C=1.3738237958832638, solver=liblinear;, score=0.812 total time=   0.0s\n",
      "[CV 5/5] END C=1.3738237958832638, solver=liblinear;, score=0.854 total time=   0.0s\n",
      "[CV 1/5] END C=2.592943797404667, solver=liblinear;, score=0.857 total time=   0.0s\n",
      "[CV 2/5] END C=2.592943797404667, solver=liblinear;, score=0.816 total time=   0.0s\n",
      "[CV 3/5] END C=2.592943797404667, solver=liblinear;, score=0.750 total time=   0.0s\n",
      "[CV 4/5] END C=2.592943797404667, solver=liblinear;, score=0.812 total time=   0.0s\n",
      "[CV 5/5] END C=2.592943797404667, solver=liblinear;, score=0.833 total time=   0.0s\n",
      "[CV 1/5] END C=4.893900918477489, solver=liblinear;, score=0.857 total time=   0.0s\n",
      "[CV 2/5] END C=4.893900918477489, solver=liblinear;, score=0.816 total time=   0.0s\n",
      "[CV 3/5] END C=4.893900918477489, solver=liblinear;, score=0.750 total time=   0.0s\n",
      "[CV 4/5] END C=4.893900918477489, solver=liblinear;, score=0.812 total time=   0.0s\n",
      "[CV 5/5] END C=4.893900918477489, solver=liblinear;, score=0.833 total time=   0.0s\n",
      "[CV 1/5] END C=9.236708571873866, solver=liblinear;, score=0.857 total time=   0.0s\n",
      "[CV 2/5] END C=9.236708571873866, solver=liblinear;, score=0.816 total time=   0.0s\n",
      "[CV 3/5] END C=9.236708571873866, solver=liblinear;, score=0.750 total time=   0.0s\n",
      "[CV 4/5] END C=9.236708571873866, solver=liblinear;, score=0.812 total time=   0.0s\n",
      "[CV 5/5] END C=9.236708571873866, solver=liblinear;, score=0.833 total time=   0.0s\n",
      "[CV 1/5] END C=17.433288221999874, solver=liblinear;, score=0.878 total time=   0.0s\n",
      "[CV 2/5] END C=17.433288221999874, solver=liblinear;, score=0.816 total time=   0.0s\n",
      "[CV 3/5] END C=17.433288221999874, solver=liblinear;, score=0.750 total time=   0.0s\n",
      "[CV 4/5] END C=17.433288221999874, solver=liblinear;, score=0.812 total time=   0.0s\n",
      "[CV 5/5] END C=17.433288221999874, solver=liblinear;, score=0.833 total time=   0.0s\n",
      "[CV 1/5] END C=32.90344562312671, solver=liblinear;, score=0.857 total time=   0.0s\n",
      "[CV 2/5] END C=32.90344562312671, solver=liblinear;, score=0.816 total time=   0.0s\n",
      "[CV 3/5] END C=32.90344562312671, solver=liblinear;, score=0.771 total time=   0.0s\n",
      "[CV 4/5] END C=32.90344562312671, solver=liblinear;, score=0.812 total time=   0.0s\n",
      "[CV 5/5] END C=32.90344562312671, solver=liblinear;, score=0.833 total time=   0.0s\n",
      "[CV 1/5] END C=62.10169418915616, solver=liblinear;, score=0.857 total time=   0.0s\n",
      "[CV 2/5] END C=62.10169418915616, solver=liblinear;, score=0.816 total time=   0.0s\n",
      "[CV 3/5] END C=62.10169418915616, solver=liblinear;, score=0.771 total time=   0.0s\n",
      "[CV 4/5] END C=62.10169418915616, solver=liblinear;, score=0.812 total time=   0.0s\n",
      "[CV 5/5] END C=62.10169418915616, solver=liblinear;, score=0.833 total time=   0.0s\n",
      "[CV 1/5] END C=117.21022975334793, solver=liblinear;, score=0.857 total time=   0.0s\n",
      "[CV 2/5] END C=117.21022975334793, solver=liblinear;, score=0.816 total time=   0.0s\n",
      "[CV 3/5] END C=117.21022975334793, solver=liblinear;, score=0.771 total time=   0.0s\n",
      "[CV 4/5] END C=117.21022975334793, solver=liblinear;, score=0.812 total time=   0.0s\n",
      "[CV 5/5] END C=117.21022975334793, solver=liblinear;, score=0.833 total time=   0.0s\n"
     ]
    },
    {
     "name": "stdout",
     "output_type": "stream",
     "text": [
      "[CV 1/5] END C=221.22162910704503, solver=liblinear;, score=0.857 total time=   0.0s\n",
      "[CV 2/5] END C=221.22162910704503, solver=liblinear;, score=0.816 total time=   0.0s\n",
      "[CV 3/5] END C=221.22162910704503, solver=liblinear;, score=0.771 total time=   0.0s\n",
      "[CV 4/5] END C=221.22162910704503, solver=liblinear;, score=0.812 total time=   0.0s\n",
      "[CV 5/5] END C=221.22162910704503, solver=liblinear;, score=0.833 total time=   0.0s\n",
      "[CV 1/5] END C=417.53189365604004, solver=liblinear;, score=0.857 total time=   0.0s\n",
      "[CV 2/5] END C=417.53189365604004, solver=liblinear;, score=0.816 total time=   0.0s\n",
      "[CV 3/5] END C=417.53189365604004, solver=liblinear;, score=0.771 total time=   0.0s\n",
      "[CV 4/5] END C=417.53189365604004, solver=liblinear;, score=0.812 total time=   0.0s\n",
      "[CV 5/5] END C=417.53189365604004, solver=liblinear;, score=0.833 total time=   0.0s\n",
      "[CV 1/5] END C=788.0462815669904, solver=liblinear;, score=0.857 total time=   0.0s\n",
      "[CV 2/5] END C=788.0462815669904, solver=liblinear;, score=0.816 total time=   0.0s\n",
      "[CV 3/5] END C=788.0462815669904, solver=liblinear;, score=0.771 total time=   0.0s\n",
      "[CV 4/5] END C=788.0462815669904, solver=liblinear;, score=0.812 total time=   0.0s\n",
      "[CV 5/5] END C=788.0462815669904, solver=liblinear;, score=0.833 total time=   0.0s\n",
      "[CV 1/5] END C=1487.3521072935118, solver=liblinear;, score=0.857 total time=   0.0s\n",
      "[CV 2/5] END C=1487.3521072935118, solver=liblinear;, score=0.816 total time=   0.0s\n",
      "[CV 3/5] END C=1487.3521072935118, solver=liblinear;, score=0.771 total time=   0.0s\n",
      "[CV 4/5] END C=1487.3521072935118, solver=liblinear;, score=0.812 total time=   0.0s\n",
      "[CV 5/5] END C=1487.3521072935118, solver=liblinear;, score=0.833 total time=   0.0s\n",
      "[CV 1/5] END C=2807.2162039411755, solver=liblinear;, score=0.857 total time=   0.0s\n",
      "[CV 2/5] END C=2807.2162039411755, solver=liblinear;, score=0.816 total time=   0.0s\n",
      "[CV 3/5] END C=2807.2162039411755, solver=liblinear;, score=0.771 total time=   0.0s\n",
      "[CV 4/5] END C=2807.2162039411755, solver=liblinear;, score=0.812 total time=   0.0s\n",
      "[CV 5/5] END C=2807.2162039411755, solver=liblinear;, score=0.833 total time=   0.0s\n",
      "[CV 1/5] END C=5298.316906283702, solver=liblinear;, score=0.857 total time=   0.0s\n",
      "[CV 2/5] END C=5298.316906283702, solver=liblinear;, score=0.816 total time=   0.0s\n",
      "[CV 3/5] END C=5298.316906283702, solver=liblinear;, score=0.771 total time=   0.0s\n",
      "[CV 4/5] END C=5298.316906283702, solver=liblinear;, score=0.812 total time=   0.0s\n",
      "[CV 5/5] END C=5298.316906283702, solver=liblinear;, score=0.833 total time=   0.0s\n",
      "[CV 1/5] END .......C=10000.0, solver=liblinear;, score=0.857 total time=   0.0s\n",
      "[CV 2/5] END .......C=10000.0, solver=liblinear;, score=0.816 total time=   0.0s\n",
      "[CV 3/5] END .......C=10000.0, solver=liblinear;, score=0.771 total time=   0.0s\n",
      "[CV 4/5] END .......C=10000.0, solver=liblinear;, score=0.812 total time=   0.0s\n",
      "[CV 5/5] END .......C=10000.0, solver=liblinear;, score=0.833 total time=   0.0s\n"
     ]
    },
    {
     "data": {
      "text/plain": [
       "GridSearchCV(cv=5, estimator=LogisticRegression(),\n",
       "             param_grid={'C': array([1.00000000e-04, 1.88739182e-04, 3.56224789e-04, 6.72335754e-04,\n",
       "       1.26896100e-03, 2.39502662e-03, 4.52035366e-03, 8.53167852e-03,\n",
       "       1.61026203e-02, 3.03919538e-02, 5.73615251e-02, 1.08263673e-01,\n",
       "       2.04335972e-01, 3.85662042e-01, 7.27895384e-01, 1.37382380e+00,\n",
       "       2.59294380e+00, 4.89390092e+00, 9.23670857e+00, 1.74332882e+01,\n",
       "       3.29034456e+01, 6.21016942e+01, 1.17210230e+02, 2.21221629e+02,\n",
       "       4.17531894e+02, 7.88046282e+02, 1.48735211e+03, 2.80721620e+03,\n",
       "       5.29831691e+03, 1.00000000e+04]),\n",
       "                         'solver': ['liblinear']},\n",
       "             verbose=3)"
      ]
     },
     "execution_count": 36,
     "metadata": {},
     "output_type": "execute_result"
    }
   ],
   "source": [
    "# Different hyperparamete for our logistic Regression\n",
    "from sklearn.model_selection import GridSearchCV\n",
    "\n",
    "log_reg_grid = {\n",
    "    'C':np.logspace(-4,4,30),\n",
    "    'solver':['liblinear']\n",
    "}\n",
    "\n",
    "gs_log_reg = GridSearchCV(estimator=LogisticRegression(),\n",
    "                         param_grid=log_reg_grid,\n",
    "                         cv=5,\n",
    "                         verbose=3,\n",
    "                         )\n",
    "\n",
    "gs_log_reg.fit(X_train,y_train)"
   ]
  },
  {
   "cell_type": "code",
   "execution_count": 37,
   "id": "80b67c87",
   "metadata": {},
   "outputs": [
    {
     "data": {
      "text/plain": [
       "{'C': 0.38566204211634725, 'solver': 'liblinear'}"
      ]
     },
     "execution_count": 37,
     "metadata": {},
     "output_type": "execute_result"
    }
   ],
   "source": [
    "gs_log_reg.best_params_"
   ]
  },
  {
   "cell_type": "code",
   "execution_count": 38,
   "id": "d5346554",
   "metadata": {},
   "outputs": [
    {
     "data": {
      "text/plain": [
       "0.8524590163934426"
      ]
     },
     "execution_count": 38,
     "metadata": {},
     "output_type": "execute_result"
    }
   ],
   "source": [
    "gs_log_reg.score(X_test,y_test)"
   ]
  },
  {
   "cell_type": "markdown",
   "id": "c8e54dbc",
   "metadata": {},
   "source": [
    "### Evaluation beyond accuracy\n",
    "\n",
    "* ROC curve and AUC score\n",
    "* confusion matrix\n",
    "* Classification report\n",
    "* Precision\n",
    "* Recall\n",
    "* F1 score\n",
    "\n",
    "To make comparisons and evaluate our evaluate model, first we need to make predictions"
   ]
  },
  {
   "cell_type": "code",
   "execution_count": 39,
   "id": "c1dc9bea",
   "metadata": {},
   "outputs": [
    {
     "data": {
      "text/plain": [
       "array([1, 1, 0, 0, 0, 1, 1, 1, 0, 1, 1, 1, 1, 0, 1, 1, 0, 1, 0, 1, 0, 1,\n",
       "       0, 0, 0, 1, 1, 1, 0, 1, 1, 0, 1, 1, 1, 1, 0, 1, 0, 0, 1, 1, 1, 0,\n",
       "       0, 0, 1, 0, 1, 0, 1, 1, 1, 1, 0, 0, 1, 1, 0, 1, 0], dtype=int64)"
      ]
     },
     "execution_count": 39,
     "metadata": {},
     "output_type": "execute_result"
    }
   ],
   "source": [
    "y_preds = gs_log_reg.predict(X_test)\n",
    "y_preds"
   ]
  },
  {
   "cell_type": "code",
   "execution_count": 40,
   "id": "c87ff70d",
   "metadata": {},
   "outputs": [
    {
     "name": "stderr",
     "output_type": "stream",
     "text": [
      "C:\\ProgramData\\Anaconda3\\lib\\site-packages\\sklearn\\utils\\deprecation.py:87: FutureWarning: Function plot_roc_curve is deprecated; Function :func:`plot_roc_curve` is deprecated in 1.0 and will be removed in 1.2. Use one of the class methods: :meth:`sklearn.metric.RocCurveDisplay.from_predictions` or :meth:`sklearn.metric.RocCurveDisplay.from_estimator`.\n",
      "  warnings.warn(msg, category=FutureWarning)\n"
     ]
    },
    {
     "data": {
      "image/png": "[encoded data removed]",
      "text/plain": [
       "<Figure size 432x288 with 1 Axes>"
      ]
     },
     "metadata": {
      "needs_background": "light"
     },
     "output_type": "display_data"
    }
   ],
   "source": [
    "# Plot ROC curve and calculate AUC metric\n",
    "\n",
    "plot_roc_curve(gs_log_reg,X_test,y_test);"
   ]
  },
  {
   "cell_type": "code",
   "execution_count": 41,
   "id": "4309b722",
   "metadata": {},
   "outputs": [
    {
     "name": "stdout",
     "output_type": "stream",
     "text": [
      "[[22  6]\n",
      " [ 3 30]]\n"
     ]
    }
   ],
   "source": [
    "#Confusion Matrix\n",
    "from sklearn.metrics import confusion_matrix\n",
    "print(confusion_matrix(y_test,y_preds))"
   ]
  },
  {
   "cell_type": "code",
   "execution_count": 42,
   "id": "80f3116c",
   "metadata": {},
   "outputs": [
    {
     "data": {
      "image/png": "[encoded data removed]",
      "text/plain": [
       "<Figure size 216x216 with 1 Axes>"
      ]
     },
     "metadata": {},
     "output_type": "display_data"
    }
   ],
   "source": [
    "sns.set(font_scale=1.5)\n",
    "\n",
    "def plot_conf_mat(y_test,y_preds):\n",
    "    \n",
    "    fig , ax = plt.subplots(figsize=(3,3))\n",
    "    ax = sns.heatmap(confusion_matrix(y_test,y_preds),\n",
    "                     annot=True,\n",
    "                     cbar=False)\n",
    "    plt.xlabel('Predicted label')\n",
    "    plt.ylabel('True label')\n",
    "    \n",
    "plot_conf_mat(y_test,y_preds)"
   ]
  },
  {
   "cell_type": "markdown",
   "id": "6581c739",
   "metadata": {},
   "source": [
    "Classification report as well as cross-validated precision, recall and f1-score"
   ]
  },
  {
   "cell_type": "code",
   "execution_count": 43,
   "id": "89c519f6",
   "metadata": {},
   "outputs": [
    {
     "name": "stdout",
     "output_type": "stream",
     "text": [
      "              precision    recall  f1-score   support\n",
      "\n",
      "           0       0.88      0.79      0.83        28\n",
      "           1       0.83      0.91      0.87        33\n",
      "\n",
      "    accuracy                           0.85        61\n",
      "   macro avg       0.86      0.85      0.85        61\n",
      "weighted avg       0.85      0.85      0.85        61\n",
      "\n"
     ]
    }
   ],
   "source": [
    "print(classification_report(y_test,y_preds))"
   ]
  },
  {
   "cell_type": "markdown",
   "id": "e4990715",
   "metadata": {},
   "source": [
    "### Calculate evaluation metrcis usign cross-validation\n"
   ]
  },
  {
   "cell_type": "code",
   "execution_count": 44,
   "id": "f3ab4685",
   "metadata": {},
   "outputs": [
    {
     "data": {
      "text/plain": [
       "{'C': 0.38566204211634725, 'solver': 'liblinear'}"
      ]
     },
     "execution_count": 44,
     "metadata": {},
     "output_type": "execute_result"
    }
   ],
   "source": [
    "gs_log_reg.best_params_"
   ]
  },
  {
   "cell_type": "code",
   "execution_count": 45,
   "id": "2a51ccac",
   "metadata": {},
   "outputs": [],
   "source": [
    "#create a new classifier wiht the best \n",
    "np.random.seed(42)\n",
    "from sklearn.model_selection import cross_val_score\n",
    "\n",
    "model = LogisticRegression(C=0.38566204211634725, solver='liblinear')"
   ]
  },
  {
   "cell_type": "code",
   "execution_count": 46,
   "id": "3a4a1358",
   "metadata": {},
   "outputs": [],
   "source": [
    "#Cross validated accuracy\n",
    "cv_acc = np.mean(cross_val_score(model,X,y,cv=5,scoring=None))"
   ]
  },
  {
   "cell_type": "code",
   "execution_count": 47,
   "id": "2fa2dc53",
   "metadata": {},
   "outputs": [],
   "source": [
    "# Cross validated precision\n",
    "cv_precision = np.mean(cross_val_score(model,X,y,cv=5,scoring='precision'))"
   ]
  },
  {
   "cell_type": "code",
   "execution_count": 48,
   "id": "cfd6dba1",
   "metadata": {},
   "outputs": [],
   "source": [
    "# Cross validated recall\n",
    "cv_recall = np.mean(cross_val_score(model,X,y,scoring='recall',cv=5))"
   ]
  },
  {
   "cell_type": "code",
   "execution_count": 49,
   "id": "bee50b56",
   "metadata": {},
   "outputs": [],
   "source": [
    "# Cross validated f1-score\n",
    "cv_f1 = np.mean(cross_val_score(model,X,y,scoring='f1',cv=5))"
   ]
  },
  {
   "cell_type": "code",
   "execution_count": 50,
   "id": "2fa9b12d",
   "metadata": {},
   "outputs": [
    {
     "data": {
      "text/html": [
       "<div>\n",
       "<style scoped>\n",
       "    .dataframe tbody tr th:only-of-type {\n",
       "        vertical-align: middle;\n",
       "    }\n",
       "\n",
       "    .dataframe tbody tr th {\n",
       "        vertical-align: top;\n",
       "    }\n",
       "\n",
       "    .dataframe thead th {\n",
       "        text-align: right;\n",
       "    }\n",
       "</style>\n",
       "<table border=\"1\" class=\"dataframe\">\n",
       "  <thead>\n",
       "    <tr style=\"text-align: right;\">\n",
       "      <th></th>\n",
       "      <th>0</th>\n",
       "    </tr>\n",
       "  </thead>\n",
       "  <tbody>\n",
       "    <tr>\n",
       "      <th>Accuracy</th>\n",
       "      <td>0.838087</td>\n",
       "    </tr>\n",
       "    <tr>\n",
       "      <th>Precision</th>\n",
       "      <td>0.815467</td>\n",
       "    </tr>\n",
       "    <tr>\n",
       "      <th>Recall</th>\n",
       "      <td>0.915152</td>\n",
       "    </tr>\n",
       "    <tr>\n",
       "      <th>F1 Score</th>\n",
       "      <td>0.861485</td>\n",
       "    </tr>\n",
       "  </tbody>\n",
       "</table>\n",
       "</div>"
      ],
      "text/plain": [
       "                  0\n",
       "Accuracy   0.838087\n",
       "Precision  0.815467\n",
       "Recall     0.915152\n",
       "F1 Score   0.861485"
      ]
     },
     "execution_count": 50,
     "metadata": {},
     "output_type": "execute_result"
    }
   ],
   "source": [
    "cv_metrics = pd.DataFrame({'Accuracy':cv_acc,\n",
    "                          'Precision':cv_precision,\n",
    "                           'Recall':cv_recall,\n",
    "                           'F1 Score':cv_f1\n",
    "                          }, index=[0])\n",
    "cv_metrics.T"
   ]
  },
  {
   "cell_type": "code",
   "execution_count": 51,
   "id": "a1f209a8",
   "metadata": {},
   "outputs": [
    {
     "data": {
      "text/plain": [
       "Text(0.5, 1.0, 'Cross Validated Metrics Score')"
      ]
     },
     "execution_count": 51,
     "metadata": {},
     "output_type": "execute_result"
    },
    {
     "data": {
      "image/png": "[encoded data removed]",
      "text/plain": [
       "<Figure size 432x288 with 1 Axes>"
      ]
     },
     "metadata": {},
     "output_type": "display_data"
    }
   ],
   "source": [
    "cv_metrics.T.plot.bar(legend=False)\n",
    "plt.title('Cross Validated Metrics Score')\n"
   ]
  },
  {
   "cell_type": "markdown",
   "id": "b5974e0b",
   "metadata": {},
   "source": [
    "### Feature importance\n",
    "\n",
    "Feature importance is another as asking \"which features contributed most to the outcomes of the model and how did they contribute"
   ]
  },
  {
   "cell_type": "markdown",
   "id": "495c4a28",
   "metadata": {},
   "source": [
    "Finding feature importance is different for each machine learning model"
   ]
  },
  {
   "cell_type": "code",
   "execution_count": 52,
   "id": "0450a20a",
   "metadata": {},
   "outputs": [
    {
     "data": {
      "text/plain": [
       "{'C': 0.38566204211634725, 'solver': 'liblinear'}"
      ]
     },
     "execution_count": 52,
     "metadata": {},
     "output_type": "execute_result"
    }
   ],
   "source": [
    "#Feature importance of Log_Regression\n",
    "\n",
    "gs_log_reg.best_params_"
   ]
  },
  {
   "cell_type": "code",
   "execution_count": 53,
   "id": "e4ec847d",
   "metadata": {},
   "outputs": [],
   "source": [
    "model = LogisticRegression(C=0.38566204211634725,solver='liblinear')"
   ]
  },
  {
   "cell_type": "code",
   "execution_count": 54,
   "id": "3de68ed4",
   "metadata": {
    "scrolled": true
   },
   "outputs": [
    {
     "data": {
      "text/plain": [
       "LogisticRegression(C=0.38566204211634725, solver='liblinear')"
      ]
     },
     "execution_count": 54,
     "metadata": {},
     "output_type": "execute_result"
    }
   ],
   "source": [
    "model.fit(X_train,y_train)"
   ]
  },
  {
   "cell_type": "code",
   "execution_count": 55,
   "id": "6b760088",
   "metadata": {},
   "outputs": [
    {
     "data": {
      "text/html": [
       "<div>\n",
       "<style scoped>\n",
       "    .dataframe tbody tr th:only-of-type {\n",
       "        vertical-align: middle;\n",
       "    }\n",
       "\n",
       "    .dataframe tbody tr th {\n",
       "        vertical-align: top;\n",
       "    }\n",
       "\n",
       "    .dataframe thead th {\n",
       "        text-align: right;\n",
       "    }\n",
       "</style>\n",
       "<table border=\"1\" class=\"dataframe\">\n",
       "  <thead>\n",
       "    <tr style=\"text-align: right;\">\n",
       "      <th></th>\n",
       "      <th>age</th>\n",
       "      <th>sex</th>\n",
       "      <th>cp</th>\n",
       "      <th>trestbps</th>\n",
       "      <th>chol</th>\n",
       "      <th>fbs</th>\n",
       "      <th>restecg</th>\n",
       "      <th>thalach</th>\n",
       "      <th>exang</th>\n",
       "      <th>oldpeak</th>\n",
       "      <th>slope</th>\n",
       "      <th>ca</th>\n",
       "      <th>thal</th>\n",
       "      <th>target</th>\n",
       "    </tr>\n",
       "  </thead>\n",
       "  <tbody>\n",
       "    <tr>\n",
       "      <th>0</th>\n",
       "      <td>63</td>\n",
       "      <td>1</td>\n",
       "      <td>3</td>\n",
       "      <td>145</td>\n",
       "      <td>233</td>\n",
       "      <td>1</td>\n",
       "      <td>0</td>\n",
       "      <td>150</td>\n",
       "      <td>0</td>\n",
       "      <td>2.3</td>\n",
       "      <td>0</td>\n",
       "      <td>0</td>\n",
       "      <td>1</td>\n",
       "      <td>1</td>\n",
       "    </tr>\n",
       "    <tr>\n",
       "      <th>1</th>\n",
       "      <td>37</td>\n",
       "      <td>1</td>\n",
       "      <td>2</td>\n",
       "      <td>130</td>\n",
       "      <td>250</td>\n",
       "      <td>0</td>\n",
       "      <td>1</td>\n",
       "      <td>187</td>\n",
       "      <td>0</td>\n",
       "      <td>3.5</td>\n",
       "      <td>0</td>\n",
       "      <td>0</td>\n",
       "      <td>2</td>\n",
       "      <td>1</td>\n",
       "    </tr>\n",
       "    <tr>\n",
       "      <th>2</th>\n",
       "      <td>41</td>\n",
       "      <td>0</td>\n",
       "      <td>1</td>\n",
       "      <td>130</td>\n",
       "      <td>204</td>\n",
       "      <td>0</td>\n",
       "      <td>0</td>\n",
       "      <td>172</td>\n",
       "      <td>0</td>\n",
       "      <td>1.4</td>\n",
       "      <td>2</td>\n",
       "      <td>0</td>\n",
       "      <td>2</td>\n",
       "      <td>1</td>\n",
       "    </tr>\n",
       "    <tr>\n",
       "      <th>3</th>\n",
       "      <td>56</td>\n",
       "      <td>1</td>\n",
       "      <td>1</td>\n",
       "      <td>120</td>\n",
       "      <td>236</td>\n",
       "      <td>0</td>\n",
       "      <td>1</td>\n",
       "      <td>178</td>\n",
       "      <td>0</td>\n",
       "      <td>0.8</td>\n",
       "      <td>2</td>\n",
       "      <td>0</td>\n",
       "      <td>2</td>\n",
       "      <td>1</td>\n",
       "    </tr>\n",
       "    <tr>\n",
       "      <th>4</th>\n",
       "      <td>57</td>\n",
       "      <td>0</td>\n",
       "      <td>0</td>\n",
       "      <td>120</td>\n",
       "      <td>354</td>\n",
       "      <td>0</td>\n",
       "      <td>1</td>\n",
       "      <td>163</td>\n",
       "      <td>1</td>\n",
       "      <td>0.6</td>\n",
       "      <td>2</td>\n",
       "      <td>0</td>\n",
       "      <td>2</td>\n",
       "      <td>1</td>\n",
       "    </tr>\n",
       "    <tr>\n",
       "      <th>...</th>\n",
       "      <td>...</td>\n",
       "      <td>...</td>\n",
       "      <td>...</td>\n",
       "      <td>...</td>\n",
       "      <td>...</td>\n",
       "      <td>...</td>\n",
       "      <td>...</td>\n",
       "      <td>...</td>\n",
       "      <td>...</td>\n",
       "      <td>...</td>\n",
       "      <td>...</td>\n",
       "      <td>...</td>\n",
       "      <td>...</td>\n",
       "      <td>...</td>\n",
       "    </tr>\n",
       "    <tr>\n",
       "      <th>298</th>\n",
       "      <td>57</td>\n",
       "      <td>0</td>\n",
       "      <td>0</td>\n",
       "      <td>140</td>\n",
       "      <td>241</td>\n",
       "      <td>0</td>\n",
       "      <td>1</td>\n",
       "      <td>123</td>\n",
       "      <td>1</td>\n",
       "      <td>0.2</td>\n",
       "      <td>1</td>\n",
       "      <td>0</td>\n",
       "      <td>3</td>\n",
       "      <td>0</td>\n",
       "    </tr>\n",
       "    <tr>\n",
       "      <th>299</th>\n",
       "      <td>45</td>\n",
       "      <td>1</td>\n",
       "      <td>3</td>\n",
       "      <td>110</td>\n",
       "      <td>264</td>\n",
       "      <td>0</td>\n",
       "      <td>1</td>\n",
       "      <td>132</td>\n",
       "      <td>0</td>\n",
       "      <td>1.2</td>\n",
       "      <td>1</td>\n",
       "      <td>0</td>\n",
       "      <td>3</td>\n",
       "      <td>0</td>\n",
       "    </tr>\n",
       "    <tr>\n",
       "      <th>300</th>\n",
       "      <td>68</td>\n",
       "      <td>1</td>\n",
       "      <td>0</td>\n",
       "      <td>144</td>\n",
       "      <td>193</td>\n",
       "      <td>1</td>\n",
       "      <td>1</td>\n",
       "      <td>141</td>\n",
       "      <td>0</td>\n",
       "      <td>3.4</td>\n",
       "      <td>1</td>\n",
       "      <td>2</td>\n",
       "      <td>3</td>\n",
       "      <td>0</td>\n",
       "    </tr>\n",
       "    <tr>\n",
       "      <th>301</th>\n",
       "      <td>57</td>\n",
       "      <td>1</td>\n",
       "      <td>0</td>\n",
       "      <td>130</td>\n",
       "      <td>131</td>\n",
       "      <td>0</td>\n",
       "      <td>1</td>\n",
       "      <td>115</td>\n",
       "      <td>1</td>\n",
       "      <td>1.2</td>\n",
       "      <td>1</td>\n",
       "      <td>1</td>\n",
       "      <td>3</td>\n",
       "      <td>0</td>\n",
       "    </tr>\n",
       "    <tr>\n",
       "      <th>302</th>\n",
       "      <td>57</td>\n",
       "      <td>0</td>\n",
       "      <td>1</td>\n",
       "      <td>130</td>\n",
       "      <td>236</td>\n",
       "      <td>0</td>\n",
       "      <td>0</td>\n",
       "      <td>174</td>\n",
       "      <td>0</td>\n",
       "      <td>0.0</td>\n",
       "      <td>1</td>\n",
       "      <td>1</td>\n",
       "      <td>2</td>\n",
       "      <td>0</td>\n",
       "    </tr>\n",
       "  </tbody>\n",
       "</table>\n",
       "<p>303 rows × 14 columns</p>\n",
       "</div>"
      ],
      "text/plain": [
       "     age  sex  cp  trestbps  chol  fbs  restecg  thalach  exang  oldpeak  \\\n",
       "0     63    1   3       145   233    1        0      150      0      2.3   \n",
       "1     37    1   2       130   250    0        1      187      0      3.5   \n",
       "2     41    0   1       130   204    0        0      172      0      1.4   \n",
       "3     56    1   1       120   236    0        1      178      0      0.8   \n",
       "4     57    0   0       120   354    0        1      163      1      0.6   \n",
       "..   ...  ...  ..       ...   ...  ...      ...      ...    ...      ...   \n",
       "298   57    0   0       140   241    0        1      123      1      0.2   \n",
       "299   45    1   3       110   264    0        1      132      0      1.2   \n",
       "300   68    1   0       144   193    1        1      141      0      3.4   \n",
       "301   57    1   0       130   131    0        1      115      1      1.2   \n",
       "302   57    0   1       130   236    0        0      174      0      0.0   \n",
       "\n",
       "     slope  ca  thal  target  \n",
       "0        0   0     1       1  \n",
       "1        0   0     2       1  \n",
       "2        2   0     2       1  \n",
       "3        2   0     2       1  \n",
       "4        2   0     2       1  \n",
       "..     ...  ..   ...     ...  \n",
       "298      1   0     3       0  \n",
       "299      1   0     3       0  \n",
       "300      1   2     3       0  \n",
       "301      1   1     3       0  \n",
       "302      1   1     2       0  \n",
       "\n",
       "[303 rows x 14 columns]"
      ]
     },
     "execution_count": 55,
     "metadata": {},
     "output_type": "execute_result"
    }
   ],
   "source": [
    "df"
   ]
  },
  {
   "cell_type": "code",
   "execution_count": 56,
   "id": "c21f9fd0",
   "metadata": {},
   "outputs": [
    {
     "data": {
      "text/plain": [
       "array([[ 8.84806484e-03, -1.07764306e+00,  8.99676456e-01,\n",
       "        -1.56060330e-02, -1.25815509e-04, -7.53608891e-02,\n",
       "         4.13713688e-01,  2.36613668e-02, -6.63497661e-01,\n",
       "        -5.24577066e-01,  4.27324968e-01, -6.32052170e-01,\n",
       "        -7.13324239e-01]])"
      ]
     },
     "execution_count": 56,
     "metadata": {},
     "output_type": "execute_result"
    }
   ],
   "source": [
    "#check coef\n",
    "model.coef_"
   ]
  },
  {
   "cell_type": "code",
   "execution_count": 57,
   "id": "e091b654",
   "metadata": {},
   "outputs": [
    {
     "data": {
      "text/plain": [
       "{'age': 0.0088480648417672,\n",
       " 'sex': -1.077643061358959,\n",
       " 'cp': 0.8996764555420237,\n",
       " 'trestbps': -0.015606032978797814,\n",
       " 'chol': -0.00012581550855692827,\n",
       " 'fbs': -0.07536088905831702,\n",
       " 'restecg': 0.41371368826813126,\n",
       " 'thalach': 0.02366136679725514,\n",
       " 'exang': -0.6634976606830292,\n",
       " 'oldpeak': -0.5245770660710152,\n",
       " 'slope': 0.4273249675037609,\n",
       " 'ca': -0.6320521697757744,\n",
       " 'thal': -0.71332423903951}"
      ]
     },
     "execution_count": 57,
     "metadata": {},
     "output_type": "execute_result"
    }
   ],
   "source": [
    "#Match coef's of features to columns\n",
    "feature_dict = dict(zip(df.columns,list(model.coef_[0])))\n",
    "feature_dict"
   ]
  },
  {
   "cell_type": "code",
   "execution_count": 58,
   "id": "e7e9cec6",
   "metadata": {
    "scrolled": false
   },
   "outputs": [
    {
     "data": {
      "text/html": [
       "<div>\n",
       "<style scoped>\n",
       "    .dataframe tbody tr th:only-of-type {\n",
       "        vertical-align: middle;\n",
       "    }\n",
       "\n",
       "    .dataframe tbody tr th {\n",
       "        vertical-align: top;\n",
       "    }\n",
       "\n",
       "    .dataframe thead th {\n",
       "        text-align: right;\n",
       "    }\n",
       "</style>\n",
       "<table border=\"1\" class=\"dataframe\">\n",
       "  <thead>\n",
       "    <tr style=\"text-align: right;\">\n",
       "      <th></th>\n",
       "      <th>0</th>\n",
       "    </tr>\n",
       "  </thead>\n",
       "  <tbody>\n",
       "    <tr>\n",
       "      <th>age</th>\n",
       "      <td>0.008848</td>\n",
       "    </tr>\n",
       "    <tr>\n",
       "      <th>sex</th>\n",
       "      <td>-1.077643</td>\n",
       "    </tr>\n",
       "    <tr>\n",
       "      <th>cp</th>\n",
       "      <td>0.899676</td>\n",
       "    </tr>\n",
       "    <tr>\n",
       "      <th>trestbps</th>\n",
       "      <td>-0.015606</td>\n",
       "    </tr>\n",
       "    <tr>\n",
       "      <th>chol</th>\n",
       "      <td>-0.000126</td>\n",
       "    </tr>\n",
       "    <tr>\n",
       "      <th>fbs</th>\n",
       "      <td>-0.075361</td>\n",
       "    </tr>\n",
       "    <tr>\n",
       "      <th>restecg</th>\n",
       "      <td>0.413714</td>\n",
       "    </tr>\n",
       "    <tr>\n",
       "      <th>thalach</th>\n",
       "      <td>0.023661</td>\n",
       "    </tr>\n",
       "    <tr>\n",
       "      <th>exang</th>\n",
       "      <td>-0.663498</td>\n",
       "    </tr>\n",
       "    <tr>\n",
       "      <th>oldpeak</th>\n",
       "      <td>-0.524577</td>\n",
       "    </tr>\n",
       "    <tr>\n",
       "      <th>slope</th>\n",
       "      <td>0.427325</td>\n",
       "    </tr>\n",
       "    <tr>\n",
       "      <th>ca</th>\n",
       "      <td>-0.632052</td>\n",
       "    </tr>\n",
       "    <tr>\n",
       "      <th>thal</th>\n",
       "      <td>-0.713324</td>\n",
       "    </tr>\n",
       "  </tbody>\n",
       "</table>\n",
       "</div>"
      ],
      "text/plain": [
       "                 0\n",
       "age       0.008848\n",
       "sex      -1.077643\n",
       "cp        0.899676\n",
       "trestbps -0.015606\n",
       "chol     -0.000126\n",
       "fbs      -0.075361\n",
       "restecg   0.413714\n",
       "thalach   0.023661\n",
       "exang    -0.663498\n",
       "oldpeak  -0.524577\n",
       "slope     0.427325\n",
       "ca       -0.632052\n",
       "thal     -0.713324"
      ]
     },
     "execution_count": 58,
     "metadata": {},
     "output_type": "execute_result"
    }
   ],
   "source": [
    "#Visualize feature importance\n",
    "feature_df = pd.DataFrame(feature_dict,index=[0])\n",
    "feature_df.T"
   ]
  },
  {
   "cell_type": "code",
   "execution_count": 60,
   "id": "410694a0",
   "metadata": {
    "scrolled": true
   },
   "outputs": [
    {
     "data": {
      "image/png": "[encoded data removed]",
      "text/plain": [
       "<Figure size 432x288 with 1 Axes>"
      ]
     },
     "metadata": {},
     "output_type": "display_data"
    }
   ],
   "source": [
    "feature_df.T.plot.bar(legend=False)\n",
    "plt.title('Feature Importance');"
   ]
  },
  {
   "cell_type": "code",
   "execution_count": null,
   "id": "3dec1c93",
   "metadata": {},
   "outputs": [],
   "source": []
  }
 ],
 "metadata": {
  "kernelspec": {
   "display_name": "Python 3 (ipykernel)",
   "language": "python",
   "name": "python3"
  },
  "language_info": {
   "codemirror_mode": {
    "name": "ipython",
    "version": 3
   },
   "file_extension": ".py",
   "mimetype": "text/x-python",
   "name": "python",
   "nbconvert_exporter": "python",
   "pygments_lexer": "ipython3",
   "version": "3.9.12"
  }
 },
 "nbformat": 4,
 "nbformat_minor": 5
}

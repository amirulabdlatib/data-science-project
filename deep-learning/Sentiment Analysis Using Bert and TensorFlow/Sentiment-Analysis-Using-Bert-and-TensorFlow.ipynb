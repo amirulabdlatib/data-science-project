{
 "cells": [
  {
   "cell_type": "markdown",
   "id": "29745bf5",
   "metadata": {},
   "source": [
    "# 1. Preparing libraries"
   ]
  },
  {
   "cell_type": "code",
   "execution_count": 1,
   "id": "c6c5b8b3",
   "metadata": {},
   "outputs": [],
   "source": [
    "from transformers import BertTokenizer, TFBertForSequenceClassification\n",
    "import tensorflow as tf\n",
    "import requests\n",
    "from bs4 import BeautifulSoup\n",
    "import re\n",
    "import pandas as pd\n",
    "import numpy as np\n",
    "import warnings"
   ]
  },
  {
   "cell_type": "code",
   "execution_count": 2,
   "id": "d317b3dd",
   "metadata": {},
   "outputs": [],
   "source": [
    "warnings.filterwarnings('ignore')"
   ]
  },
  {
   "cell_type": "markdown",
   "id": "e4d69c7c",
   "metadata": {},
   "source": [
    "# 2. Instantiate model"
   ]
  },
  {
   "cell_type": "code",
   "execution_count": 3,
   "id": "3709154a",
   "metadata": {},
   "outputs": [
    {
     "name": "stderr",
     "output_type": "stream",
     "text": [
      "All model checkpoint layers were used when initializing TFBertForSequenceClassification.\n",
      "\n",
      "All the layers of TFBertForSequenceClassification were initialized from the model checkpoint at nlptown/bert-base-multilingual-uncased-sentiment.\n",
      "If your task is similar to the task the model of the checkpoint was trained on, you can already use TFBertForSequenceClassification for predictions without further training.\n"
     ]
    }
   ],
   "source": [
    "# Load model directly\n",
    "from transformers import AutoTokenizer, AutoModelForSequenceClassification\n",
    "\n",
    "tokenizer = BertTokenizer.from_pretrained(\"nlptown/bert-base-multilingual-uncased-sentiment\")\n",
    "model = TFBertForSequenceClassification.from_pretrained(\"nlptown/bert-base-multilingual-uncased-sentiment\")"
   ]
  },
  {
   "cell_type": "markdown",
   "id": "96416fa1",
   "metadata": {},
   "source": [
    "# 3. Encode and Calculate Sentiment"
   ]
  },
  {
   "cell_type": "code",
   "execution_count": 4,
   "id": "e527cd8a",
   "metadata": {},
   "outputs": [],
   "source": [
    "tokens = tokenizer.encode(\"'It was good but could've been better. Great'\",return_tensors='tf')"
   ]
  },
  {
   "cell_type": "code",
   "execution_count": 5,
   "id": "80377988",
   "metadata": {},
   "outputs": [
    {
     "data": {
      "text/plain": [
       "<tf.Tensor: shape=(1, 15), dtype=int32, numpy=\n",
       "array([[  101,   112, 10197, 10140, 12050, 10502, 12296,   112, 10312,\n",
       "        10662, 16197,   119, 11838,   112,   102]])>"
      ]
     },
     "execution_count": 5,
     "metadata": {},
     "output_type": "execute_result"
    }
   ],
   "source": [
    "tokens"
   ]
  },
  {
   "cell_type": "code",
   "execution_count": 6,
   "id": "b39a4510",
   "metadata": {},
   "outputs": [
    {
     "data": {
      "text/plain": [
       "\"[CLS]'it was good but could've been better. great'[SEP]\""
      ]
     },
     "execution_count": 6,
     "metadata": {},
     "output_type": "execute_result"
    }
   ],
   "source": [
    "tokenizer.decode(tokens[0])"
   ]
  },
  {
   "cell_type": "code",
   "execution_count": 7,
   "id": "deccd6c5",
   "metadata": {},
   "outputs": [
    {
     "data": {
      "text/plain": [
       "array([4], dtype=int64)"
      ]
     },
     "execution_count": 7,
     "metadata": {},
     "output_type": "execute_result"
    }
   ],
   "source": [
    "text = \"'It was good but could've been better. Great'\"\n",
    "inputs = tokenizer(text,return_tensors='tf')\n",
    "outputs = model(inputs)\n",
    "sentiment = tf.argmax(outputs.logits,axis=1).numpy()+1\n",
    "sentiment"
   ]
  },
  {
   "cell_type": "code",
   "execution_count": 8,
   "id": "5af44ed5",
   "metadata": {},
   "outputs": [
    {
     "data": {
      "text/plain": [
       "{'input_ids': <tf.Tensor: shape=(1, 15), dtype=int32, numpy=\n",
       "array([[  101,   112, 10197, 10140, 12050, 10502, 12296,   112, 10312,\n",
       "        10662, 16197,   119, 11838,   112,   102]])>, 'token_type_ids': <tf.Tensor: shape=(1, 15), dtype=int32, numpy=array([[0, 0, 0, 0, 0, 0, 0, 0, 0, 0, 0, 0, 0, 0, 0]])>, 'attention_mask': <tf.Tensor: shape=(1, 15), dtype=int32, numpy=array([[1, 1, 1, 1, 1, 1, 1, 1, 1, 1, 1, 1, 1, 1, 1]])>}"
      ]
     },
     "execution_count": 8,
     "metadata": {},
     "output_type": "execute_result"
    }
   ],
   "source": [
    "inputs"
   ]
  },
  {
   "cell_type": "code",
   "execution_count": 9,
   "id": "ac61057f",
   "metadata": {},
   "outputs": [
    {
     "data": {
      "text/plain": [
       "TFSequenceClassifierOutput(loss=None, logits=<tf.Tensor: shape=(1, 5), dtype=float32, numpy=\n",
       "array([[-2.5271244 , -0.9121963 ,  1.4682176 ,  1.7026639 ,  0.20254713]],\n",
       "      dtype=float32)>, hidden_states=None, attentions=None)"
      ]
     },
     "execution_count": 9,
     "metadata": {},
     "output_type": "execute_result"
    }
   ],
   "source": [
    "outputs"
   ]
  },
  {
   "cell_type": "code",
   "execution_count": 10,
   "id": "4859a2b9",
   "metadata": {},
   "outputs": [
    {
     "name": "stdout",
     "output_type": "stream",
     "text": [
      "[4]\n"
     ]
    }
   ],
   "source": [
    "print(sentiment)"
   ]
  },
  {
   "cell_type": "code",
   "execution_count": 11,
   "id": "a8a32a84",
   "metadata": {},
   "outputs": [
    {
     "name": "stdout",
     "output_type": "stream",
     "text": [
      "4\n"
     ]
    }
   ],
   "source": [
    "print(sentiment[0])"
   ]
  },
  {
   "cell_type": "markdown",
   "id": "383e85ff",
   "metadata": {},
   "source": [
    "# 4. Collect Reviews"
   ]
  },
  {
   "cell_type": "code",
   "execution_count": 12,
   "id": "f63ff526",
   "metadata": {},
   "outputs": [],
   "source": [
    "r=requests.get('https://www.goodreads.com/book/show/40363665/reviews?reviewFilters={%22workId%22:%22kca://work/amzn1.gr.work.v1.ZzOL4ctk34q7z80LZy8RGw%22,%22languageCode%22:%22en%22,%22after%22:%22MTA0LDE1NTkxNjU4MDcwOTU%22}')\n",
    "soup = BeautifulSoup(r.text,'html.parser')\n",
    "results = soup.find_all('span',{'class':'Formatted'})\n",
    "reviews = [result.text for result in results]"
   ]
  },
  {
   "cell_type": "code",
   "execution_count": 13,
   "id": "cba79377",
   "metadata": {
    "scrolled": true
   },
   "outputs": [
    {
     "data": {
      "text/plain": [
       "[\"I spent the last five months learning the math and theory behind machine learning, but when I finally tried to do something on a simple Kaggle set, I was drawing blanks. This book really showed me what I was missing: context. It doesn't just demonstrate different tools, it gives you a framework that you can apply to any problem (chapter 2) and how to think about what you're doing in each phase of an ML project. It doesn't baby you on the math, but it doesn't go deeper than it needs to either. I think the same can be said for the coding. This book is all about connecting and implementing the basics in a solid manner. For me, that's exactly what I'm looking for.It really has been the missing link for me on my self-study to connect theory to application and I'm really happy to have picked it up. If you feel like you're in a similar position, I highly recommend that you pick up a copy. I also recommend doing the coding exercises as you read them. It'll reinforce what you're learning and also keep you from outpacing yourself. Take the time to enjoy the awesome journey that is Hands-On ML. \",\n",
       " 'A really nice and sensible intro to some of the most salient ML topics. Really visual and nifty in explanations, scikit/TF-oriented. Q:When most people hear “Machine Learning,” they picture a robot: a dependable butler or a deadlyTerminator depending on who you ask. But Machine Learning is not just a futuristic fantasy, it’s alreadyhere. In fact, it has been around for decades in some specialized applications, such asOptical Character Recognition (OCR). But the first ML application that really became mainstream, improving the lives ofhundreds of millions of people, took over the world back in the 1990s: it was the spam filter. Not exactlya self-aware Skynet, but it does technically qualify as Machine Learning (it has actually learned so wellthat you seldom need to flag an email as spam anymore). It was followed by hundreds of ML applicationsthat now quietly power hundreds of products and features that you use regularly, from better recommendations to voice search.Where does Machine Learning start and where does it end? What exactly does it mean for a machine to learn something? If I download a copy of Wikipedia, has my computer really “learned” something? Is itsuddenly smarter? In this chapter we will start by clarifying what Machine Learning is and why you maywant to use it. (c)Topics:Q:Here are some of the most important supervised learning algorithms (covered in this book):k-Nearest NeighborsLinear RegressionLogistic RegressionSupport Vector Machines (SVMs)Decision Trees and Random ForestsNeural networks (c)Q:Here are some of the most important unsupervised learning algorithms (we will cover dimensionality reduction in Chapter 8):- Clustering:k-MeansHierarchical Cluster Analysis (HCA)Expectation Maximization- Visualization and dimensionality reduction:Principal Component Analysis (PCA)Kernel PCALocally-Linear Embedding (LLE)t-distributed Stochastic Neighbor Embedding (t-SNE)- Association rule learning:AprioriEclat (c)',\n",
       " 'One of the best ML books out there. Dives deep into the practical implementation of Sklearn and Tensorflow. Also, dives deep enough into the math side of ML. Read it from cover to cover. Really worth it.',\n",
       " 'I thought this book was a great overview of the actual practice of machine learning, and I think it compares favorably to something like Andrew Ng\\'s \"Machine Learning Yearning\" which contains significantly less detail and no code. In general I think this was a pretty good beginning resource for using these frameworks, and it ends up feeling like reading structured documentation. I think this is a particularly useful part of this book, since in my experience a lot of this field is knowing which search terms to use - a task I think this book accomplishes rather neatly for its reader. I read through this book but I expect I will probably revisit it (along with the notes I took on it) when I need to actually do something it mentions. For example, I don\\'t currently have any need for deploying a tensorflow model but I\\'m certain eventually it will be something I will need to know how to do. It\\'s a nice reference point: I now vaguely know what to do for that, and know I have a good summary + examples available to me when I need it in the future. I did find that a number of the chapters were a little overly repetitive, but I think that\\'s largely because I\\'m not exactly a beginner to keras, so I\\'m willing to not pay any mind to this. But for people who use some of these frameworks relatively often it can get a little boring to hear \"if you want to make a custom version of , you can subclass the existing feature\" for every feature. That said, in general I found that this book captured a nice balance between exposition and documentation. Especially something with as much wide functionality as scikit-learn, it can sometimes get to be a bit much to list out every technique in every module the way it might be in the actual sklearn documentation. However, Aurelien manages to pick out a few examples that capture the essence of the things you need to know, such that even if you\\'ve never seen something before you can easily figure out what\\'s happening (i.e. intoducing sklearn.manifold.TSNE after not mentioning it, but mentioning sklearn.manifold.locally_linear_embedding; you might not really know what TSNE is if you\\'ve never heard it before (if you live under a rock), but you can probably easily infer from context what it\\'s supposed to be doing). You don\\'t need to know every single classifier available in something like sklearn, all you really need to know is that they\\'re all mostly drop-in replacements for each other, and you can look up the details later in the actual documentation if you forget. Likewise, tensorflow 2 really just seems like keras 2, so I\\'m pretty excited about playing around with it a bit more. My opinions on the actual framework are probably not super within the scope of this book, though, so I won\\'t bother detailing them here. In general, a pretty good intro for beginners, and fairly easy to get through if you just want to know how to use a framework you previously didn\\'t know how to use (like tf 2.0)',\n",
       " \"great introduction into machine learning for both developer and non developers. authors suggests to just go through even if you don't understand math details. main points are:- extraction of field expert knowledge is very important. you should know which model will serve better for the given solution. luckily lot of models are available already from other scientists. - training data is the most important part. the more you have it the better. - so if you can you should accumulate as much data as you can, preferably categorized. you may not still know how you will apply the accumulated data in the future but you will need it. - labeling training data is very important too. to train neural network you need to have at least thousands of labeled data samples. the more the better. - Machine learning algorithms and neural networks are pretty common for years but latest breakthrough is possible because of new optimization , new autoencoders ( that may help to artificially generate training data) allowing to do training faster and with less data. - machine learning is still pretty time and resources consuming process. - to train machine learning model you need to know how to tweak parameters and how to use different training approaches fitting the particular model.the book demonstrate (including the code) different approaches using SciLearn python package and also the TensorFlow. \",\n",
       " 'The book contains a chapter that shows a basic flow for working with data problems. The TF chapters are interesting but somehow short. I would have liked more on convolutional layers and RNN.The reinforcement learning chapter is very interesting.',\n",
       " '\"Machine Learning is the science (and art) of programming computers so they can learn from data.\"It is December 27th, four days until the end of the year, and I am four books short of my Goodreads 2020 Reading Challenge goal of 60 books. Never abandon hope! I will review two computer science books that were tremendously important to me and my students in 2020, books that helped me return to the field of neural networks and machine learning in general and helped my outstanding research student complete her challenging and advanced research project with extraordinary success. I worked with neural networks (NN) in the late 1980s and early 1990s and even co-taught a psychology/computer science course on neural network learning. However, in the 1990s it had become clear that the limits of what the then traditional NN architecture can achieve had been reached and the scientific community basically abandoned NNs as the preferred approach to machine learning. Yet beginning in the first decade of the 21st century we witnessed the rebirth of the NN idea, primarily via various multi-level NN models, such as convolutional neural networks (CNNs) developed by Le Cun, Hinton, and others. Currently, CNNs achieve truly spectacular (without exaggeration one can say \\'superhuman\\') results in various areas of artificial intelligence (AI) and machine learning (ML).The recent explosion of research and commercial interest in ML resulted in an avalanche of books published on the topic, particularly \"popular\" books (ones that can serve as tutorials of sorts), addressed to computer science practitioners of various level of preparation, from complete novices to advanced. The range of quality of the books is even more vast. I worked with, read, or at least scanned thoroughly over 20 ML books and to me Hands-On Machine Learning is by far the best text, one that can serve for a wide variety of purposes: on one hand, it can serve as an ML textbook, on the other it can be used as a tutorial for particular methods of ML. (I will review the other great ML book, one that focuses purely on NN, the day after tomorrow. By the way, I was amazed how many bad, totally useless ML books have been published. Christmas spirit prevents me from listing their titles.)Aurélien Géron, the author of Hands-On Machine Learning, comes with impressive industry credentials. He served as the Product Manager of YouTube video classification at Google, and held several senior positions in artificial intelligence engineering in various companies. The first two chapters of the book, which belong to the first part entitledThe Fundamentals of Machine Learning, are an absolute must read for anyone interested in studying ML. The author presents the \\'landscape of machine learning\\' and shows a typical ML project \\'end-to-end\\', including data preparation and preprocessing as well as selecting, training, and fine-tuning the model. The next six chapters of Part I focus on specific ML approaches and their mathematical background. We read about the methods of classification, the Support Vector Machines approach, including the \\'kernel trick,\\' decision trees, ensemble learning and random forests. I love the solid yet very accessible presentation of the math background in the chapter on gradient descent, various types of regression, and regularization. Part I closes with a nice chapter about dimensionality reduction, which focuses on the method of Principal Component Analysis.Part II of the book, titled Neural Networks and Deep Learning, gives a great overview of the so-called \\'deep learning\\' approach: the reader will learn about the \\'classical\\' NN approach, and then will be gradually introduced to the multi-level NN architecture, CNNs, recurrent NNs, and autoencoders. The author\\'s reliance on the production-ready Scikit-Learn and TensorFlow Python frameworks rather than on developing own toy versions of various algorithms is commendable. Scikit-Learn, a free software library of machine learning tools, is one of the best things developed in computer science in the last 50 years. It is a splendid manifestation of the power of open-source software.From a teacher\\'s point of view, the book is excellent! I believe Hands-On Machine Learning is great for the students too. It comes with a lot of interesting Python code samples, in the form of Jupyter notebooks. And the code works! The students can learn a lot by rewriting and extending the sample code.Very, very highly recommended book! And I am going to round up my extremely high rating ofFour-and-a-half stars.',\n",
       " \"At the time of reading, I had already learned about most concepts in the book. So, I focused only on the deep parts of Tensorflow. It's a good book overall. I imagine it would be very useful for myself a few years ago.My favorite part is the reinforce learning in the last chapter. The chapter makes sense, is easy to understand, and its example is very practical.\",\n",
       " \"This is the best book I've read on machine learning. It is well written and the examples are very good with real data sets.The first half is an introduction to machine learning and the second half explores deep learning. It is a great book to read along an online course. \",\n",
       " \"A very excellent introduction to many machine learning algorithms beginning at the very beginning and ending much further than I expected. I can't wait for the updated edition to reference because, yes, many tensorflow functions changed name.\",\n",
       " 'The best book about the subject out there. It contains easy to understand code in Python and covers from simple linear regression to RNN and CNNs that were published a few months before the launching of the book. A must have.',\n",
       " 'Best ML book! It explains the most used ML concepts very well while being practical. The graphics used are amazing! It is a piece of art :)',\n",
       " '5* for the first half of the book, scikit learn. 3* for the second half, Tensor Flow. Nice examples with Jupyter notebooks. Good mix of practical with theoretical. The scikit learn section is a great reference, nice detailed explanation with good references for further reading to deepen your knowledge. The tensor flow part is weaker as examples become more complex. Chollet’s book Deep Learning with Python, which uses Keras is much stronger, as the examples are easier to understand as Keras is a simple layer over tensor flow to ease the use. Also Chollet explains the concepts better and nicely annotates his code.Buy this book for scikit learn and overall best practise for machine learning and data science. Buy Chollet’s Deep Learning using Python for practical deep learning itself.Overall still a practical book with Jupyter Notebook supplementary material.',\n",
       " 'Полномасштабное введение в машинное обучение - теоретическое и практическое. Можно использовать как руководство, как справочник, я же пролистал из любопытства...',\n",
       " \"What a read! It's truly one of the best possible looks into the world of the machine learning. It helped me a lot to focus on the most crucial aspects for building usable ML models.\",\n",
       " 'Great book, just not a great book for the purposes of an introduction to ML. In order to really appreciate what this book has to offer, A. Plan to do the exercises, & B. Know your mathematics better than I did when reading it.',\n",
       " 'Nicely well explained from scratch to advanced',\n",
       " 'Of all rankings of ML books Aurélien\\'s HOML tops most lists. With having traversed it now cover to cover for a second time, I\\'d say this book totally lives up to the hype. I will make a case for that shortly. But first, I must say I gotta read it a third time, for the charm of it. To even the score with this latest review being for the third edition. I first heard of the book, a few years back, probably 3. Then the book was a heavy tome of torture, having not solidified my skills as a programmer and my mathematical background still lacking to say the least. Regardless, even then the book was well written to float through it as an initialization step on my learning of ML.Most technical books order their contents in terms how graspable the topics are, that is gradually - from simpler ones onto complex ones. To my understanding, Aurélien\\'s HOML begins with `Machine Learning Algorithms` which are quite taxing to comprehend immediately. Due to their many technical nature from mathematical background and statistics of course. As with everything AI/ML - its the taxonomy that is hard to wrap your head around. Most other concepts are fairly easy, once you are done with all the hard words - most just names of the inventors of those particular methods used. Be warned, there are many of those around. Then the second part of the book, if studied chronologically, will be way easier and I dare say fun to read. Most applicable knowledge within deep learning which is in a craze hype of AI right now: - is seen upfront in this latter part of the book. Which is still technical in nature, even more so, cause stakes are higher with each deep neural network; but, the fun is also surreal. As one builds deep neural nets that will surely be used in the field to create some of the most dazzling models. The book also is cutting edge of reaching some of the model\\'s creation used in likes of the top AI research labs. Other than those two prime reasons to read this book; the other, rather lingering indirectly throughout this book, just as the field of AI is and as the book is written - you will come to the realization of how research driven everything really is and there is no finality even remotely. This fact of course is heighten by the sheer research papers cited in this book. Which reading all of them constitutes another odyssey. With all that said, as one works out all the implementation details of each ML/DL neural network, I sure hope the engineers on track here will build safe models. In whichever corner of AI they eventually converge to! As Aurélien says, \"you now have superpowers: use them well!\"',\n",
       " \"An excellent reference for anyone who wants to get an overview of existing Machine Learning algorithms and learn when and how to apply a suitable model to a given problem. In my opinion, the author strikes a perfect balance between detail and practicality in this textbook, thus providing a pragmatic and easy-to-follow guide for anyone willing to learn.You do not need any prerequisites to read this book other than a working knowledge of the Python programming language and some rudimentary understanding of statistical data analysis concepts. Along the way, you will learn the basics of scikit-learn, Tensorflow 2, and Keras and see all of these frameworks in action.It is also easy and straightforward to access the accompanying Jupyter notebooks from the author's GitHub repository and run them, e.g., in Google's Colaboratory.\",\n",
       " 'This is the first ML book I read.It covers all topics along with practical examples.This is a hands on book and there are no mathematical proofs.The best book to start your journey in ML.Consider the second version of this book since it uses Keras and TensorFlow.',\n",
       " 'Great book for getting to know the basics of data science in Python. Pretty easy to find your way around for reference. Recommended for people looking to break into data science from other parts of CS/sciences.',\n",
       " \"Great book for introduction to machine learning using Scikit-Learn. I didn't like as much the part about Tensorflow but the scikit-leran one is great.\",\n",
       " \"The best book I've read on machine learning fundamentals to-date. I've started to recommend this book to everyone I mentor in the space.\",\n",
       " 'It is impossible to absorb everything in this beast of a machine learning book on first reading (that will require revisiting several chapter and exercises), but I certainly know a whole lot more than when I started reading it. This does truly appear to be the best guide out there to truly get going. Will definitely be revisiting soon.',\n",
       " 'We are reading this book for the book club at Synopsys. We are pretty far in and I am scheduled to present Chapter 7 next week.This is a very practical overview of machine learning techniques using Python. The first couple books I read on it included stuff like \"how to design machine learning algorithms\". This book is more about showing the huge volume of algorithms that are already developed and easy to access. Pretty much every optimization and tweak you might think of is there, you just need to know how to find it. The scope is somewhat overwhelming, but basically we are learning what there is out there and how to pick the technique based on your dataset.We are doing a chapter every 2 weeks, and that requires quite a bit of time to do it right. For example, just reading the chapter is 1-2 hours. You probably want to enter the code into Jupyter or some other engine to follow along. Getting all the side packages installed takes time (Jupyter, graphviz, Kaggle data sets). Then you can spend hours on the exercises, or dive off into something of your own, both of which take as long as you care to spend.Will I continue the book after I retire next month? We\\'ll see!',\n",
       " 'This book was a fantastic surface-level introduction to a vast array of machine learning methods, including their implementation in Scikit-Learn, Keras and Tensorflow (2.0). It\\'s written in a casual style, which makes the flow a lot better compared to terse textbooks. The newest version also covers new concepts such as the Transformer architecture for natural language processing, as well as Generative Adversarial Networks and reinforcement learning.Sometimes the author gets a bit bogged down on implementation and spends way too long on the technical details such as exact specifications of the APIs of the different libraries; essentially things that you could just look up anyway and which doesn\\'t add any knowledge. A small \"quick start\" and a reference associated to every theoretical concept would\\'ve been more beneficial, and also made the book a couple of hundred pages shorter I think.Overall a solid recommendation however. It\\'ll probably be my go-to reference for overall ideas of the various concepts, whenever I need a refresher.',\n",
       " \"I am not starting ML from scratch but I am not an expert either.With that in mind , I don't question the author's knowledge about ML. I just question his teaching skills regarding BEGINNERS.The info on this book is great. Definitely useful. The problem is that in order for you to use it in a productive way, you need to be very well educated on ML techniques.Part I is very good. Part II is very dificult. This book is definitely not good for beginners or even intermediate ML students (in my opinion).But I give it 3 stars anyway. The info is great. I just need to study it more.\",\n",
       " \"Okay, best technical book read this year award (still three months to go though) goes to this book. Initially it feels a bit odd that the focus is first put on scikit learn and that tensorflow seems to be added as an afterthought but in the end it's really a right tool for the job approach. Don't use this book to learn scikit learn (or tensorflow) use this book to get your face wet in deep learning where the two libraries are just a tool.\",\n",
       " 'Fantastic book to connect the dots between theory, techniques, and technologies in the ML world. The domain is moving fast, and this book---together with the source code---is to me a tremendous guide in the existing-yet-still-growing maze of approaches.The book does assume being familiar with Python and Mathematics fundamentals, such as linear algebra. Armed with these two, I think the book strikes a really good balance between being didactic and concise.',\n",
       " \"I like the first half of the book a lot. It provides a big-picture view of machine learning in general and some of the most commonly used algorithms, in a conceptual and easy-to-follow way. The second half, not so much. At least part of the blame lies in TensorFlow itself, which is still pretty much a moving target. So far the best resource I've encountered to learn TensorFlow is definitely still the Udemy online course. \"]"
      ]
     },
     "execution_count": 13,
     "metadata": {},
     "output_type": "execute_result"
    }
   ],
   "source": [
    "reviews"
   ]
  },
  {
   "cell_type": "code",
   "execution_count": 14,
   "id": "7bca89ab",
   "metadata": {},
   "outputs": [
    {
     "data": {
      "text/plain": [
       "30"
      ]
     },
     "execution_count": 14,
     "metadata": {},
     "output_type": "execute_result"
    }
   ],
   "source": [
    "len(reviews)"
   ]
  },
  {
   "cell_type": "markdown",
   "id": "fb979e81",
   "metadata": {},
   "source": [
    "# 5. Load Reviews into DataFrame and Score"
   ]
  },
  {
   "cell_type": "code",
   "execution_count": 15,
   "id": "9ea9b94a",
   "metadata": {
    "scrolled": true
   },
   "outputs": [
    {
     "data": {
      "text/html": [
       "<div>\n",
       "<style scoped>\n",
       "    .dataframe tbody tr th:only-of-type {\n",
       "        vertical-align: middle;\n",
       "    }\n",
       "\n",
       "    .dataframe tbody tr th {\n",
       "        vertical-align: top;\n",
       "    }\n",
       "\n",
       "    .dataframe thead th {\n",
       "        text-align: right;\n",
       "    }\n",
       "</style>\n",
       "<table border=\"1\" class=\"dataframe\">\n",
       "  <thead>\n",
       "    <tr style=\"text-align: right;\">\n",
       "      <th></th>\n",
       "      <th>Review</th>\n",
       "    </tr>\n",
       "  </thead>\n",
       "  <tbody>\n",
       "    <tr>\n",
       "      <th>0</th>\n",
       "      <td>I spent the last five months learning the math...</td>\n",
       "    </tr>\n",
       "    <tr>\n",
       "      <th>1</th>\n",
       "      <td>A really nice and sensible intro to some of th...</td>\n",
       "    </tr>\n",
       "    <tr>\n",
       "      <th>2</th>\n",
       "      <td>One of the best ML books out there. Dives deep...</td>\n",
       "    </tr>\n",
       "    <tr>\n",
       "      <th>3</th>\n",
       "      <td>I thought this book was a great overview of th...</td>\n",
       "    </tr>\n",
       "    <tr>\n",
       "      <th>4</th>\n",
       "      <td>great introduction into machine learning for b...</td>\n",
       "    </tr>\n",
       "    <tr>\n",
       "      <th>5</th>\n",
       "      <td>The book contains a chapter that shows a basic...</td>\n",
       "    </tr>\n",
       "    <tr>\n",
       "      <th>6</th>\n",
       "      <td>\"Machine Learning is the science (and art) of ...</td>\n",
       "    </tr>\n",
       "    <tr>\n",
       "      <th>7</th>\n",
       "      <td>At the time of reading, I had already learned ...</td>\n",
       "    </tr>\n",
       "    <tr>\n",
       "      <th>8</th>\n",
       "      <td>This is the best book I've read on machine lea...</td>\n",
       "    </tr>\n",
       "    <tr>\n",
       "      <th>9</th>\n",
       "      <td>A very excellent introduction to many machine ...</td>\n",
       "    </tr>\n",
       "    <tr>\n",
       "      <th>10</th>\n",
       "      <td>The best book about the subject out there. It ...</td>\n",
       "    </tr>\n",
       "    <tr>\n",
       "      <th>11</th>\n",
       "      <td>Best ML book! It explains the most used ML con...</td>\n",
       "    </tr>\n",
       "    <tr>\n",
       "      <th>12</th>\n",
       "      <td>5* for the first half of the book, scikit lear...</td>\n",
       "    </tr>\n",
       "    <tr>\n",
       "      <th>13</th>\n",
       "      <td>Полномасштабное введение в машинное обучение -...</td>\n",
       "    </tr>\n",
       "    <tr>\n",
       "      <th>14</th>\n",
       "      <td>What a read! It's truly one of the best possib...</td>\n",
       "    </tr>\n",
       "    <tr>\n",
       "      <th>15</th>\n",
       "      <td>Great book, just not a great book for the purp...</td>\n",
       "    </tr>\n",
       "    <tr>\n",
       "      <th>16</th>\n",
       "      <td>Nicely well explained from scratch to advanced</td>\n",
       "    </tr>\n",
       "    <tr>\n",
       "      <th>17</th>\n",
       "      <td>Of all rankings of ML books Aurélien's HOML to...</td>\n",
       "    </tr>\n",
       "    <tr>\n",
       "      <th>18</th>\n",
       "      <td>An excellent reference for anyone who wants to...</td>\n",
       "    </tr>\n",
       "    <tr>\n",
       "      <th>19</th>\n",
       "      <td>This is the first ML book I read.It covers all...</td>\n",
       "    </tr>\n",
       "    <tr>\n",
       "      <th>20</th>\n",
       "      <td>Great book for getting to know the basics of d...</td>\n",
       "    </tr>\n",
       "    <tr>\n",
       "      <th>21</th>\n",
       "      <td>Great book for introduction to machine learnin...</td>\n",
       "    </tr>\n",
       "    <tr>\n",
       "      <th>22</th>\n",
       "      <td>The best book I've read on machine learning fu...</td>\n",
       "    </tr>\n",
       "    <tr>\n",
       "      <th>23</th>\n",
       "      <td>It is impossible to absorb everything in this ...</td>\n",
       "    </tr>\n",
       "    <tr>\n",
       "      <th>24</th>\n",
       "      <td>We are reading this book for the book club at ...</td>\n",
       "    </tr>\n",
       "    <tr>\n",
       "      <th>25</th>\n",
       "      <td>This book was a fantastic surface-level introd...</td>\n",
       "    </tr>\n",
       "    <tr>\n",
       "      <th>26</th>\n",
       "      <td>I am not starting ML from scratch but I am not...</td>\n",
       "    </tr>\n",
       "    <tr>\n",
       "      <th>27</th>\n",
       "      <td>Okay, best technical book read this year award...</td>\n",
       "    </tr>\n",
       "    <tr>\n",
       "      <th>28</th>\n",
       "      <td>Fantastic book to connect the dots between the...</td>\n",
       "    </tr>\n",
       "    <tr>\n",
       "      <th>29</th>\n",
       "      <td>I like the first half of the book a lot. It pr...</td>\n",
       "    </tr>\n",
       "  </tbody>\n",
       "</table>\n",
       "</div>"
      ],
      "text/plain": [
       "                                               Review\n",
       "0   I spent the last five months learning the math...\n",
       "1   A really nice and sensible intro to some of th...\n",
       "2   One of the best ML books out there. Dives deep...\n",
       "3   I thought this book was a great overview of th...\n",
       "4   great introduction into machine learning for b...\n",
       "5   The book contains a chapter that shows a basic...\n",
       "6   \"Machine Learning is the science (and art) of ...\n",
       "7   At the time of reading, I had already learned ...\n",
       "8   This is the best book I've read on machine lea...\n",
       "9   A very excellent introduction to many machine ...\n",
       "10  The best book about the subject out there. It ...\n",
       "11  Best ML book! It explains the most used ML con...\n",
       "12  5* for the first half of the book, scikit lear...\n",
       "13  Полномасштабное введение в машинное обучение -...\n",
       "14  What a read! It's truly one of the best possib...\n",
       "15  Great book, just not a great book for the purp...\n",
       "16     Nicely well explained from scratch to advanced\n",
       "17  Of all rankings of ML books Aurélien's HOML to...\n",
       "18  An excellent reference for anyone who wants to...\n",
       "19  This is the first ML book I read.It covers all...\n",
       "20  Great book for getting to know the basics of d...\n",
       "21  Great book for introduction to machine learnin...\n",
       "22  The best book I've read on machine learning fu...\n",
       "23  It is impossible to absorb everything in this ...\n",
       "24  We are reading this book for the book club at ...\n",
       "25  This book was a fantastic surface-level introd...\n",
       "26  I am not starting ML from scratch but I am not...\n",
       "27  Okay, best technical book read this year award...\n",
       "28  Fantastic book to connect the dots between the...\n",
       "29  I like the first half of the book a lot. It pr..."
      ]
     },
     "execution_count": 15,
     "metadata": {},
     "output_type": "execute_result"
    }
   ],
   "source": [
    "df=pd.DataFrame(np.array(reviews),columns={\"Review\"})\n",
    "df"
   ]
  },
  {
   "cell_type": "code",
   "execution_count": 16,
   "id": "d2a68ad7",
   "metadata": {},
   "outputs": [
    {
     "data": {
      "text/plain": [
       "\"I spent the last five months learning the math and theory behind machine learning, but when I finally tried to do something on a simple Kaggle set, I was drawing blanks. This book really showed me what I was missing: context. It doesn't just demonstrate different tools, it gives you a framework that you can apply to any problem (chapter 2) and how to think about what you're doing in each phase of an ML project. It doesn't baby you on the math, but it doesn't go deeper than it needs to either. I think the same can be said for the coding. This book is all about connecting and implementing the basics in a solid manner. For me, that's exactly what I'm looking for.It really has been the missing link for me on my self-study to connect theory to application and I'm really happy to have picked it up. If you feel like you're in a similar position, I highly recommend that you pick up a copy. I also recommend doing the coding exercises as you read them. It'll reinforce what you're learning and also keep you from outpacing yourself. Take the time to enjoy the awesome journey that is Hands-On ML. \""
      ]
     },
     "execution_count": 16,
     "metadata": {},
     "output_type": "execute_result"
    }
   ],
   "source": [
    "df.Review.iloc[0]"
   ]
  },
  {
   "cell_type": "code",
   "execution_count": 17,
   "id": "058e5bbb",
   "metadata": {},
   "outputs": [],
   "source": [
    "def sentiment_score(review):\n",
    "    inputs = tokenizer.encode(review,return_tensors='tf')\n",
    "    result = model(inputs)\n",
    "    sentiment = tf.argmax(result.logits,axis=1).numpy()+1\n",
    "    return sentiment[0]"
   ]
  },
  {
   "cell_type": "code",
   "execution_count": 18,
   "id": "41278aa1",
   "metadata": {},
   "outputs": [
    {
     "data": {
      "text/plain": [
       "5"
      ]
     },
     "execution_count": 18,
     "metadata": {},
     "output_type": "execute_result"
    }
   ],
   "source": [
    "sentiment_score(df.Review.iloc[0])"
   ]
  },
  {
   "cell_type": "code",
   "execution_count": 19,
   "id": "f6cfe5b3",
   "metadata": {
    "scrolled": true
   },
   "outputs": [
    {
     "data": {
      "text/html": [
       "<div>\n",
       "<style scoped>\n",
       "    .dataframe tbody tr th:only-of-type {\n",
       "        vertical-align: middle;\n",
       "    }\n",
       "\n",
       "    .dataframe tbody tr th {\n",
       "        vertical-align: top;\n",
       "    }\n",
       "\n",
       "    .dataframe thead th {\n",
       "        text-align: right;\n",
       "    }\n",
       "</style>\n",
       "<table border=\"1\" class=\"dataframe\">\n",
       "  <thead>\n",
       "    <tr style=\"text-align: right;\">\n",
       "      <th></th>\n",
       "      <th>Review</th>\n",
       "      <th>Ratings</th>\n",
       "    </tr>\n",
       "  </thead>\n",
       "  <tbody>\n",
       "    <tr>\n",
       "      <th>0</th>\n",
       "      <td>I spent the last five months learning the math...</td>\n",
       "      <td>4</td>\n",
       "    </tr>\n",
       "    <tr>\n",
       "      <th>1</th>\n",
       "      <td>A really nice and sensible intro to some of th...</td>\n",
       "      <td>4</td>\n",
       "    </tr>\n",
       "    <tr>\n",
       "      <th>2</th>\n",
       "      <td>One of the best ML books out there. Dives deep...</td>\n",
       "      <td>5</td>\n",
       "    </tr>\n",
       "    <tr>\n",
       "      <th>3</th>\n",
       "      <td>I thought this book was a great overview of th...</td>\n",
       "      <td>4</td>\n",
       "    </tr>\n",
       "    <tr>\n",
       "      <th>4</th>\n",
       "      <td>great introduction into machine learning for b...</td>\n",
       "      <td>4</td>\n",
       "    </tr>\n",
       "    <tr>\n",
       "      <th>5</th>\n",
       "      <td>The book contains a chapter that shows a basic...</td>\n",
       "      <td>3</td>\n",
       "    </tr>\n",
       "    <tr>\n",
       "      <th>6</th>\n",
       "      <td>\"Machine Learning is the science (and art) of ...</td>\n",
       "      <td>1</td>\n",
       "    </tr>\n",
       "    <tr>\n",
       "      <th>7</th>\n",
       "      <td>At the time of reading, I had already learned ...</td>\n",
       "      <td>4</td>\n",
       "    </tr>\n",
       "    <tr>\n",
       "      <th>8</th>\n",
       "      <td>This is the best book I've read on machine lea...</td>\n",
       "      <td>5</td>\n",
       "    </tr>\n",
       "    <tr>\n",
       "      <th>9</th>\n",
       "      <td>A very excellent introduction to many machine ...</td>\n",
       "      <td>5</td>\n",
       "    </tr>\n",
       "    <tr>\n",
       "      <th>10</th>\n",
       "      <td>The best book about the subject out there. It ...</td>\n",
       "      <td>5</td>\n",
       "    </tr>\n",
       "    <tr>\n",
       "      <th>11</th>\n",
       "      <td>Best ML book! It explains the most used ML con...</td>\n",
       "      <td>5</td>\n",
       "    </tr>\n",
       "    <tr>\n",
       "      <th>12</th>\n",
       "      <td>5* for the first half of the book, scikit lear...</td>\n",
       "      <td>3</td>\n",
       "    </tr>\n",
       "    <tr>\n",
       "      <th>13</th>\n",
       "      <td>Полномасштабное введение в машинное обучение -...</td>\n",
       "      <td>4</td>\n",
       "    </tr>\n",
       "    <tr>\n",
       "      <th>14</th>\n",
       "      <td>What a read! It's truly one of the best possib...</td>\n",
       "      <td>5</td>\n",
       "    </tr>\n",
       "    <tr>\n",
       "      <th>15</th>\n",
       "      <td>Great book, just not a great book for the purp...</td>\n",
       "      <td>3</td>\n",
       "    </tr>\n",
       "    <tr>\n",
       "      <th>16</th>\n",
       "      <td>Nicely well explained from scratch to advanced</td>\n",
       "      <td>5</td>\n",
       "    </tr>\n",
       "    <tr>\n",
       "      <th>17</th>\n",
       "      <td>Of all rankings of ML books Aurélien's HOML to...</td>\n",
       "      <td>2</td>\n",
       "    </tr>\n",
       "    <tr>\n",
       "      <th>18</th>\n",
       "      <td>An excellent reference for anyone who wants to...</td>\n",
       "      <td>5</td>\n",
       "    </tr>\n",
       "    <tr>\n",
       "      <th>19</th>\n",
       "      <td>This is the first ML book I read.It covers all...</td>\n",
       "      <td>5</td>\n",
       "    </tr>\n",
       "    <tr>\n",
       "      <th>20</th>\n",
       "      <td>Great book for getting to know the basics of d...</td>\n",
       "      <td>4</td>\n",
       "    </tr>\n",
       "    <tr>\n",
       "      <th>21</th>\n",
       "      <td>Great book for introduction to machine learnin...</td>\n",
       "      <td>4</td>\n",
       "    </tr>\n",
       "    <tr>\n",
       "      <th>22</th>\n",
       "      <td>The best book I've read on machine learning fu...</td>\n",
       "      <td>5</td>\n",
       "    </tr>\n",
       "    <tr>\n",
       "      <th>23</th>\n",
       "      <td>It is impossible to absorb everything in this ...</td>\n",
       "      <td>5</td>\n",
       "    </tr>\n",
       "    <tr>\n",
       "      <th>24</th>\n",
       "      <td>We are reading this book for the book club at ...</td>\n",
       "      <td>4</td>\n",
       "    </tr>\n",
       "    <tr>\n",
       "      <th>25</th>\n",
       "      <td>This book was a fantastic surface-level introd...</td>\n",
       "      <td>4</td>\n",
       "    </tr>\n",
       "    <tr>\n",
       "      <th>26</th>\n",
       "      <td>I am not starting ML from scratch but I am not...</td>\n",
       "      <td>3</td>\n",
       "    </tr>\n",
       "    <tr>\n",
       "      <th>27</th>\n",
       "      <td>Okay, best technical book read this year award...</td>\n",
       "      <td>3</td>\n",
       "    </tr>\n",
       "    <tr>\n",
       "      <th>28</th>\n",
       "      <td>Fantastic book to connect the dots between the...</td>\n",
       "      <td>5</td>\n",
       "    </tr>\n",
       "    <tr>\n",
       "      <th>29</th>\n",
       "      <td>I like the first half of the book a lot. It pr...</td>\n",
       "      <td>3</td>\n",
       "    </tr>\n",
       "  </tbody>\n",
       "</table>\n",
       "</div>"
      ],
      "text/plain": [
       "                                               Review  Ratings\n",
       "0   I spent the last five months learning the math...        4\n",
       "1   A really nice and sensible intro to some of th...        4\n",
       "2   One of the best ML books out there. Dives deep...        5\n",
       "3   I thought this book was a great overview of th...        4\n",
       "4   great introduction into machine learning for b...        4\n",
       "5   The book contains a chapter that shows a basic...        3\n",
       "6   \"Machine Learning is the science (and art) of ...        1\n",
       "7   At the time of reading, I had already learned ...        4\n",
       "8   This is the best book I've read on machine lea...        5\n",
       "9   A very excellent introduction to many machine ...        5\n",
       "10  The best book about the subject out there. It ...        5\n",
       "11  Best ML book! It explains the most used ML con...        5\n",
       "12  5* for the first half of the book, scikit lear...        3\n",
       "13  Полномасштабное введение в машинное обучение -...        4\n",
       "14  What a read! It's truly one of the best possib...        5\n",
       "15  Great book, just not a great book for the purp...        3\n",
       "16     Nicely well explained from scratch to advanced        5\n",
       "17  Of all rankings of ML books Aurélien's HOML to...        2\n",
       "18  An excellent reference for anyone who wants to...        5\n",
       "19  This is the first ML book I read.It covers all...        5\n",
       "20  Great book for getting to know the basics of d...        4\n",
       "21  Great book for introduction to machine learnin...        4\n",
       "22  The best book I've read on machine learning fu...        5\n",
       "23  It is impossible to absorb everything in this ...        5\n",
       "24  We are reading this book for the book club at ...        4\n",
       "25  This book was a fantastic surface-level introd...        4\n",
       "26  I am not starting ML from scratch but I am not...        3\n",
       "27  Okay, best technical book read this year award...        3\n",
       "28  Fantastic book to connect the dots between the...        5\n",
       "29  I like the first half of the book a lot. It pr...        3"
      ]
     },
     "execution_count": 19,
     "metadata": {},
     "output_type": "execute_result"
    }
   ],
   "source": [
    "df['Ratings'] = df['Review'].apply(lambda x:sentiment_score(x[:512]))\n",
    "df"
   ]
  },
  {
   "cell_type": "code",
   "execution_count": 20,
   "id": "563c5de4",
   "metadata": {},
   "outputs": [
    {
     "data": {
      "text/plain": [
       "4.03"
      ]
     },
     "execution_count": 20,
     "metadata": {},
     "output_type": "execute_result"
    }
   ],
   "source": [
    "np.round(df['Ratings'].mean(),2)"
   ]
  }
 ],
 "metadata": {
  "kernelspec": {
   "display_name": "Python 3 (ipykernel)",
   "language": "python",
   "name": "python3"
  },
  "language_info": {
   "codemirror_mode": {
    "name": "ipython",
    "version": 3
   },
   "file_extension": ".py",
   "mimetype": "text/x-python",
   "name": "python",
   "nbconvert_exporter": "python",
   "pygments_lexer": "ipython3",
   "version": "3.9.12"
  }
 },
 "nbformat": 4,
 "nbformat_minor": 5
}

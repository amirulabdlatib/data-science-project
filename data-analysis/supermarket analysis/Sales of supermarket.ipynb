{
 "cells": [
  {
   "cell_type": "markdown",
   "id": "29ab8e39",
   "metadata": {},
   "source": [
    "# Supermarket Analysis Exercise"
   ]
  },
  {
   "cell_type": "markdown",
   "id": "9312b369",
   "metadata": {},
   "source": [
    "Read and display data"
   ]
  },
  {
   "cell_type": "code",
   "execution_count": 41,
   "id": "4ec8f736",
   "metadata": {},
   "outputs": [
    {
     "data": {
      "text/html": [
       "<div>\n",
       "<style scoped>\n",
       "    .dataframe tbody tr th:only-of-type {\n",
       "        vertical-align: middle;\n",
       "    }\n",
       "\n",
       "    .dataframe tbody tr th {\n",
       "        vertical-align: top;\n",
       "    }\n",
       "\n",
       "    .dataframe thead th {\n",
       "        text-align: right;\n",
       "    }\n",
       "</style>\n",
       "<table border=\"1\" class=\"dataframe\">\n",
       "  <thead>\n",
       "    <tr style=\"text-align: right;\">\n",
       "      <th></th>\n",
       "      <th>Invoice ID</th>\n",
       "      <th>Date</th>\n",
       "      <th>Time</th>\n",
       "      <th>Gender</th>\n",
       "      <th>Location</th>\n",
       "      <th>City</th>\n",
       "      <th>Member</th>\n",
       "      <th>Category</th>\n",
       "      <th>Price</th>\n",
       "      <th>Quantity</th>\n",
       "      <th>Total</th>\n",
       "      <th>Payment</th>\n",
       "      <th>Rating</th>\n",
       "    </tr>\n",
       "  </thead>\n",
       "  <tbody>\n",
       "    <tr>\n",
       "      <th>0</th>\n",
       "      <td>460489604</td>\n",
       "      <td>1/25/2018</td>\n",
       "      <td>16:46</td>\n",
       "      <td>Male</td>\n",
       "      <td>Brookfield</td>\n",
       "      <td>NewYork</td>\n",
       "      <td>Yes</td>\n",
       "      <td>Groceries</td>\n",
       "      <td>30</td>\n",
       "      <td>1</td>\n",
       "      <td>30</td>\n",
       "      <td>Cash</td>\n",
       "      <td>2</td>\n",
       "    </tr>\n",
       "    <tr>\n",
       "      <th>1</th>\n",
       "      <td>471006167</td>\n",
       "      <td>3/19/2018</td>\n",
       "      <td>16:48</td>\n",
       "      <td>Female</td>\n",
       "      <td>Water tower</td>\n",
       "      <td>Chicago</td>\n",
       "      <td>Yes</td>\n",
       "      <td>Fashion</td>\n",
       "      <td>35</td>\n",
       "      <td>5</td>\n",
       "      <td>175</td>\n",
       "      <td>Card</td>\n",
       "      <td>3</td>\n",
       "    </tr>\n",
       "    <tr>\n",
       "      <th>2</th>\n",
       "      <td>411909258</td>\n",
       "      <td>2/25/2018</td>\n",
       "      <td>13:33</td>\n",
       "      <td>Male</td>\n",
       "      <td>Water tower</td>\n",
       "      <td>Chicago</td>\n",
       "      <td>No</td>\n",
       "      <td>Clothing</td>\n",
       "      <td>57</td>\n",
       "      <td>2</td>\n",
       "      <td>114</td>\n",
       "      <td>Cash</td>\n",
       "      <td>5</td>\n",
       "    </tr>\n",
       "    <tr>\n",
       "      <th>3</th>\n",
       "      <td>487313402</td>\n",
       "      <td>1/22/2018</td>\n",
       "      <td>13:38</td>\n",
       "      <td>Female</td>\n",
       "      <td>Park lane</td>\n",
       "      <td>Dallas</td>\n",
       "      <td>Yes</td>\n",
       "      <td>Sporting</td>\n",
       "      <td>89</td>\n",
       "      <td>4</td>\n",
       "      <td>356</td>\n",
       "      <td>Gpay</td>\n",
       "      <td>1</td>\n",
       "    </tr>\n",
       "    <tr>\n",
       "      <th>4</th>\n",
       "      <td>197763430</td>\n",
       "      <td>2/18/2018</td>\n",
       "      <td>15:31</td>\n",
       "      <td>Female</td>\n",
       "      <td>Park lane</td>\n",
       "      <td>Dallas</td>\n",
       "      <td>No</td>\n",
       "      <td>Books</td>\n",
       "      <td>82</td>\n",
       "      <td>5</td>\n",
       "      <td>410</td>\n",
       "      <td>Cash</td>\n",
       "      <td>4</td>\n",
       "    </tr>\n",
       "  </tbody>\n",
       "</table>\n",
       "</div>"
      ],
      "text/plain": [
       "   Invoice ID       Date   Time  Gender     Location     City Member  \\\n",
       "0   460489604  1/25/2018  16:46    Male   Brookfield  NewYork    Yes   \n",
       "1   471006167  3/19/2018  16:48  Female  Water tower  Chicago    Yes   \n",
       "2   411909258  2/25/2018  13:33    Male  Water tower  Chicago     No   \n",
       "3   487313402  1/22/2018  13:38  Female    Park lane   Dallas    Yes   \n",
       "4   197763430  2/18/2018  15:31  Female    Park lane   Dallas     No   \n",
       "\n",
       "    Category  Price  Quantity  Total Payment  Rating  \n",
       "0  Groceries     30         1     30    Cash       2  \n",
       "1    Fashion     35         5    175    Card       3  \n",
       "2   Clothing     57         2    114    Cash       5  \n",
       "3   Sporting     89         4    356    Gpay       1  \n",
       "4      Books     82         5    410    Cash       4  "
      ]
     },
     "execution_count": 41,
     "metadata": {},
     "output_type": "execute_result"
    }
   ],
   "source": [
    "import pandas as pd\n",
    "\n",
    "\n",
    "df = pd.read_csv('sales.csv')\n",
    "df.head()"
   ]
  },
  {
   "cell_type": "markdown",
   "id": "63bf350f",
   "metadata": {},
   "source": [
    "Identifying list of unique 'Category' column"
   ]
  },
  {
   "cell_type": "code",
   "execution_count": 42,
   "id": "d6e570a6",
   "metadata": {
    "scrolled": true
   },
   "outputs": [
    {
     "data": {
      "text/plain": [
       "array(['Groceries', 'Fashion', 'Clothing', 'Sporting', 'Books',\n",
       "       'Furniture'], dtype=object)"
      ]
     },
     "execution_count": 42,
     "metadata": {},
     "output_type": "execute_result"
    }
   ],
   "source": [
    "df['Category'].unique()"
   ]
  },
  {
   "cell_type": "markdown",
   "id": "f867c2f5",
   "metadata": {},
   "source": [
    "Identify the specific information of row 200"
   ]
  },
  {
   "cell_type": "code",
   "execution_count": 155,
   "id": "6ee1cbc7",
   "metadata": {
    "scrolled": true
   },
   "outputs": [
    {
     "data": {
      "text/plain": [
       "Invoice ID      414119922\n",
       "Date            1/30/2018\n",
       "Time                11:07\n",
       "Gender               Male\n",
       "Location      Water tower\n",
       "City              Chicago\n",
       "Member                 No\n",
       "Category         Sporting\n",
       "Price                  44\n",
       "Quantity                7\n",
       "Total                 308\n",
       "Payment              Card\n",
       "Rating                  3\n",
       "Name: 201, dtype: object"
      ]
     },
     "execution_count": 155,
     "metadata": {},
     "output_type": "execute_result"
    }
   ],
   "source": [
    "df.iloc[201]"
   ]
  },
  {
   "cell_type": "markdown",
   "id": "0d056d24",
   "metadata": {},
   "source": [
    "Sales record from rows 200 until 210"
   ]
  },
  {
   "cell_type": "code",
   "execution_count": 44,
   "id": "51e89875",
   "metadata": {
    "scrolled": true
   },
   "outputs": [
    {
     "data": {
      "text/html": [
       "<div>\n",
       "<style scoped>\n",
       "    .dataframe tbody tr th:only-of-type {\n",
       "        vertical-align: middle;\n",
       "    }\n",
       "\n",
       "    .dataframe tbody tr th {\n",
       "        vertical-align: top;\n",
       "    }\n",
       "\n",
       "    .dataframe thead th {\n",
       "        text-align: right;\n",
       "    }\n",
       "</style>\n",
       "<table border=\"1\" class=\"dataframe\">\n",
       "  <thead>\n",
       "    <tr style=\"text-align: right;\">\n",
       "      <th></th>\n",
       "      <th>Invoice ID</th>\n",
       "      <th>Date</th>\n",
       "      <th>Time</th>\n",
       "      <th>Gender</th>\n",
       "      <th>Location</th>\n",
       "      <th>City</th>\n",
       "      <th>Member</th>\n",
       "      <th>Category</th>\n",
       "      <th>Price</th>\n",
       "      <th>Quantity</th>\n",
       "      <th>Total</th>\n",
       "      <th>Payment</th>\n",
       "      <th>Rating</th>\n",
       "    </tr>\n",
       "  </thead>\n",
       "  <tbody>\n",
       "    <tr>\n",
       "      <th>200</th>\n",
       "      <td>576523018</td>\n",
       "      <td>2/15/2018</td>\n",
       "      <td>12:35</td>\n",
       "      <td>Male</td>\n",
       "      <td>Water tower</td>\n",
       "      <td>Chicago</td>\n",
       "      <td>No</td>\n",
       "      <td>Groceries</td>\n",
       "      <td>82</td>\n",
       "      <td>1</td>\n",
       "      <td>82</td>\n",
       "      <td>Card</td>\n",
       "      <td>4</td>\n",
       "    </tr>\n",
       "    <tr>\n",
       "      <th>201</th>\n",
       "      <td>414119922</td>\n",
       "      <td>1/30/2018</td>\n",
       "      <td>11:07</td>\n",
       "      <td>Male</td>\n",
       "      <td>Water tower</td>\n",
       "      <td>Chicago</td>\n",
       "      <td>No</td>\n",
       "      <td>Sporting</td>\n",
       "      <td>44</td>\n",
       "      <td>7</td>\n",
       "      <td>308</td>\n",
       "      <td>Card</td>\n",
       "      <td>3</td>\n",
       "    </tr>\n",
       "    <tr>\n",
       "      <th>202</th>\n",
       "      <td>123247697</td>\n",
       "      <td>2/8/2018</td>\n",
       "      <td>20:03</td>\n",
       "      <td>Male</td>\n",
       "      <td>Brookfield</td>\n",
       "      <td>NewYork</td>\n",
       "      <td>No</td>\n",
       "      <td>Groceries</td>\n",
       "      <td>22</td>\n",
       "      <td>7</td>\n",
       "      <td>154</td>\n",
       "      <td>Card</td>\n",
       "      <td>5</td>\n",
       "    </tr>\n",
       "    <tr>\n",
       "      <th>203</th>\n",
       "      <td>40419058</td>\n",
       "      <td>1/26/2018</td>\n",
       "      <td>14:53</td>\n",
       "      <td>Male</td>\n",
       "      <td>Water tower</td>\n",
       "      <td>Chicago</td>\n",
       "      <td>Yes</td>\n",
       "      <td>Books</td>\n",
       "      <td>95</td>\n",
       "      <td>6</td>\n",
       "      <td>570</td>\n",
       "      <td>Card</td>\n",
       "      <td>1</td>\n",
       "    </tr>\n",
       "    <tr>\n",
       "      <th>204</th>\n",
       "      <td>890497298</td>\n",
       "      <td>2/25/2018</td>\n",
       "      <td>18:06</td>\n",
       "      <td>Female</td>\n",
       "      <td>Water tower</td>\n",
       "      <td>Chicago</td>\n",
       "      <td>No</td>\n",
       "      <td>Clothing</td>\n",
       "      <td>69</td>\n",
       "      <td>2</td>\n",
       "      <td>138</td>\n",
       "      <td>Cash</td>\n",
       "      <td>2</td>\n",
       "    </tr>\n",
       "    <tr>\n",
       "      <th>205</th>\n",
       "      <td>885702268</td>\n",
       "      <td>1/28/2018</td>\n",
       "      <td>12:45</td>\n",
       "      <td>Male</td>\n",
       "      <td>Brookfield</td>\n",
       "      <td>NewYork</td>\n",
       "      <td>No</td>\n",
       "      <td>Groceries</td>\n",
       "      <td>89</td>\n",
       "      <td>6</td>\n",
       "      <td>534</td>\n",
       "      <td>Card</td>\n",
       "      <td>1</td>\n",
       "    </tr>\n",
       "    <tr>\n",
       "      <th>206</th>\n",
       "      <td>172252194</td>\n",
       "      <td>3/22/2018</td>\n",
       "      <td>20:10</td>\n",
       "      <td>Female</td>\n",
       "      <td>Park lane</td>\n",
       "      <td>Dallas</td>\n",
       "      <td>No</td>\n",
       "      <td>Books</td>\n",
       "      <td>41</td>\n",
       "      <td>6</td>\n",
       "      <td>246</td>\n",
       "      <td>Card</td>\n",
       "      <td>4</td>\n",
       "    </tr>\n",
       "    <tr>\n",
       "      <th>207</th>\n",
       "      <td>866140211</td>\n",
       "      <td>2/25/2018</td>\n",
       "      <td>13:34</td>\n",
       "      <td>Female</td>\n",
       "      <td>Park lane</td>\n",
       "      <td>Dallas</td>\n",
       "      <td>No</td>\n",
       "      <td>Clothing</td>\n",
       "      <td>54</td>\n",
       "      <td>6</td>\n",
       "      <td>324</td>\n",
       "      <td>Gpay</td>\n",
       "      <td>4</td>\n",
       "    </tr>\n",
       "    <tr>\n",
       "      <th>208</th>\n",
       "      <td>597678548</td>\n",
       "      <td>3/15/2018</td>\n",
       "      <td>17:35</td>\n",
       "      <td>Male</td>\n",
       "      <td>Water tower</td>\n",
       "      <td>Chicago</td>\n",
       "      <td>Yes</td>\n",
       "      <td>Sporting</td>\n",
       "      <td>34</td>\n",
       "      <td>3</td>\n",
       "      <td>102</td>\n",
       "      <td>Cash</td>\n",
       "      <td>1</td>\n",
       "    </tr>\n",
       "    <tr>\n",
       "      <th>209</th>\n",
       "      <td>428818456</td>\n",
       "      <td>2/25/2018</td>\n",
       "      <td>18:50</td>\n",
       "      <td>Male</td>\n",
       "      <td>Park lane</td>\n",
       "      <td>Dallas</td>\n",
       "      <td>Yes</td>\n",
       "      <td>Books</td>\n",
       "      <td>94</td>\n",
       "      <td>5</td>\n",
       "      <td>470</td>\n",
       "      <td>Cash</td>\n",
       "      <td>2</td>\n",
       "    </tr>\n",
       "  </tbody>\n",
       "</table>\n",
       "</div>"
      ],
      "text/plain": [
       "     Invoice ID       Date   Time  Gender     Location     City Member  \\\n",
       "200   576523018  2/15/2018  12:35    Male  Water tower  Chicago     No   \n",
       "201   414119922  1/30/2018  11:07    Male  Water tower  Chicago     No   \n",
       "202   123247697   2/8/2018  20:03    Male   Brookfield  NewYork     No   \n",
       "203    40419058  1/26/2018  14:53    Male  Water tower  Chicago    Yes   \n",
       "204   890497298  2/25/2018  18:06  Female  Water tower  Chicago     No   \n",
       "205   885702268  1/28/2018  12:45    Male   Brookfield  NewYork     No   \n",
       "206   172252194  3/22/2018  20:10  Female    Park lane   Dallas     No   \n",
       "207   866140211  2/25/2018  13:34  Female    Park lane   Dallas     No   \n",
       "208   597678548  3/15/2018  17:35    Male  Water tower  Chicago    Yes   \n",
       "209   428818456  2/25/2018  18:50    Male    Park lane   Dallas    Yes   \n",
       "\n",
       "      Category  Price  Quantity  Total Payment  Rating  \n",
       "200  Groceries     82         1     82    Card       4  \n",
       "201   Sporting     44         7    308    Card       3  \n",
       "202  Groceries     22         7    154    Card       5  \n",
       "203      Books     95         6    570    Card       1  \n",
       "204   Clothing     69         2    138    Cash       2  \n",
       "205  Groceries     89         6    534    Card       1  \n",
       "206      Books     41         6    246    Card       4  \n",
       "207   Clothing     54         6    324    Gpay       4  \n",
       "208   Sporting     34         3    102    Cash       1  \n",
       "209      Books     94         5    470    Cash       2  "
      ]
     },
     "execution_count": 44,
     "metadata": {},
     "output_type": "execute_result"
    }
   ],
   "source": [
    "df[200:210]"
   ]
  },
  {
   "cell_type": "markdown",
   "id": "0ba3c7ce",
   "metadata": {},
   "source": [
    "Displaying the first 5 customer information that shop category 'Groceries'"
   ]
  },
  {
   "cell_type": "code",
   "execution_count": 45,
   "id": "385cde44",
   "metadata": {
    "scrolled": false
   },
   "outputs": [
    {
     "data": {
      "text/html": [
       "<div>\n",
       "<style scoped>\n",
       "    .dataframe tbody tr th:only-of-type {\n",
       "        vertical-align: middle;\n",
       "    }\n",
       "\n",
       "    .dataframe tbody tr th {\n",
       "        vertical-align: top;\n",
       "    }\n",
       "\n",
       "    .dataframe thead th {\n",
       "        text-align: right;\n",
       "    }\n",
       "</style>\n",
       "<table border=\"1\" class=\"dataframe\">\n",
       "  <thead>\n",
       "    <tr style=\"text-align: right;\">\n",
       "      <th></th>\n",
       "      <th>Invoice ID</th>\n",
       "      <th>Date</th>\n",
       "      <th>Time</th>\n",
       "      <th>Gender</th>\n",
       "      <th>Location</th>\n",
       "      <th>City</th>\n",
       "      <th>Member</th>\n",
       "      <th>Category</th>\n",
       "      <th>Price</th>\n",
       "      <th>Quantity</th>\n",
       "      <th>Total</th>\n",
       "      <th>Payment</th>\n",
       "      <th>Rating</th>\n",
       "    </tr>\n",
       "  </thead>\n",
       "  <tbody>\n",
       "    <tr>\n",
       "      <th>0</th>\n",
       "      <td>460489604</td>\n",
       "      <td>1/25/2018</td>\n",
       "      <td>16:46</td>\n",
       "      <td>Male</td>\n",
       "      <td>Brookfield</td>\n",
       "      <td>NewYork</td>\n",
       "      <td>Yes</td>\n",
       "      <td>Groceries</td>\n",
       "      <td>30</td>\n",
       "      <td>1</td>\n",
       "      <td>30</td>\n",
       "      <td>Cash</td>\n",
       "      <td>2</td>\n",
       "    </tr>\n",
       "    <tr>\n",
       "      <th>19</th>\n",
       "      <td>729486362</td>\n",
       "      <td>3/7/2018</td>\n",
       "      <td>12:50</td>\n",
       "      <td>Male</td>\n",
       "      <td>Water tower</td>\n",
       "      <td>Chicago</td>\n",
       "      <td>No</td>\n",
       "      <td>Groceries</td>\n",
       "      <td>39</td>\n",
       "      <td>4</td>\n",
       "      <td>156</td>\n",
       "      <td>Cash</td>\n",
       "      <td>3</td>\n",
       "    </tr>\n",
       "    <tr>\n",
       "      <th>20</th>\n",
       "      <td>619639105</td>\n",
       "      <td>3/26/2018</td>\n",
       "      <td>19:48</td>\n",
       "      <td>Female</td>\n",
       "      <td>Brookfield</td>\n",
       "      <td>NewYork</td>\n",
       "      <td>No</td>\n",
       "      <td>Groceries</td>\n",
       "      <td>44</td>\n",
       "      <td>6</td>\n",
       "      <td>264</td>\n",
       "      <td>Cash</td>\n",
       "      <td>1</td>\n",
       "    </tr>\n",
       "    <tr>\n",
       "      <th>22</th>\n",
       "      <td>761515143</td>\n",
       "      <td>1/15/2018</td>\n",
       "      <td>16:08</td>\n",
       "      <td>Female</td>\n",
       "      <td>Park lane</td>\n",
       "      <td>Dallas</td>\n",
       "      <td>No</td>\n",
       "      <td>Groceries</td>\n",
       "      <td>23</td>\n",
       "      <td>1</td>\n",
       "      <td>23</td>\n",
       "      <td>Gpay</td>\n",
       "      <td>3</td>\n",
       "    </tr>\n",
       "    <tr>\n",
       "      <th>23</th>\n",
       "      <td>56578535</td>\n",
       "      <td>3/23/2018</td>\n",
       "      <td>10:11</td>\n",
       "      <td>Male</td>\n",
       "      <td>Water tower</td>\n",
       "      <td>Chicago</td>\n",
       "      <td>Yes</td>\n",
       "      <td>Groceries</td>\n",
       "      <td>24</td>\n",
       "      <td>1</td>\n",
       "      <td>24</td>\n",
       "      <td>Gpay</td>\n",
       "      <td>2</td>\n",
       "    </tr>\n",
       "  </tbody>\n",
       "</table>\n",
       "</div>"
      ],
      "text/plain": [
       "    Invoice ID       Date   Time  Gender     Location     City Member  \\\n",
       "0    460489604  1/25/2018  16:46    Male   Brookfield  NewYork    Yes   \n",
       "19   729486362   3/7/2018  12:50    Male  Water tower  Chicago     No   \n",
       "20   619639105  3/26/2018  19:48  Female   Brookfield  NewYork     No   \n",
       "22   761515143  1/15/2018  16:08  Female    Park lane   Dallas     No   \n",
       "23    56578535  3/23/2018  10:11    Male  Water tower  Chicago    Yes   \n",
       "\n",
       "     Category  Price  Quantity  Total Payment  Rating  \n",
       "0   Groceries     30         1     30    Cash       2  \n",
       "19  Groceries     39         4    156    Cash       3  \n",
       "20  Groceries     44         6    264    Cash       1  \n",
       "22  Groceries     23         1     23    Gpay       3  \n",
       "23  Groceries     24         1     24    Gpay       2  "
      ]
     },
     "execution_count": 45,
     "metadata": {},
     "output_type": "execute_result"
    }
   ],
   "source": [
    "df[df['Category'] == 'Groceries'].head(5) "
   ]
  },
  {
   "cell_type": "markdown",
   "id": "ff15e216",
   "metadata": {},
   "source": [
    "Display the last 5 customer information from 'NewYork'"
   ]
  },
  {
   "cell_type": "code",
   "execution_count": null,
   "id": "4a4645b3",
   "metadata": {
    "scrolled": true
   },
   "outputs": [],
   "source": [
    "df.query('City==\"NewYork\"').tail(5)"
   ]
  },
  {
   "cell_type": "markdown",
   "id": "62642c20",
   "metadata": {},
   "source": [
    "Display the first 5 customer information that spend between 100 and 200"
   ]
  },
  {
   "cell_type": "code",
   "execution_count": null,
   "id": "7a2eb120",
   "metadata": {
    "scrolled": false
   },
   "outputs": [],
   "source": [
    "df.query('100<Total<200').head(5)"
   ]
  },
  {
   "cell_type": "markdown",
   "id": "b54c3e21",
   "metadata": {},
   "source": [
    "Finding the type of payemnt is cash from Chicago and total per transaction is less than 50"
   ]
  },
  {
   "cell_type": "code",
   "execution_count": 47,
   "id": "60865f86",
   "metadata": {
    "scrolled": true
   },
   "outputs": [
    {
     "data": {
      "text/html": [
       "<div>\n",
       "<style scoped>\n",
       "    .dataframe tbody tr th:only-of-type {\n",
       "        vertical-align: middle;\n",
       "    }\n",
       "\n",
       "    .dataframe tbody tr th {\n",
       "        vertical-align: top;\n",
       "    }\n",
       "\n",
       "    .dataframe thead th {\n",
       "        text-align: right;\n",
       "    }\n",
       "</style>\n",
       "<table border=\"1\" class=\"dataframe\">\n",
       "  <thead>\n",
       "    <tr style=\"text-align: right;\">\n",
       "      <th></th>\n",
       "      <th>Invoice ID</th>\n",
       "      <th>Date</th>\n",
       "      <th>Time</th>\n",
       "      <th>Gender</th>\n",
       "      <th>Location</th>\n",
       "      <th>City</th>\n",
       "      <th>Member</th>\n",
       "      <th>Category</th>\n",
       "      <th>Price</th>\n",
       "      <th>Quantity</th>\n",
       "      <th>Total</th>\n",
       "      <th>Payment</th>\n",
       "      <th>Rating</th>\n",
       "    </tr>\n",
       "  </thead>\n",
       "  <tbody>\n",
       "    <tr>\n",
       "      <th>43</th>\n",
       "      <td>328132417</td>\n",
       "      <td>1/3/2018</td>\n",
       "      <td>19:01</td>\n",
       "      <td>Female</td>\n",
       "      <td>Water tower</td>\n",
       "      <td>Chicago</td>\n",
       "      <td>No</td>\n",
       "      <td>Fashion</td>\n",
       "      <td>9</td>\n",
       "      <td>2</td>\n",
       "      <td>18</td>\n",
       "      <td>Cash</td>\n",
       "      <td>2</td>\n",
       "    </tr>\n",
       "    <tr>\n",
       "      <th>84</th>\n",
       "      <td>616515038</td>\n",
       "      <td>3/10/2018</td>\n",
       "      <td>14:12</td>\n",
       "      <td>Female</td>\n",
       "      <td>Water tower</td>\n",
       "      <td>Chicago</td>\n",
       "      <td>Yes</td>\n",
       "      <td>Groceries</td>\n",
       "      <td>10</td>\n",
       "      <td>2</td>\n",
       "      <td>20</td>\n",
       "      <td>Cash</td>\n",
       "      <td>5</td>\n",
       "    </tr>\n",
       "    <tr>\n",
       "      <th>89</th>\n",
       "      <td>533156738</td>\n",
       "      <td>3/24/2018</td>\n",
       "      <td>13:57</td>\n",
       "      <td>Male</td>\n",
       "      <td>Water tower</td>\n",
       "      <td>Chicago</td>\n",
       "      <td>No</td>\n",
       "      <td>Clothing</td>\n",
       "      <td>3</td>\n",
       "      <td>2</td>\n",
       "      <td>6</td>\n",
       "      <td>Cash</td>\n",
       "      <td>4</td>\n",
       "    </tr>\n",
       "    <tr>\n",
       "      <th>118</th>\n",
       "      <td>456069400</td>\n",
       "      <td>3/9/2018</td>\n",
       "      <td>15:21</td>\n",
       "      <td>Female</td>\n",
       "      <td>Water tower</td>\n",
       "      <td>Chicago</td>\n",
       "      <td>No</td>\n",
       "      <td>Clothing</td>\n",
       "      <td>6</td>\n",
       "      <td>2</td>\n",
       "      <td>12</td>\n",
       "      <td>Cash</td>\n",
       "      <td>2</td>\n",
       "    </tr>\n",
       "    <tr>\n",
       "      <th>264</th>\n",
       "      <td>407767721</td>\n",
       "      <td>2/13/2018</td>\n",
       "      <td>13:30</td>\n",
       "      <td>Male</td>\n",
       "      <td>Water tower</td>\n",
       "      <td>Chicago</td>\n",
       "      <td>Yes</td>\n",
       "      <td>Groceries</td>\n",
       "      <td>12</td>\n",
       "      <td>1</td>\n",
       "      <td>12</td>\n",
       "      <td>Cash</td>\n",
       "      <td>3</td>\n",
       "    </tr>\n",
       "    <tr>\n",
       "      <th>347</th>\n",
       "      <td>504581657</td>\n",
       "      <td>2/6/2018</td>\n",
       "      <td>10:06</td>\n",
       "      <td>Male</td>\n",
       "      <td>Water tower</td>\n",
       "      <td>Chicago</td>\n",
       "      <td>No</td>\n",
       "      <td>Fashion</td>\n",
       "      <td>3</td>\n",
       "      <td>2</td>\n",
       "      <td>6</td>\n",
       "      <td>Cash</td>\n",
       "      <td>4</td>\n",
       "    </tr>\n",
       "    <tr>\n",
       "      <th>439</th>\n",
       "      <td>436393848</td>\n",
       "      <td>1/14/2018</td>\n",
       "      <td>20:39</td>\n",
       "      <td>Male</td>\n",
       "      <td>Water tower</td>\n",
       "      <td>Chicago</td>\n",
       "      <td>No</td>\n",
       "      <td>Clothing</td>\n",
       "      <td>1</td>\n",
       "      <td>2</td>\n",
       "      <td>2</td>\n",
       "      <td>Cash</td>\n",
       "      <td>5</td>\n",
       "    </tr>\n",
       "    <tr>\n",
       "      <th>457</th>\n",
       "      <td>813988025</td>\n",
       "      <td>1/7/2018</td>\n",
       "      <td>17:29</td>\n",
       "      <td>Female</td>\n",
       "      <td>Water tower</td>\n",
       "      <td>Chicago</td>\n",
       "      <td>Yes</td>\n",
       "      <td>Books</td>\n",
       "      <td>45</td>\n",
       "      <td>1</td>\n",
       "      <td>45</td>\n",
       "      <td>Cash</td>\n",
       "      <td>1</td>\n",
       "    </tr>\n",
       "    <tr>\n",
       "      <th>663</th>\n",
       "      <td>833998175</td>\n",
       "      <td>1/10/2018</td>\n",
       "      <td>10:26</td>\n",
       "      <td>Male</td>\n",
       "      <td>Water tower</td>\n",
       "      <td>Chicago</td>\n",
       "      <td>No</td>\n",
       "      <td>Clothing</td>\n",
       "      <td>9</td>\n",
       "      <td>4</td>\n",
       "      <td>36</td>\n",
       "      <td>Cash</td>\n",
       "      <td>2</td>\n",
       "    </tr>\n",
       "    <tr>\n",
       "      <th>666</th>\n",
       "      <td>282446743</td>\n",
       "      <td>3/1/2018</td>\n",
       "      <td>13:58</td>\n",
       "      <td>Female</td>\n",
       "      <td>Water tower</td>\n",
       "      <td>Chicago</td>\n",
       "      <td>Yes</td>\n",
       "      <td>Fashion</td>\n",
       "      <td>2</td>\n",
       "      <td>6</td>\n",
       "      <td>12</td>\n",
       "      <td>Cash</td>\n",
       "      <td>1</td>\n",
       "    </tr>\n",
       "    <tr>\n",
       "      <th>708</th>\n",
       "      <td>768261771</td>\n",
       "      <td>2/11/2018</td>\n",
       "      <td>11:55</td>\n",
       "      <td>Female</td>\n",
       "      <td>Water tower</td>\n",
       "      <td>Chicago</td>\n",
       "      <td>Yes</td>\n",
       "      <td>Groceries</td>\n",
       "      <td>6</td>\n",
       "      <td>5</td>\n",
       "      <td>30</td>\n",
       "      <td>Cash</td>\n",
       "      <td>4</td>\n",
       "    </tr>\n",
       "    <tr>\n",
       "      <th>709</th>\n",
       "      <td>27577314</td>\n",
       "      <td>3/2/2018</td>\n",
       "      <td>17:01</td>\n",
       "      <td>Male</td>\n",
       "      <td>Water tower</td>\n",
       "      <td>Chicago</td>\n",
       "      <td>Yes</td>\n",
       "      <td>Groceries</td>\n",
       "      <td>7</td>\n",
       "      <td>2</td>\n",
       "      <td>14</td>\n",
       "      <td>Cash</td>\n",
       "      <td>4</td>\n",
       "    </tr>\n",
       "    <tr>\n",
       "      <th>740</th>\n",
       "      <td>416735444</td>\n",
       "      <td>2/12/2018</td>\n",
       "      <td>10:54</td>\n",
       "      <td>Female</td>\n",
       "      <td>Water tower</td>\n",
       "      <td>Chicago</td>\n",
       "      <td>Yes</td>\n",
       "      <td>Groceries</td>\n",
       "      <td>30</td>\n",
       "      <td>1</td>\n",
       "      <td>30</td>\n",
       "      <td>Cash</td>\n",
       "      <td>5</td>\n",
       "    </tr>\n",
       "    <tr>\n",
       "      <th>774</th>\n",
       "      <td>246818576</td>\n",
       "      <td>2/8/2018</td>\n",
       "      <td>15:55</td>\n",
       "      <td>Female</td>\n",
       "      <td>Water tower</td>\n",
       "      <td>Chicago</td>\n",
       "      <td>No</td>\n",
       "      <td>Groceries</td>\n",
       "      <td>5</td>\n",
       "      <td>4</td>\n",
       "      <td>20</td>\n",
       "      <td>Cash</td>\n",
       "      <td>5</td>\n",
       "    </tr>\n",
       "    <tr>\n",
       "      <th>818</th>\n",
       "      <td>257959706</td>\n",
       "      <td>1/16/2018</td>\n",
       "      <td>13:24</td>\n",
       "      <td>Male</td>\n",
       "      <td>Water tower</td>\n",
       "      <td>Chicago</td>\n",
       "      <td>No</td>\n",
       "      <td>Groceries</td>\n",
       "      <td>7</td>\n",
       "      <td>3</td>\n",
       "      <td>21</td>\n",
       "      <td>Cash</td>\n",
       "      <td>3</td>\n",
       "    </tr>\n",
       "    <tr>\n",
       "      <th>837</th>\n",
       "      <td>80579422</td>\n",
       "      <td>3/19/2018</td>\n",
       "      <td>12:50</td>\n",
       "      <td>Female</td>\n",
       "      <td>Water tower</td>\n",
       "      <td>Chicago</td>\n",
       "      <td>Yes</td>\n",
       "      <td>Groceries</td>\n",
       "      <td>1</td>\n",
       "      <td>6</td>\n",
       "      <td>6</td>\n",
       "      <td>Cash</td>\n",
       "      <td>4</td>\n",
       "    </tr>\n",
       "    <tr>\n",
       "      <th>855</th>\n",
       "      <td>286183474</td>\n",
       "      <td>3/2/2018</td>\n",
       "      <td>19:56</td>\n",
       "      <td>Female</td>\n",
       "      <td>Water tower</td>\n",
       "      <td>Chicago</td>\n",
       "      <td>Yes</td>\n",
       "      <td>Fashion</td>\n",
       "      <td>30</td>\n",
       "      <td>1</td>\n",
       "      <td>30</td>\n",
       "      <td>Cash</td>\n",
       "      <td>3</td>\n",
       "    </tr>\n",
       "    <tr>\n",
       "      <th>888</th>\n",
       "      <td>681108606</td>\n",
       "      <td>2/23/2018</td>\n",
       "      <td>12:37</td>\n",
       "      <td>Female</td>\n",
       "      <td>Water tower</td>\n",
       "      <td>Chicago</td>\n",
       "      <td>Yes</td>\n",
       "      <td>Groceries</td>\n",
       "      <td>12</td>\n",
       "      <td>1</td>\n",
       "      <td>12</td>\n",
       "      <td>Cash</td>\n",
       "      <td>3</td>\n",
       "    </tr>\n",
       "    <tr>\n",
       "      <th>901</th>\n",
       "      <td>706434356</td>\n",
       "      <td>1/18/2018</td>\n",
       "      <td>15:32</td>\n",
       "      <td>Female</td>\n",
       "      <td>Water tower</td>\n",
       "      <td>Chicago</td>\n",
       "      <td>Yes</td>\n",
       "      <td>Sporting</td>\n",
       "      <td>14</td>\n",
       "      <td>1</td>\n",
       "      <td>14</td>\n",
       "      <td>Cash</td>\n",
       "      <td>3</td>\n",
       "    </tr>\n",
       "    <tr>\n",
       "      <th>907</th>\n",
       "      <td>832788886</td>\n",
       "      <td>1/6/2018</td>\n",
       "      <td>14:36</td>\n",
       "      <td>Male</td>\n",
       "      <td>Water tower</td>\n",
       "      <td>Chicago</td>\n",
       "      <td>Yes</td>\n",
       "      <td>Clothing</td>\n",
       "      <td>3</td>\n",
       "      <td>1</td>\n",
       "      <td>3</td>\n",
       "      <td>Cash</td>\n",
       "      <td>1</td>\n",
       "    </tr>\n",
       "    <tr>\n",
       "      <th>916</th>\n",
       "      <td>572172070</td>\n",
       "      <td>1/8/2018</td>\n",
       "      <td>13:02</td>\n",
       "      <td>Female</td>\n",
       "      <td>Water tower</td>\n",
       "      <td>Chicago</td>\n",
       "      <td>Yes</td>\n",
       "      <td>Furniture</td>\n",
       "      <td>5</td>\n",
       "      <td>5</td>\n",
       "      <td>25</td>\n",
       "      <td>Cash</td>\n",
       "      <td>2</td>\n",
       "    </tr>\n",
       "    <tr>\n",
       "      <th>965</th>\n",
       "      <td>546718114</td>\n",
       "      <td>1/5/2018</td>\n",
       "      <td>13:41</td>\n",
       "      <td>Female</td>\n",
       "      <td>Water tower</td>\n",
       "      <td>Chicago</td>\n",
       "      <td>No</td>\n",
       "      <td>Groceries</td>\n",
       "      <td>18</td>\n",
       "      <td>2</td>\n",
       "      <td>36</td>\n",
       "      <td>Cash</td>\n",
       "      <td>3</td>\n",
       "    </tr>\n",
       "  </tbody>\n",
       "</table>\n",
       "</div>"
      ],
      "text/plain": [
       "     Invoice ID       Date   Time  Gender     Location     City Member  \\\n",
       "43    328132417   1/3/2018  19:01  Female  Water tower  Chicago     No   \n",
       "84    616515038  3/10/2018  14:12  Female  Water tower  Chicago    Yes   \n",
       "89    533156738  3/24/2018  13:57    Male  Water tower  Chicago     No   \n",
       "118   456069400   3/9/2018  15:21  Female  Water tower  Chicago     No   \n",
       "264   407767721  2/13/2018  13:30    Male  Water tower  Chicago    Yes   \n",
       "347   504581657   2/6/2018  10:06    Male  Water tower  Chicago     No   \n",
       "439   436393848  1/14/2018  20:39    Male  Water tower  Chicago     No   \n",
       "457   813988025   1/7/2018  17:29  Female  Water tower  Chicago    Yes   \n",
       "663   833998175  1/10/2018  10:26    Male  Water tower  Chicago     No   \n",
       "666   282446743   3/1/2018  13:58  Female  Water tower  Chicago    Yes   \n",
       "708   768261771  2/11/2018  11:55  Female  Water tower  Chicago    Yes   \n",
       "709    27577314   3/2/2018  17:01    Male  Water tower  Chicago    Yes   \n",
       "740   416735444  2/12/2018  10:54  Female  Water tower  Chicago    Yes   \n",
       "774   246818576   2/8/2018  15:55  Female  Water tower  Chicago     No   \n",
       "818   257959706  1/16/2018  13:24    Male  Water tower  Chicago     No   \n",
       "837    80579422  3/19/2018  12:50  Female  Water tower  Chicago    Yes   \n",
       "855   286183474   3/2/2018  19:56  Female  Water tower  Chicago    Yes   \n",
       "888   681108606  2/23/2018  12:37  Female  Water tower  Chicago    Yes   \n",
       "901   706434356  1/18/2018  15:32  Female  Water tower  Chicago    Yes   \n",
       "907   832788886   1/6/2018  14:36    Male  Water tower  Chicago    Yes   \n",
       "916   572172070   1/8/2018  13:02  Female  Water tower  Chicago    Yes   \n",
       "965   546718114   1/5/2018  13:41  Female  Water tower  Chicago     No   \n",
       "\n",
       "      Category  Price  Quantity  Total Payment  Rating  \n",
       "43     Fashion      9         2     18    Cash       2  \n",
       "84   Groceries     10         2     20    Cash       5  \n",
       "89    Clothing      3         2      6    Cash       4  \n",
       "118   Clothing      6         2     12    Cash       2  \n",
       "264  Groceries     12         1     12    Cash       3  \n",
       "347    Fashion      3         2      6    Cash       4  \n",
       "439   Clothing      1         2      2    Cash       5  \n",
       "457      Books     45         1     45    Cash       1  \n",
       "663   Clothing      9         4     36    Cash       2  \n",
       "666    Fashion      2         6     12    Cash       1  \n",
       "708  Groceries      6         5     30    Cash       4  \n",
       "709  Groceries      7         2     14    Cash       4  \n",
       "740  Groceries     30         1     30    Cash       5  \n",
       "774  Groceries      5         4     20    Cash       5  \n",
       "818  Groceries      7         3     21    Cash       3  \n",
       "837  Groceries      1         6      6    Cash       4  \n",
       "855    Fashion     30         1     30    Cash       3  \n",
       "888  Groceries     12         1     12    Cash       3  \n",
       "901   Sporting     14         1     14    Cash       3  \n",
       "907   Clothing      3         1      3    Cash       1  \n",
       "916  Furniture      5         5     25    Cash       2  \n",
       "965  Groceries     18         2     36    Cash       3  "
      ]
     },
     "execution_count": 47,
     "metadata": {},
     "output_type": "execute_result"
    }
   ],
   "source": [
    "df.query('Payment==\"Cash\" and City==\"Chicago\" and Total<50')"
   ]
  },
  {
   "cell_type": "markdown",
   "id": "cf36bba9",
   "metadata": {},
   "source": [
    "Total sales"
   ]
  },
  {
   "cell_type": "code",
   "execution_count": 51,
   "id": "91527be6",
   "metadata": {
    "scrolled": true
   },
   "outputs": [
    {
     "data": {
      "text/plain": [
       "207788"
      ]
     },
     "execution_count": 51,
     "metadata": {},
     "output_type": "execute_result"
    }
   ],
   "source": [
    "df.sum()['Total']"
   ]
  },
  {
   "cell_type": "markdown",
   "id": "6af73c10",
   "metadata": {},
   "source": [
    "Total item sold"
   ]
  },
  {
   "cell_type": "code",
   "execution_count": 53,
   "id": "e2589089",
   "metadata": {
    "scrolled": false
   },
   "outputs": [
    {
     "data": {
      "text/plain": [
       "4059"
      ]
     },
     "execution_count": 53,
     "metadata": {},
     "output_type": "execute_result"
    }
   ],
   "source": [
    "df.sum()['Quantity']"
   ]
  },
  {
   "cell_type": "markdown",
   "id": "348d6a68",
   "metadata": {},
   "source": [
    "Max transaction amount"
   ]
  },
  {
   "cell_type": "code",
   "execution_count": 56,
   "id": "8dcba475",
   "metadata": {
    "scrolled": true
   },
   "outputs": [
    {
     "data": {
      "text/plain": [
       "693"
      ]
     },
     "execution_count": 56,
     "metadata": {},
     "output_type": "execute_result"
    }
   ],
   "source": [
    "df.max()['Total']"
   ]
  },
  {
   "cell_type": "markdown",
   "id": "b51afeb6",
   "metadata": {},
   "source": [
    "Displaying customer information of the maximum single transaction"
   ]
  },
  {
   "cell_type": "code",
   "execution_count": 57,
   "id": "e66c4f41",
   "metadata": {
    "scrolled": true
   },
   "outputs": [
    {
     "data": {
      "text/html": [
       "<div>\n",
       "<style scoped>\n",
       "    .dataframe tbody tr th:only-of-type {\n",
       "        vertical-align: middle;\n",
       "    }\n",
       "\n",
       "    .dataframe tbody tr th {\n",
       "        vertical-align: top;\n",
       "    }\n",
       "\n",
       "    .dataframe thead th {\n",
       "        text-align: right;\n",
       "    }\n",
       "</style>\n",
       "<table border=\"1\" class=\"dataframe\">\n",
       "  <thead>\n",
       "    <tr style=\"text-align: right;\">\n",
       "      <th></th>\n",
       "      <th>Invoice ID</th>\n",
       "      <th>Date</th>\n",
       "      <th>Time</th>\n",
       "      <th>Gender</th>\n",
       "      <th>Location</th>\n",
       "      <th>City</th>\n",
       "      <th>Member</th>\n",
       "      <th>Category</th>\n",
       "      <th>Price</th>\n",
       "      <th>Quantity</th>\n",
       "      <th>Total</th>\n",
       "      <th>Payment</th>\n",
       "      <th>Rating</th>\n",
       "    </tr>\n",
       "  </thead>\n",
       "  <tbody>\n",
       "    <tr>\n",
       "      <th>47</th>\n",
       "      <td>315624039</td>\n",
       "      <td>3/30/2018</td>\n",
       "      <td>19:45</td>\n",
       "      <td>Female</td>\n",
       "      <td>Water tower</td>\n",
       "      <td>Chicago</td>\n",
       "      <td>Yes</td>\n",
       "      <td>Groceries</td>\n",
       "      <td>99</td>\n",
       "      <td>7</td>\n",
       "      <td>693</td>\n",
       "      <td>Gpay</td>\n",
       "      <td>3</td>\n",
       "    </tr>\n",
       "    <tr>\n",
       "      <th>679</th>\n",
       "      <td>270918350</td>\n",
       "      <td>3/27/2018</td>\n",
       "      <td>13:21</td>\n",
       "      <td>Female</td>\n",
       "      <td>Park lane</td>\n",
       "      <td>Dallas</td>\n",
       "      <td>Yes</td>\n",
       "      <td>Groceries</td>\n",
       "      <td>99</td>\n",
       "      <td>7</td>\n",
       "      <td>693</td>\n",
       "      <td>Gpay</td>\n",
       "      <td>2</td>\n",
       "    </tr>\n",
       "  </tbody>\n",
       "</table>\n",
       "</div>"
      ],
      "text/plain": [
       "     Invoice ID       Date   Time  Gender     Location     City Member  \\\n",
       "47    315624039  3/30/2018  19:45  Female  Water tower  Chicago    Yes   \n",
       "679   270918350  3/27/2018  13:21  Female    Park lane   Dallas    Yes   \n",
       "\n",
       "      Category  Price  Quantity  Total Payment  Rating  \n",
       "47   Groceries     99         7    693    Gpay       3  \n",
       "679  Groceries     99         7    693    Gpay       2  "
      ]
     },
     "execution_count": 57,
     "metadata": {},
     "output_type": "execute_result"
    }
   ],
   "source": [
    "df[df['Total'] == df.max()['Total'] ]"
   ]
  },
  {
   "cell_type": "code",
   "execution_count": null,
   "id": "c0c9c723",
   "metadata": {},
   "outputs": [],
   "source": [
    "What is the minimum total occured in one transaction?"
   ]
  },
  {
   "cell_type": "code",
   "execution_count": 58,
   "id": "8345b924",
   "metadata": {
    "scrolled": false
   },
   "outputs": [
    {
     "data": {
      "text/plain": [
       "1"
      ]
     },
     "execution_count": 58,
     "metadata": {},
     "output_type": "execute_result"
    }
   ],
   "source": [
    "df['Total'].min()"
   ]
  },
  {
   "cell_type": "markdown",
   "id": "781a6ed5",
   "metadata": {},
   "source": [
    "Displaying all the customer information that pay the minimum amount in single transaction"
   ]
  },
  {
   "cell_type": "code",
   "execution_count": 59,
   "id": "0db0b081",
   "metadata": {
    "scrolled": false
   },
   "outputs": [
    {
     "data": {
      "text/html": [
       "<div>\n",
       "<style scoped>\n",
       "    .dataframe tbody tr th:only-of-type {\n",
       "        vertical-align: middle;\n",
       "    }\n",
       "\n",
       "    .dataframe tbody tr th {\n",
       "        vertical-align: top;\n",
       "    }\n",
       "\n",
       "    .dataframe thead th {\n",
       "        text-align: right;\n",
       "    }\n",
       "</style>\n",
       "<table border=\"1\" class=\"dataframe\">\n",
       "  <thead>\n",
       "    <tr style=\"text-align: right;\">\n",
       "      <th></th>\n",
       "      <th>Invoice ID</th>\n",
       "      <th>Date</th>\n",
       "      <th>Time</th>\n",
       "      <th>Gender</th>\n",
       "      <th>Location</th>\n",
       "      <th>City</th>\n",
       "      <th>Member</th>\n",
       "      <th>Category</th>\n",
       "      <th>Price</th>\n",
       "      <th>Quantity</th>\n",
       "      <th>Total</th>\n",
       "      <th>Payment</th>\n",
       "      <th>Rating</th>\n",
       "    </tr>\n",
       "  </thead>\n",
       "  <tbody>\n",
       "    <tr>\n",
       "      <th>184</th>\n",
       "      <td>801334050</td>\n",
       "      <td>1/21/2018</td>\n",
       "      <td>20:18</td>\n",
       "      <td>Female</td>\n",
       "      <td>Park lane</td>\n",
       "      <td>Dallas</td>\n",
       "      <td>No</td>\n",
       "      <td>Furniture</td>\n",
       "      <td>1</td>\n",
       "      <td>1</td>\n",
       "      <td>1</td>\n",
       "      <td>Gpay</td>\n",
       "      <td>2</td>\n",
       "    </tr>\n",
       "    <tr>\n",
       "      <th>587</th>\n",
       "      <td>646176653</td>\n",
       "      <td>3/10/2018</td>\n",
       "      <td>19:39</td>\n",
       "      <td>Male</td>\n",
       "      <td>Park lane</td>\n",
       "      <td>Dallas</td>\n",
       "      <td>Yes</td>\n",
       "      <td>Sporting</td>\n",
       "      <td>1</td>\n",
       "      <td>1</td>\n",
       "      <td>1</td>\n",
       "      <td>Cash</td>\n",
       "      <td>2</td>\n",
       "    </tr>\n",
       "  </tbody>\n",
       "</table>\n",
       "</div>"
      ],
      "text/plain": [
       "     Invoice ID       Date   Time  Gender   Location    City Member  \\\n",
       "184   801334050  1/21/2018  20:18  Female  Park lane  Dallas     No   \n",
       "587   646176653  3/10/2018  19:39    Male  Park lane  Dallas    Yes   \n",
       "\n",
       "      Category  Price  Quantity  Total Payment  Rating  \n",
       "184  Furniture      1         1      1    Gpay       2  \n",
       "587   Sporting      1         1      1    Cash       2  "
      ]
     },
     "execution_count": 59,
     "metadata": {},
     "output_type": "execute_result"
    }
   ],
   "source": [
    "df[df['Total'] == df['Total'].min()]"
   ]
  },
  {
   "cell_type": "markdown",
   "id": "a8559d63",
   "metadata": {},
   "source": [
    "Average spent by a customer"
   ]
  },
  {
   "cell_type": "code",
   "execution_count": 63,
   "id": "838cf05e",
   "metadata": {},
   "outputs": [
    {
     "name": "stderr",
     "output_type": "stream",
     "text": [
      "C:\\Users\\ASUS ROG\\AppData\\Local\\Temp\\ipykernel_17920\\3639450612.py:1: FutureWarning: Dropping of nuisance columns in DataFrame reductions (with 'numeric_only=None') is deprecated; in a future version this will raise TypeError.  Select only valid columns before calling the reduction.\n",
      "  df.mean()['Total']\n"
     ]
    },
    {
     "data": {
      "text/plain": [
       "207.788"
      ]
     },
     "execution_count": 63,
     "metadata": {},
     "output_type": "execute_result"
    }
   ],
   "source": [
    "df.mean()['Total']"
   ]
  },
  {
   "cell_type": "markdown",
   "id": "30c1ec2c",
   "metadata": {},
   "source": [
    "Total amount of money according/group by to unique 'City'"
   ]
  },
  {
   "cell_type": "code",
   "execution_count": 65,
   "id": "c93eb486",
   "metadata": {},
   "outputs": [
    {
     "data": {
      "text/plain": [
       "City\n",
       "Chicago    65215\n",
       "Dallas     70432\n",
       "NewYork    72141\n",
       "Name: Total, dtype: int64"
      ]
     },
     "execution_count": 65,
     "metadata": {},
     "output_type": "execute_result"
    }
   ],
   "source": [
    "df.groupby('City').sum()['Total']"
   ]
  },
  {
   "cell_type": "markdown",
   "id": "01af6431",
   "metadata": {},
   "source": [
    "Which location that has lowest and highest sales?"
   ]
  },
  {
   "cell_type": "code",
   "execution_count": 73,
   "id": "9f558ac6",
   "metadata": {},
   "outputs": [
    {
     "data": {
      "text/plain": [
       "['Brookfield', 'Park lane', 'Water tower']"
      ]
     },
     "execution_count": 73,
     "metadata": {},
     "output_type": "execute_result"
    }
   ],
   "source": [
    "#group by location\n",
    "location_list = df.groupby('Location')\n",
    "\n",
    "location = [x for x,y in location_list]\n",
    "location"
   ]
  },
  {
   "cell_type": "code",
   "execution_count": 78,
   "id": "fe84939b",
   "metadata": {
    "scrolled": false
   },
   "outputs": [
    {
     "data": {
      "text/plain": [
       "Location\n",
       "Brookfield     72141\n",
       "Park lane      70432\n",
       "Water tower    65215\n",
       "Name: Total, dtype: int64"
      ]
     },
     "execution_count": 78,
     "metadata": {},
     "output_type": "execute_result"
    }
   ],
   "source": [
    "total = df.groupby('Location').sum()['Total']\n",
    "total"
   ]
  },
  {
   "cell_type": "code",
   "execution_count": 82,
   "id": "8226586a",
   "metadata": {
    "scrolled": true
   },
   "outputs": [
    {
     "data": {
      "image/png": "[encoded data removed]",
      "text/plain": [
       "<Figure size 432x288 with 1 Axes>"
      ]
     },
     "metadata": {
      "needs_background": "light"
     },
     "output_type": "display_data"
    }
   ],
   "source": [
    "import matplotlib.pyplot as plt\n",
    "\n",
    "plt.bar(location,total)\n",
    "plt.show()"
   ]
  },
  {
   "cell_type": "code",
   "execution_count": 91,
   "id": "b7a5b7ba",
   "metadata": {
    "scrolled": false
   },
   "outputs": [
    {
     "data": {
      "image/png": "[encoded data removed]",
      "text/plain": [
       "<Figure size 432x288 with 1 Axes>"
      ]
     },
     "metadata": {},
     "output_type": "display_data"
    }
   ],
   "source": [
    "plt.pie(total,labels=location,autopct='%1.1f%%')\n",
    "plt.show()"
   ]
  },
  {
   "cell_type": "markdown",
   "id": "0a025c89",
   "metadata": {},
   "source": [
    "Brookfield branchhas the highest sales amount as it achieved a total of 72141 which comprises 34.7 percent from total sales amount, while Water tower branch has the lowest sales amount as it achieved 65215 which populated 31.4 percent"
   ]
  },
  {
   "cell_type": "markdown",
   "id": "4346981e",
   "metadata": {},
   "source": [
    "# Classifying Shoppers\n",
    "Which location has more female customers and which location has more males?"
   ]
  },
  {
   "cell_type": "code",
   "execution_count": 105,
   "id": "5f9f548f",
   "metadata": {
    "scrolled": false
   },
   "outputs": [
    {
     "data": {
      "text/plain": [
       "Gender  Location   \n",
       "Female  Brookfield     179\n",
       "        Park lane      179\n",
       "        Water tower    143\n",
       "Male    Brookfield     161\n",
       "        Park lane      153\n",
       "        Water tower    185\n",
       "Name: Invoice ID, dtype: int64"
      ]
     },
     "execution_count": 105,
     "metadata": {},
     "output_type": "execute_result"
    }
   ],
   "source": [
    "location_sales = df.groupby(['Gender','Location']).count()['Invoice ID']\n",
    "location_sales"
   ]
  },
  {
   "cell_type": "code",
   "execution_count": 106,
   "id": "38f780d9",
   "metadata": {
    "scrolled": false
   },
   "outputs": [
    {
     "data": {
      "text/html": [
       "<div>\n",
       "<style scoped>\n",
       "    .dataframe tbody tr th:only-of-type {\n",
       "        vertical-align: middle;\n",
       "    }\n",
       "\n",
       "    .dataframe tbody tr th {\n",
       "        vertical-align: top;\n",
       "    }\n",
       "\n",
       "    .dataframe thead th {\n",
       "        text-align: right;\n",
       "    }\n",
       "</style>\n",
       "<table border=\"1\" class=\"dataframe\">\n",
       "  <thead>\n",
       "    <tr style=\"text-align: right;\">\n",
       "      <th>Gender</th>\n",
       "      <th>Female</th>\n",
       "      <th>Male</th>\n",
       "    </tr>\n",
       "    <tr>\n",
       "      <th>Location</th>\n",
       "      <th></th>\n",
       "      <th></th>\n",
       "    </tr>\n",
       "  </thead>\n",
       "  <tbody>\n",
       "    <tr>\n",
       "      <th>Brookfield</th>\n",
       "      <td>179</td>\n",
       "      <td>161</td>\n",
       "    </tr>\n",
       "    <tr>\n",
       "      <th>Park lane</th>\n",
       "      <td>179</td>\n",
       "      <td>153</td>\n",
       "    </tr>\n",
       "    <tr>\n",
       "      <th>Water tower</th>\n",
       "      <td>143</td>\n",
       "      <td>185</td>\n",
       "    </tr>\n",
       "  </tbody>\n",
       "</table>\n",
       "</div>"
      ],
      "text/plain": [
       "Gender       Female  Male\n",
       "Location                 \n",
       "Brookfield      179   161\n",
       "Park lane       179   153\n",
       "Water tower     143   185"
      ]
     },
     "execution_count": 106,
     "metadata": {},
     "output_type": "execute_result"
    }
   ],
   "source": [
    "#converting into proper row and column\n",
    "unstacked_sales = location_sales.unstack(level=0)\n",
    "unstacked_sales"
   ]
  },
  {
   "cell_type": "code",
   "execution_count": 229,
   "id": "1102ea85",
   "metadata": {
    "scrolled": false
   },
   "outputs": [
    {
     "data": {
      "image/png": "[encoded data removed]",
      "text/plain": [
       "<Figure size 432x288 with 1 Axes>"
      ]
     },
     "metadata": {
      "needs_background": "light"
     },
     "output_type": "display_data"
    }
   ],
   "source": [
    "unstacked_sales.plot(kind='bar')\n",
    "plt.show()"
   ]
  },
  {
   "cell_type": "markdown",
   "id": "b10a34c7",
   "metadata": {},
   "source": [
    "Water tower branch got the most male customers which is 185, while both Brookfield and Park Lane branches got the most female customers which are 179"
   ]
  },
  {
   "cell_type": "markdown",
   "id": "328c197f",
   "metadata": {},
   "source": [
    "Which branch has more members vs which has less member?"
   ]
  },
  {
   "cell_type": "code",
   "execution_count": 116,
   "id": "aa09d07d",
   "metadata": {
    "scrolled": false
   },
   "outputs": [
    {
     "data": {
      "text/plain": [
       "Member  Location   \n",
       "No      Brookfield     173\n",
       "        Park lane      167\n",
       "        Water tower    159\n",
       "Yes     Brookfield     167\n",
       "        Park lane      165\n",
       "        Water tower    169\n",
       "Name: Invoice ID, dtype: int64"
      ]
     },
     "execution_count": 116,
     "metadata": {},
     "output_type": "execute_result"
    }
   ],
   "source": [
    "member_sales = df.groupby(['Member','Location']).count()['Invoice ID']\n",
    "member_sales"
   ]
  },
  {
   "cell_type": "code",
   "execution_count": 119,
   "id": "44906713",
   "metadata": {},
   "outputs": [
    {
     "data": {
      "text/html": [
       "<div>\n",
       "<style scoped>\n",
       "    .dataframe tbody tr th:only-of-type {\n",
       "        vertical-align: middle;\n",
       "    }\n",
       "\n",
       "    .dataframe tbody tr th {\n",
       "        vertical-align: top;\n",
       "    }\n",
       "\n",
       "    .dataframe thead th {\n",
       "        text-align: right;\n",
       "    }\n",
       "</style>\n",
       "<table border=\"1\" class=\"dataframe\">\n",
       "  <thead>\n",
       "    <tr style=\"text-align: right;\">\n",
       "      <th>Member</th>\n",
       "      <th>No</th>\n",
       "      <th>Yes</th>\n",
       "    </tr>\n",
       "    <tr>\n",
       "      <th>Location</th>\n",
       "      <th></th>\n",
       "      <th></th>\n",
       "    </tr>\n",
       "  </thead>\n",
       "  <tbody>\n",
       "    <tr>\n",
       "      <th>Brookfield</th>\n",
       "      <td>173</td>\n",
       "      <td>167</td>\n",
       "    </tr>\n",
       "    <tr>\n",
       "      <th>Park lane</th>\n",
       "      <td>167</td>\n",
       "      <td>165</td>\n",
       "    </tr>\n",
       "    <tr>\n",
       "      <th>Water tower</th>\n",
       "      <td>159</td>\n",
       "      <td>169</td>\n",
       "    </tr>\n",
       "  </tbody>\n",
       "</table>\n",
       "</div>"
      ],
      "text/plain": [
       "Member        No  Yes\n",
       "Location             \n",
       "Brookfield   173  167\n",
       "Park lane    167  165\n",
       "Water tower  159  169"
      ]
     },
     "execution_count": 119,
     "metadata": {},
     "output_type": "execute_result"
    }
   ],
   "source": [
    "unstack_member_sales = member_sales.unstack(level=0)\n",
    "unstack_member_sales"
   ]
  },
  {
   "cell_type": "code",
   "execution_count": 134,
   "id": "4d5bc4a4",
   "metadata": {
    "scrolled": true
   },
   "outputs": [
    {
     "data": {
      "image/png": "[encoded data removed]",
      "text/plain": [
       "<Figure size 432x288 with 1 Axes>"
      ]
     },
     "metadata": {
      "needs_background": "light"
     },
     "output_type": "display_data"
    }
   ],
   "source": [
    "unstack_member_sales.plot(kind='bar')\n",
    "plt.show()"
   ]
  },
  {
   "cell_type": "markdown",
   "id": "881d466e",
   "metadata": {},
   "source": [
    "Water Tower branch got the most 'Member' customers compare to Brookfield and Park Lane"
   ]
  },
  {
   "cell_type": "markdown",
   "id": "808d9d8d",
   "metadata": {},
   "source": [
    "Which branch has highest rating and which has the lowest?"
   ]
  },
  {
   "cell_type": "code",
   "execution_count": 131,
   "id": "378de4da",
   "metadata": {
    "scrolled": true
   },
   "outputs": [
    {
     "data": {
      "text/plain": [
       "Location\n",
       "Brookfield     2.782353\n",
       "Park lane      3.021084\n",
       "Water tower    3.118902\n",
       "Name: Rating, dtype: float64"
      ]
     },
     "execution_count": 131,
     "metadata": {},
     "output_type": "execute_result"
    }
   ],
   "source": [
    "rating_location = df.groupby(['Location']).mean()['Rating']\n",
    "rating_location"
   ]
  },
  {
   "cell_type": "code",
   "execution_count": 133,
   "id": "91473d66",
   "metadata": {},
   "outputs": [
    {
     "data": {
      "image/png": "[encoded data removed]",
      "text/plain": [
       "<Figure size 432x288 with 1 Axes>"
      ]
     },
     "metadata": {
      "needs_background": "light"
     },
     "output_type": "display_data"
    }
   ],
   "source": [
    "rating_location.plot(kind='bar')\n",
    "plt.show()"
   ]
  },
  {
   "cell_type": "markdown",
   "id": "86a49774",
   "metadata": {},
   "source": [
    "The highest average rating is from Water Tower branche, while the lowest is Brookfield"
   ]
  },
  {
   "cell_type": "markdown",
   "id": "9e326096",
   "metadata": {},
   "source": [
    "Which city has more females shoppers?"
   ]
  },
  {
   "cell_type": "code",
   "execution_count": 141,
   "id": "d800b54a",
   "metadata": {},
   "outputs": [
    {
     "data": {
      "text/plain": [
       "Gender  City   \n",
       "Female  Chicago    143\n",
       "        Dallas     179\n",
       "        NewYork    179\n",
       "Male    Chicago    185\n",
       "        Dallas     153\n",
       "        NewYork    161\n",
       "Name: Invoice ID, dtype: int64"
      ]
     },
     "execution_count": 141,
     "metadata": {},
     "output_type": "execute_result"
    }
   ],
   "source": [
    "city_gender = df.groupby(['Gender','City']).count()['Invoice ID']\n",
    "city_gender"
   ]
  },
  {
   "cell_type": "code",
   "execution_count": 142,
   "id": "f9e34160",
   "metadata": {
    "scrolled": false
   },
   "outputs": [
    {
     "data": {
      "text/html": [
       "<div>\n",
       "<style scoped>\n",
       "    .dataframe tbody tr th:only-of-type {\n",
       "        vertical-align: middle;\n",
       "    }\n",
       "\n",
       "    .dataframe tbody tr th {\n",
       "        vertical-align: top;\n",
       "    }\n",
       "\n",
       "    .dataframe thead th {\n",
       "        text-align: right;\n",
       "    }\n",
       "</style>\n",
       "<table border=\"1\" class=\"dataframe\">\n",
       "  <thead>\n",
       "    <tr style=\"text-align: right;\">\n",
       "      <th>Gender</th>\n",
       "      <th>Female</th>\n",
       "      <th>Male</th>\n",
       "    </tr>\n",
       "    <tr>\n",
       "      <th>City</th>\n",
       "      <th></th>\n",
       "      <th></th>\n",
       "    </tr>\n",
       "  </thead>\n",
       "  <tbody>\n",
       "    <tr>\n",
       "      <th>Chicago</th>\n",
       "      <td>143</td>\n",
       "      <td>185</td>\n",
       "    </tr>\n",
       "    <tr>\n",
       "      <th>Dallas</th>\n",
       "      <td>179</td>\n",
       "      <td>153</td>\n",
       "    </tr>\n",
       "    <tr>\n",
       "      <th>NewYork</th>\n",
       "      <td>179</td>\n",
       "      <td>161</td>\n",
       "    </tr>\n",
       "  </tbody>\n",
       "</table>\n",
       "</div>"
      ],
      "text/plain": [
       "Gender   Female  Male\n",
       "City                 \n",
       "Chicago     143   185\n",
       "Dallas      179   153\n",
       "NewYork     179   161"
      ]
     },
     "execution_count": 142,
     "metadata": {},
     "output_type": "execute_result"
    }
   ],
   "source": [
    "unstack_city_gender = city_gender.unstack(level=0)\n",
    "unstack_city_gender "
   ]
  },
  {
   "cell_type": "code",
   "execution_count": 144,
   "id": "e3aa9e6a",
   "metadata": {
    "scrolled": true
   },
   "outputs": [
    {
     "data": {
      "image/png": "[encoded data removed]",
      "text/plain": [
       "<Figure size 432x288 with 1 Axes>"
      ]
     },
     "metadata": {
      "needs_background": "light"
     },
     "output_type": "display_data"
    }
   ],
   "source": [
    "unstack_city_gender.plot(kind='bar')\n",
    "plt.show()"
   ]
  },
  {
   "cell_type": "code",
   "execution_count": null,
   "id": "fab17979",
   "metadata": {},
   "outputs": [],
   "source": [
    "Dallas and NewYork has more female customers (179) compare to Chicago that has only 143 female shoppers"
   ]
  },
  {
   "cell_type": "markdown",
   "id": "8286a90c",
   "metadata": {},
   "source": [
    "Who spends more, men or women?"
   ]
  },
  {
   "cell_type": "code",
   "execution_count": 149,
   "id": "e2531bb0",
   "metadata": {},
   "outputs": [
    {
     "data": {
      "text/plain": [
       "Gender\n",
       "Female    106452\n",
       "Male      101336\n",
       "Name: Total, dtype: int64"
      ]
     },
     "execution_count": 149,
     "metadata": {},
     "output_type": "execute_result"
    }
   ],
   "source": [
    "gender_spend = df.groupby('Gender').sum()['Total']\n",
    "gender_spend"
   ]
  },
  {
   "cell_type": "code",
   "execution_count": 223,
   "id": "90e94e4b",
   "metadata": {
    "scrolled": false
   },
   "outputs": [
    {
     "data": {
      "image/png": "[encoded data removed]",
      "text/plain": [
       "<Figure size 432x288 with 1 Axes>"
      ]
     },
     "metadata": {
      "needs_background": "light"
     },
     "output_type": "display_data"
    }
   ],
   "source": [
    "gender_spend.plot(kind='bar')\n",
    "plt.show()"
   ]
  },
  {
   "cell_type": "markdown",
   "id": "bdf3cdf2",
   "metadata": {},
   "source": [
    "Female customers has spent 106452 while male customers spent only 101336. Female customers has spent 5116 more than male customers"
   ]
  },
  {
   "cell_type": "markdown",
   "id": "f70e0829",
   "metadata": {},
   "source": [
    "Which type of customer spends more member or a non member?"
   ]
  },
  {
   "cell_type": "code",
   "execution_count": 159,
   "id": "dc1e0b9f",
   "metadata": {
    "scrolled": false
   },
   "outputs": [
    {
     "data": {
      "text/plain": [
       "Member\n",
       "No     100245\n",
       "Yes    107543\n",
       "Name: Total, dtype: int64"
      ]
     },
     "execution_count": 159,
     "metadata": {},
     "output_type": "execute_result"
    }
   ],
   "source": [
    "member_spent = df.groupby(['Member']).sum()['Total']\n",
    "member_spent"
   ]
  },
  {
   "cell_type": "code",
   "execution_count": 161,
   "id": "b7872f44",
   "metadata": {
    "scrolled": false
   },
   "outputs": [
    {
     "data": {
      "image/png": "[encoded data removed]",
      "text/plain": [
       "<Figure size 432x288 with 1 Axes>"
      ]
     },
     "metadata": {
      "needs_background": "light"
     },
     "output_type": "display_data"
    }
   ],
   "source": [
    "member_spent.plot(kind='bar')\n",
    "plt.show()"
   ]
  },
  {
   "cell_type": "code",
   "execution_count": null,
   "id": "3118560c",
   "metadata": {},
   "outputs": [],
   "source": [
    "Customers that have membership have spent 107543 , while the non member customers has spent 100245. The customers that have membership spent 7298 more than non membership customer"
   ]
  },
  {
   "cell_type": "markdown",
   "id": "86cbe937",
   "metadata": {},
   "source": [
    "Which product line sells more"
   ]
  },
  {
   "cell_type": "code",
   "execution_count": 167,
   "id": "f3cceeac",
   "metadata": {
    "scrolled": true
   },
   "outputs": [
    {
     "data": {
      "text/plain": [
       "Category\n",
       "Books        681\n",
       "Clothing     705\n",
       "Fashion      628\n",
       "Furniture    668\n",
       "Groceries    660\n",
       "Sporting     717\n",
       "Name: Quantity, dtype: int64"
      ]
     },
     "execution_count": 167,
     "metadata": {},
     "output_type": "execute_result"
    }
   ],
   "source": [
    "category_sales = df.groupby(['Category']).sum()['Quantity']\n",
    "category_sales"
   ]
  },
  {
   "cell_type": "code",
   "execution_count": 172,
   "id": "bd329c82",
   "metadata": {
    "scrolled": false
   },
   "outputs": [
    {
     "data": {
      "image/png": "[encoded data removed]",
      "text/plain": [
       "<Figure size 432x288 with 1 Axes>"
      ]
     },
     "metadata": {
      "needs_background": "light"
     },
     "output_type": "display_data"
    }
   ],
   "source": [
    "category_sales_sorted = category_sales.sort_values()\n",
    "category_sales_sorted.plot(kind='barh')\n",
    "plt.xlabel('Total Quantity Sold')\n",
    "plt.ylabel('Category')\n",
    "plt.title('Total Quantity Sold by Category (Horizontal Bar - Descending)')\n",
    "plt.show()"
   ]
  },
  {
   "cell_type": "markdown",
   "id": "e3a4ba05",
   "metadata": {},
   "source": [
    "The Sporting category product line sells the most while Fashion category sells the least"
   ]
  },
  {
   "cell_type": "markdown",
   "id": "9098cb16",
   "metadata": {},
   "source": [
    "Which product line is popular among men vs women"
   ]
  },
  {
   "cell_type": "code",
   "execution_count": 183,
   "id": "c85ac8c9",
   "metadata": {},
   "outputs": [],
   "source": [
    "gender_category_sales = df.groupby(['Category','Gender']).count()['Quantity']\n"
   ]
  },
  {
   "cell_type": "code",
   "execution_count": 181,
   "id": "1f548da7",
   "metadata": {
    "scrolled": true
   },
   "outputs": [
    {
     "data": {
      "text/html": [
       "<div>\n",
       "<style scoped>\n",
       "    .dataframe tbody tr th:only-of-type {\n",
       "        vertical-align: middle;\n",
       "    }\n",
       "\n",
       "    .dataframe tbody tr th {\n",
       "        vertical-align: top;\n",
       "    }\n",
       "\n",
       "    .dataframe thead th {\n",
       "        text-align: right;\n",
       "    }\n",
       "</style>\n",
       "<table border=\"1\" class=\"dataframe\">\n",
       "  <thead>\n",
       "    <tr style=\"text-align: right;\">\n",
       "      <th>Gender</th>\n",
       "      <th>Female</th>\n",
       "      <th>Male</th>\n",
       "    </tr>\n",
       "    <tr>\n",
       "      <th>Category</th>\n",
       "      <th></th>\n",
       "      <th></th>\n",
       "    </tr>\n",
       "  </thead>\n",
       "  <tbody>\n",
       "    <tr>\n",
       "      <th>Books</th>\n",
       "      <td>88</td>\n",
       "      <td>77</td>\n",
       "    </tr>\n",
       "    <tr>\n",
       "      <th>Clothing</th>\n",
       "      <td>81</td>\n",
       "      <td>89</td>\n",
       "    </tr>\n",
       "    <tr>\n",
       "      <th>Fashion</th>\n",
       "      <td>81</td>\n",
       "      <td>72</td>\n",
       "    </tr>\n",
       "    <tr>\n",
       "      <th>Furniture</th>\n",
       "      <td>78</td>\n",
       "      <td>82</td>\n",
       "    </tr>\n",
       "    <tr>\n",
       "      <th>Groceries</th>\n",
       "      <td>87</td>\n",
       "      <td>87</td>\n",
       "    </tr>\n",
       "    <tr>\n",
       "      <th>Sporting</th>\n",
       "      <td>86</td>\n",
       "      <td>92</td>\n",
       "    </tr>\n",
       "  </tbody>\n",
       "</table>\n",
       "</div>"
      ],
      "text/plain": [
       "Gender     Female  Male\n",
       "Category               \n",
       "Books          88    77\n",
       "Clothing       81    89\n",
       "Fashion        81    72\n",
       "Furniture      78    82\n",
       "Groceries      87    87\n",
       "Sporting       86    92"
      ]
     },
     "execution_count": 181,
     "metadata": {},
     "output_type": "execute_result"
    }
   ],
   "source": [
    "unstack_gender_category_sales = gender_category_sales.unstack(level=0)\n",
    "unstack_gender_category_sales"
   ]
  },
  {
   "cell_type": "code",
   "execution_count": 185,
   "id": "591d6ffd",
   "metadata": {
    "scrolled": false
   },
   "outputs": [
    {
     "data": {
      "image/png": "[encoded data removed]",
      "text/plain": [
       "<Figure size 432x288 with 1 Axes>"
      ]
     },
     "metadata": {
      "needs_background": "light"
     },
     "output_type": "display_data"
    }
   ],
   "source": [
    "unstack_gender_category_sales.plot(kind='bar')\n",
    "plt.show()"
   ]
  },
  {
   "cell_type": "code",
   "execution_count": null,
   "id": "f5f9b3dd",
   "metadata": {},
   "outputs": [],
   "source": [
    "The books category is the most popular among female customers, while the Sporting category has the most popular among male customers "
   ]
  },
  {
   "cell_type": "markdown",
   "id": "c06fce21",
   "metadata": {},
   "source": [
    "What days of the month make most sales"
   ]
  },
  {
   "cell_type": "code",
   "execution_count": 192,
   "id": "ac9d82bd",
   "metadata": {},
   "outputs": [],
   "source": [
    "df['Day'] = pd.to_datetime(df['Date']).dt.day"
   ]
  },
  {
   "cell_type": "code",
   "execution_count": 193,
   "id": "2bf83f02",
   "metadata": {
    "scrolled": true
   },
   "outputs": [
    {
     "data": {
      "text/html": [
       "<div>\n",
       "<style scoped>\n",
       "    .dataframe tbody tr th:only-of-type {\n",
       "        vertical-align: middle;\n",
       "    }\n",
       "\n",
       "    .dataframe tbody tr th {\n",
       "        vertical-align: top;\n",
       "    }\n",
       "\n",
       "    .dataframe thead th {\n",
       "        text-align: right;\n",
       "    }\n",
       "</style>\n",
       "<table border=\"1\" class=\"dataframe\">\n",
       "  <thead>\n",
       "    <tr style=\"text-align: right;\">\n",
       "      <th></th>\n",
       "      <th>Invoice ID</th>\n",
       "      <th>Date</th>\n",
       "      <th>Time</th>\n",
       "      <th>Gender</th>\n",
       "      <th>Location</th>\n",
       "      <th>City</th>\n",
       "      <th>Member</th>\n",
       "      <th>Category</th>\n",
       "      <th>Price</th>\n",
       "      <th>Quantity</th>\n",
       "      <th>Total</th>\n",
       "      <th>Payment</th>\n",
       "      <th>Rating</th>\n",
       "      <th>Day</th>\n",
       "    </tr>\n",
       "  </thead>\n",
       "  <tbody>\n",
       "    <tr>\n",
       "      <th>0</th>\n",
       "      <td>460489604</td>\n",
       "      <td>1/25/2018</td>\n",
       "      <td>16:46</td>\n",
       "      <td>Male</td>\n",
       "      <td>Brookfield</td>\n",
       "      <td>NewYork</td>\n",
       "      <td>Yes</td>\n",
       "      <td>Groceries</td>\n",
       "      <td>30</td>\n",
       "      <td>1</td>\n",
       "      <td>30</td>\n",
       "      <td>Cash</td>\n",
       "      <td>2</td>\n",
       "      <td>25</td>\n",
       "    </tr>\n",
       "    <tr>\n",
       "      <th>1</th>\n",
       "      <td>471006167</td>\n",
       "      <td>3/19/2018</td>\n",
       "      <td>16:48</td>\n",
       "      <td>Female</td>\n",
       "      <td>Water tower</td>\n",
       "      <td>Chicago</td>\n",
       "      <td>Yes</td>\n",
       "      <td>Fashion</td>\n",
       "      <td>35</td>\n",
       "      <td>5</td>\n",
       "      <td>175</td>\n",
       "      <td>Card</td>\n",
       "      <td>3</td>\n",
       "      <td>19</td>\n",
       "    </tr>\n",
       "    <tr>\n",
       "      <th>2</th>\n",
       "      <td>411909258</td>\n",
       "      <td>2/25/2018</td>\n",
       "      <td>13:33</td>\n",
       "      <td>Male</td>\n",
       "      <td>Water tower</td>\n",
       "      <td>Chicago</td>\n",
       "      <td>No</td>\n",
       "      <td>Clothing</td>\n",
       "      <td>57</td>\n",
       "      <td>2</td>\n",
       "      <td>114</td>\n",
       "      <td>Cash</td>\n",
       "      <td>5</td>\n",
       "      <td>25</td>\n",
       "    </tr>\n",
       "    <tr>\n",
       "      <th>3</th>\n",
       "      <td>487313402</td>\n",
       "      <td>1/22/2018</td>\n",
       "      <td>13:38</td>\n",
       "      <td>Female</td>\n",
       "      <td>Park lane</td>\n",
       "      <td>Dallas</td>\n",
       "      <td>Yes</td>\n",
       "      <td>Sporting</td>\n",
       "      <td>89</td>\n",
       "      <td>4</td>\n",
       "      <td>356</td>\n",
       "      <td>Gpay</td>\n",
       "      <td>1</td>\n",
       "      <td>22</td>\n",
       "    </tr>\n",
       "    <tr>\n",
       "      <th>4</th>\n",
       "      <td>197763430</td>\n",
       "      <td>2/18/2018</td>\n",
       "      <td>15:31</td>\n",
       "      <td>Female</td>\n",
       "      <td>Park lane</td>\n",
       "      <td>Dallas</td>\n",
       "      <td>No</td>\n",
       "      <td>Books</td>\n",
       "      <td>82</td>\n",
       "      <td>5</td>\n",
       "      <td>410</td>\n",
       "      <td>Cash</td>\n",
       "      <td>4</td>\n",
       "      <td>18</td>\n",
       "    </tr>\n",
       "  </tbody>\n",
       "</table>\n",
       "</div>"
      ],
      "text/plain": [
       "   Invoice ID       Date   Time  Gender     Location     City Member  \\\n",
       "0   460489604  1/25/2018  16:46    Male   Brookfield  NewYork    Yes   \n",
       "1   471006167  3/19/2018  16:48  Female  Water tower  Chicago    Yes   \n",
       "2   411909258  2/25/2018  13:33    Male  Water tower  Chicago     No   \n",
       "3   487313402  1/22/2018  13:38  Female    Park lane   Dallas    Yes   \n",
       "4   197763430  2/18/2018  15:31  Female    Park lane   Dallas     No   \n",
       "\n",
       "    Category  Price  Quantity  Total Payment  Rating  Day  \n",
       "0  Groceries     30         1     30    Cash       2   25  \n",
       "1    Fashion     35         5    175    Card       3   19  \n",
       "2   Clothing     57         2    114    Cash       5   25  \n",
       "3   Sporting     89         4    356    Gpay       1   22  \n",
       "4      Books     82         5    410    Cash       4   18  "
      ]
     },
     "execution_count": 193,
     "metadata": {},
     "output_type": "execute_result"
    }
   ],
   "source": [
    "df.head()"
   ]
  },
  {
   "cell_type": "code",
   "execution_count": 197,
   "id": "2450a09f",
   "metadata": {
    "scrolled": true
   },
   "outputs": [
    {
     "data": {
      "text/plain": [
       "Day\n",
       "1     6301\n",
       "2     8247\n",
       "3     8533\n",
       "4     6593\n",
       "5     9177\n",
       "6     5976\n",
       "7     6164\n",
       "8     8313\n",
       "9     9142\n",
       "10    6444\n",
       "11    4755\n",
       "12    7714\n",
       "13    5688\n",
       "14    7978\n",
       "15    9677\n",
       "16    5912\n",
       "17    5833\n",
       "18    4625\n",
       "19    7481\n",
       "20    7333\n",
       "21    4300\n",
       "22    5788\n",
       "23    6949\n",
       "24    7819\n",
       "25    8638\n",
       "26    7165\n",
       "27    8154\n",
       "28    6467\n",
       "29    4662\n",
       "30    3530\n",
       "31    2430\n",
       "Name: Total, dtype: int64"
      ]
     },
     "execution_count": 197,
     "metadata": {},
     "output_type": "execute_result"
    }
   ],
   "source": [
    "sales_day = df.groupby(['Day']).sum()['Total']\n",
    "sales_day"
   ]
  },
  {
   "cell_type": "code",
   "execution_count": 230,
   "id": "944f43e6",
   "metadata": {
    "scrolled": true
   },
   "outputs": [
    {
     "data": {
      "image/png": "[encoded data removed]",
      "text/plain": [
       "<Figure size 432x288 with 1 Axes>"
      ]
     },
     "metadata": {
      "needs_background": "light"
     },
     "output_type": "display_data"
    }
   ],
   "source": [
    "sales_day.plot(grid='True')\n",
    "plt.show()"
   ]
  },
  {
   "cell_type": "code",
   "execution_count": null,
   "id": "24f88a2f",
   "metadata": {},
   "outputs": [],
   "source": [
    "On 15th day has the most sales which comprises a total of 9677"
   ]
  },
  {
   "cell_type": "markdown",
   "id": "065f4c98",
   "metadata": {},
   "source": [
    "What of the month make most sales"
   ]
  },
  {
   "cell_type": "code",
   "execution_count": 201,
   "id": "d707f587",
   "metadata": {},
   "outputs": [],
   "source": [
    "df['Month'] = pd.to_datetime(df['Date']).dt.month"
   ]
  },
  {
   "cell_type": "code",
   "execution_count": 204,
   "id": "3e0c53e3",
   "metadata": {
    "scrolled": false
   },
   "outputs": [
    {
     "data": {
      "text/plain": [
       "Month\n",
       "1    71652\n",
       "2    63850\n",
       "3    72286\n",
       "Name: Total, dtype: int64"
      ]
     },
     "execution_count": 204,
     "metadata": {},
     "output_type": "execute_result"
    }
   ],
   "source": [
    "sales_month = df.groupby(['Month']).sum()['Total']\n",
    "sales_month"
   ]
  },
  {
   "cell_type": "code",
   "execution_count": 206,
   "id": "a456fe80",
   "metadata": {
    "scrolled": false
   },
   "outputs": [
    {
     "data": {
      "text/plain": [
       "<AxesSubplot:xlabel='Month'>"
      ]
     },
     "execution_count": 206,
     "metadata": {},
     "output_type": "execute_result"
    },
    {
     "data": {
      "image/png": "[encoded data removed]",
      "text/plain": [
       "<Figure size 432x288 with 1 Axes>"
      ]
     },
     "metadata": {
      "needs_background": "light"
     },
     "output_type": "display_data"
    }
   ],
   "source": [
    "sales_month.plot(kind='bar')"
   ]
  },
  {
   "cell_type": "code",
   "execution_count": null,
   "id": "b6a8c11a",
   "metadata": {},
   "outputs": [],
   "source": [
    "Month 3 has the most sales while Month 2 has the lowest sales"
   ]
  },
  {
   "cell_type": "markdown",
   "id": "015b7ad3",
   "metadata": {},
   "source": [
    "What of the hours make most sales"
   ]
  },
  {
   "cell_type": "code",
   "execution_count": 213,
   "id": "14ed87b1",
   "metadata": {
    "scrolled": true
   },
   "outputs": [],
   "source": [
    "df['Hour'] = pd.to_datetime(df['Time']).dt.hour"
   ]
  },
  {
   "cell_type": "code",
   "execution_count": 217,
   "id": "5afe846d",
   "metadata": {
    "scrolled": true
   },
   "outputs": [
    {
     "data": {
      "text/plain": [
       "Hour\n",
       "10    20235\n",
       "11    20274\n",
       "12    17396\n",
       "13    22146\n",
       "14    15084\n",
       "15    23717\n",
       "16    14708\n",
       "17    14443\n",
       "18    20528\n",
       "19    24221\n",
       "20    15036\n",
       "Name: Total, dtype: int64"
      ]
     },
     "execution_count": 217,
     "metadata": {},
     "output_type": "execute_result"
    }
   ],
   "source": [
    "sales_hour = df.groupby(['Hour']).sum()['Total']\n",
    "sales_hour"
   ]
  },
  {
   "cell_type": "code",
   "execution_count": 231,
   "id": "304eb544",
   "metadata": {
    "scrolled": false
   },
   "outputs": [
    {
     "data": {
      "image/png": "[encoded data removed]",
      "text/plain": [
       "<Figure size 432x288 with 1 Axes>"
      ]
     },
     "metadata": {
      "needs_background": "light"
     },
     "output_type": "display_data"
    }
   ],
   "source": [
    "sales_hour.plot(grid='True')\n",
    "plt.show()"
   ]
  },
  {
   "cell_type": "code",
   "execution_count": null,
   "id": "99b6a116",
   "metadata": {},
   "outputs": [],
   "source": [
    "Around 7:00 pm has the most sales while on 5 pm has the lowest sales"
   ]
  }
 ],
 "metadata": {
  "kernelspec": {
   "display_name": "Python 3 (ipykernel)",
   "language": "python",
   "name": "python3"
  },
  "language_info": {
   "codemirror_mode": {
    "name": "ipython",
    "version": 3
   },
   "file_extension": ".py",
   "mimetype": "text/x-python",
   "name": "python",
   "nbconvert_exporter": "python",
   "pygments_lexer": "ipython3",
   "version": "3.9.12"
  }
 },
 "nbformat": 4,
 "nbformat_minor": 5
}
